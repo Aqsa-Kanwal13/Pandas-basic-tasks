{
 "cells": [
  {
   "cell_type": "markdown",
   "id": "960c1eed",
   "metadata": {},
   "source": [
    "# Pandas"
   ]
  },
  {
   "cell_type": "code",
   "execution_count": 8,
   "id": "fa3d79b8",
   "metadata": {},
   "outputs": [
    {
     "name": "stdout",
     "output_type": "stream",
     "text": [
      "2.0.3\n"
     ]
    }
   ],
   "source": [
    "import pandas as pd\n",
    "print(pd.__version__)"
   ]
  },
  {
   "cell_type": "markdown",
   "id": "e1b211e1",
   "metadata": {},
   "source": [
    "# Series"
   ]
  },
  {
   "cell_type": "code",
   "execution_count": 15,
   "id": "24ba44ca",
   "metadata": {},
   "outputs": [
    {
     "name": "stdout",
     "output_type": "stream",
     "text": [
      "0    1\n",
      "1    2\n",
      "2    3\n",
      "3    4\n",
      "4    5\n",
      "5    6\n",
      "6    7\n",
      "dtype: int64\n",
      "<class 'pandas.core.series.Series'>\n"
     ]
    }
   ],
   "source": [
    "import pandas as pd\n",
    "arr=[1,2,3,4,5,6,7]\n",
    "arrnew=pd.Series(arr)\n",
    "print(arrnew)\n",
    "print(type(arrnew))"
   ]
  },
  {
   "cell_type": "code",
   "execution_count": 17,
   "id": "acb2d7e5",
   "metadata": {},
   "outputs": [
    {
     "name": "stdout",
     "output_type": "stream",
     "text": [
      "0    1.0\n",
      "1    2.0\n",
      "2    3.0\n",
      "3    4.0\n",
      "4    5.0\n",
      "5    6.0\n",
      "6    7.0\n",
      "Name: python, dtype: float64\n",
      "<class 'pandas.core.series.Series'>\n"
     ]
    }
   ],
   "source": [
    "import pandas as pd\n",
    "arr=[1,2,3,4,5,6,7]\n",
    "arrnew=pd.Series(arr, dtype='float', name='python')\n",
    "print(arrnew)\n",
    "print(type(arrnew))"
   ]
  },
  {
   "cell_type": "code",
   "execution_count": 18,
   "id": "172f20dc",
   "metadata": {},
   "outputs": [
    {
     "name": "stdout",
     "output_type": "stream",
     "text": [
      "1    12\n",
      "2    12\n",
      "3    12\n",
      "4    12\n",
      "5    12\n",
      "6    12\n",
      "dtype: int64\n"
     ]
    }
   ],
   "source": [
    "s=pd.Series(12,index=[1,2,3,4,5,6])\n",
    "print(s)"
   ]
  },
  {
   "cell_type": "code",
   "execution_count": 20,
   "id": "bae97cf0",
   "metadata": {},
   "outputs": [
    {
     "name": "stdout",
     "output_type": "stream",
     "text": [
      "1    24.0\n",
      "2    24.0\n",
      "3    24.0\n",
      "4    24.0\n",
      "5     NaN\n",
      "6     NaN\n",
      "dtype: float64\n"
     ]
    }
   ],
   "source": [
    "s1=pd.Series(12,index=[1,2,3,4,5,6])\n",
    "s2=pd.Series(12,index=[1,2,3,4])\n",
    "print(s1+s2)"
   ]
  },
  {
   "cell_type": "markdown",
   "id": "bf84d0c8",
   "metadata": {},
   "source": [
    "# Labels"
   ]
  },
  {
   "cell_type": "code",
   "execution_count": 3,
   "id": "5a773d0b",
   "metadata": {},
   "outputs": [
    {
     "name": "stdout",
     "output_type": "stream",
     "text": [
      "4\n"
     ]
    }
   ],
   "source": [
    "print(arrnew[3])"
   ]
  },
  {
   "cell_type": "code",
   "execution_count": 5,
   "id": "4cc03747",
   "metadata": {},
   "outputs": [
    {
     "name": "stdout",
     "output_type": "stream",
     "text": [
      "x    1\n",
      "y    2\n",
      "z    3\n",
      "dtype: int64\n"
     ]
    }
   ],
   "source": [
    "a=[1,2,3]\n",
    "newa=pd.Series(a,index=[\"x\",\"y\",\"z\"])\n",
    "print(newa)"
   ]
  },
  {
   "cell_type": "code",
   "execution_count": 6,
   "id": "9f5585fe",
   "metadata": {},
   "outputs": [
    {
     "name": "stdout",
     "output_type": "stream",
     "text": [
      "2\n"
     ]
    }
   ],
   "source": [
    "print(newa[\"y\"])"
   ]
  },
  {
   "cell_type": "markdown",
   "id": "5fb23d50",
   "metadata": {},
   "source": [
    "# Key/Value Objects as Series"
   ]
  },
  {
   "cell_type": "code",
   "execution_count": 7,
   "id": "a6ace0d9",
   "metadata": {},
   "outputs": [
    {
     "name": "stdout",
     "output_type": "stream",
     "text": [
      "0    zero\n",
      "1     one\n",
      "2     two\n",
      "dtype: object\n"
     ]
    }
   ],
   "source": [
    "mydict={\"0\":\"zero\",\"1\":\"one\",\"2\":\"two\"}\n",
    "a=pd.Series(mydict)\n",
    "print(a)"
   ]
  },
  {
   "cell_type": "code",
   "execution_count": 8,
   "id": "600472f0",
   "metadata": {},
   "outputs": [
    {
     "name": "stdout",
     "output_type": "stream",
     "text": [
      "0    zero\n",
      "1     one\n",
      "dtype: object\n"
     ]
    }
   ],
   "source": [
    "mydict={\"0\":\"zero\",\"1\":\"one\",\"2\":\"two\"}\n",
    "a=pd.Series(mydict,index=[\"0\",\"1\"])\n",
    "print(a)"
   ]
  },
  {
   "cell_type": "markdown",
   "id": "fa95498e",
   "metadata": {},
   "source": [
    "# DataFrames"
   ]
  },
  {
   "cell_type": "code",
   "execution_count": 22,
   "id": "88477887",
   "metadata": {},
   "outputs": [
    {
     "name": "stdout",
     "output_type": "stream",
     "text": [
      "   0\n",
      "0  1\n",
      "1  2\n",
      "2  3\n",
      "3  4\n",
      "4  5\n"
     ]
    }
   ],
   "source": [
    "import pandas as pd\n",
    "x=[1,2,3,4,5]\n",
    "xnew=pd.DataFrame(x)\n",
    "print(xnew)"
   ]
  },
  {
   "cell_type": "code",
   "execution_count": 10,
   "id": "63f8f200",
   "metadata": {},
   "outputs": [
    {
     "name": "stdout",
     "output_type": "stream",
     "text": [
      "   No  Words\n",
      "0   0   zero\n",
      "1   1    one\n",
      "2   2    two\n",
      "3   3  three\n",
      "4   4   four\n",
      "5   5   five\n"
     ]
    }
   ],
   "source": [
    "import pandas as pd\n",
    "x={\"No\":[0,1,2,3,4,5],\"Words\":[\"zero\",\"one\",\"two\",\"three\",\"four\",\"five\"]}\n",
    "xnew=pd.DataFrame(x)\n",
    "print(xnew)"
   ]
  },
  {
   "cell_type": "code",
   "execution_count": 25,
   "id": "b4e8d55d",
   "metadata": {},
   "outputs": [
    {
     "name": "stdout",
     "output_type": "stream",
     "text": [
      "   0  1  2\n",
      "0  1  2  3\n",
      "1  4  5  6\n"
     ]
    }
   ],
   "source": [
    "import pandas as pd\n",
    "list_1=[[1,2,3],[4,5,6]]\n",
    "newlist=pd.DataFrame(list_1)\n",
    "print(newlist)"
   ]
  },
  {
   "cell_type": "code",
   "execution_count": 27,
   "id": "9d667604",
   "metadata": {},
   "outputs": [
    {
     "name": "stdout",
     "output_type": "stream",
     "text": [
      "   s  r\n",
      "0  1  1\n",
      "1  2  2\n",
      "2  3  3\n"
     ]
    }
   ],
   "source": [
    "sr={\"s\":pd.Series([1,2,3]),\"r\":pd.Series([1,2,3])}\n",
    "srnew=pd.DataFrame(sr)\n",
    "print(srnew)"
   ]
  },
  {
   "cell_type": "code",
   "execution_count": 23,
   "id": "2df95693",
   "metadata": {},
   "outputs": [
    {
     "name": "stdout",
     "output_type": "stream",
     "text": [
      "   Words\n",
      "0   zero\n",
      "1    one\n",
      "2    two\n",
      "3  three\n",
      "4   four\n",
      "5   five\n"
     ]
    }
   ],
   "source": [
    "import pandas as pd\n",
    "x={\"No\":[0,1,2,3,4,5],\"Words\":[\"zero\",\"one\",\"two\",\"three\",\"four\",\"five\"]}\n",
    "xnew=pd.DataFrame(x,columns=[\"Words\"])\n",
    "print(xnew)"
   ]
  },
  {
   "cell_type": "code",
   "execution_count": 24,
   "id": "862bdf66",
   "metadata": {},
   "outputs": [
    {
     "name": "stdout",
     "output_type": "stream",
     "text": [
      "three\n"
     ]
    }
   ],
   "source": [
    "print(xnew[\"Words\"][3])"
   ]
  },
  {
   "cell_type": "markdown",
   "id": "ac3da6ef",
   "metadata": {},
   "source": [
    "# Locate row"
   ]
  },
  {
   "cell_type": "code",
   "execution_count": 12,
   "id": "2f90707f",
   "metadata": {},
   "outputs": [
    {
     "name": "stdout",
     "output_type": "stream",
     "text": [
      "   No  Words\n",
      "0   0   zero\n",
      "1   1    one\n",
      "2   2    two\n",
      "3   3  three\n",
      "4   4   four\n",
      "5   5   five\n"
     ]
    }
   ],
   "source": [
    "import pandas as pd\n",
    "x={\"No\":[0,1,2,3,4,5],\"Words\":[\"zero\",\"one\",\"two\",\"three\",\"four\",\"five\"]}\n",
    "xnew=pd.DataFrame(x)\n",
    "print(xnew)"
   ]
  },
  {
   "cell_type": "code",
   "execution_count": 16,
   "id": "f5791865",
   "metadata": {},
   "outputs": [
    {
     "name": "stdout",
     "output_type": "stream",
     "text": [
      "No         2\n",
      "Words    two\n",
      "Name: 2, dtype: object\n"
     ]
    }
   ],
   "source": [
    "print(xnew.loc[2])"
   ]
  },
  {
   "cell_type": "code",
   "execution_count": 18,
   "id": "18cd8f71",
   "metadata": {},
   "outputs": [
    {
     "name": "stdout",
     "output_type": "stream",
     "text": [
      "   No Words\n",
      "1   1   one\n",
      "2   2   two\n"
     ]
    }
   ],
   "source": [
    "print(xnew.loc[[1,2]])"
   ]
  },
  {
   "cell_type": "markdown",
   "id": "930fca86",
   "metadata": {},
   "source": [
    "# Named Indexes"
   ]
  },
  {
   "cell_type": "code",
   "execution_count": 19,
   "id": "0b291231",
   "metadata": {},
   "outputs": [
    {
     "name": "stdout",
     "output_type": "stream",
     "text": [
      "   No  Words\n",
      "x   1    one\n",
      "y   2    two\n",
      "z   3  three\n"
     ]
    }
   ],
   "source": [
    "import pandas as pd\n",
    "x={\"No\":[1,2,3],\"Words\":[\"one\",\"two\",\"three\"]}\n",
    "xnew=pd.DataFrame(x, index=[\"x\",\"y\",\"z\"])\n",
    "print(xnew)"
   ]
  },
  {
   "cell_type": "code",
   "execution_count": 21,
   "id": "d2f9a6e1",
   "metadata": {},
   "outputs": [
    {
     "name": "stdout",
     "output_type": "stream",
     "text": [
      "No         1\n",
      "Words    one\n",
      "Name: x, dtype: object\n"
     ]
    }
   ],
   "source": [
    "print(xnew.loc[\"x\"])"
   ]
  },
  {
   "cell_type": "code",
   "execution_count": 22,
   "id": "d8952a43",
   "metadata": {},
   "outputs": [
    {
     "name": "stdout",
     "output_type": "stream",
     "text": [
      "   No Words\n",
      "x   1   one\n",
      "y   2   two\n"
     ]
    }
   ],
   "source": [
    "print(xnew.loc[[\"x\",\"y\"]])"
   ]
  },
  {
   "cell_type": "markdown",
   "id": "6c17177a",
   "metadata": {},
   "source": [
    "# Arithmetic Operations"
   ]
  },
  {
   "cell_type": "code",
   "execution_count": 1,
   "id": "64f8fd1d",
   "metadata": {},
   "outputs": [
    {
     "name": "stdout",
     "output_type": "stream",
     "text": [
      "   A  B\n",
      "0  1  4\n",
      "1  2  5\n",
      "2  3  6\n"
     ]
    }
   ],
   "source": [
    "import pandas as pd\n",
    "x=pd.DataFrame({\"A\":[1,2,3],\"B\":[4,5,6]})\n",
    "print(x)\n"
   ]
  },
  {
   "cell_type": "code",
   "execution_count": 2,
   "id": "02f8f624",
   "metadata": {},
   "outputs": [
    {
     "name": "stdout",
     "output_type": "stream",
     "text": [
      "   A  B  C\n",
      "0  1  4  5\n",
      "1  2  5  7\n",
      "2  3  6  9\n"
     ]
    }
   ],
   "source": [
    "x[\"C\"]=x[\"A\"]+x[\"B\"]\n",
    "print(x)"
   ]
  },
  {
   "cell_type": "code",
   "execution_count": 3,
   "id": "d7b2bf33",
   "metadata": {},
   "outputs": [
    {
     "name": "stdout",
     "output_type": "stream",
     "text": [
      "   A  B  C\n",
      "0  1  4 -3\n",
      "1  2  5 -3\n",
      "2  3  6 -3\n"
     ]
    }
   ],
   "source": [
    "x[\"C\"]=x[\"A\"]-x[\"B\"]\n",
    "print(x)"
   ]
  },
  {
   "cell_type": "code",
   "execution_count": 4,
   "id": "e56f15f8",
   "metadata": {},
   "outputs": [
    {
     "name": "stdout",
     "output_type": "stream",
     "text": [
      "   A  B   C\n",
      "0  1  4   4\n",
      "1  2  5  10\n",
      "2  3  6  18\n"
     ]
    }
   ],
   "source": [
    "x[\"C\"]=x[\"A\"]*x[\"B\"]\n",
    "print(x)"
   ]
  },
  {
   "cell_type": "code",
   "execution_count": 5,
   "id": "011064ca",
   "metadata": {},
   "outputs": [
    {
     "name": "stdout",
     "output_type": "stream",
     "text": [
      "   A  B     C\n",
      "0  1  4  0.25\n",
      "1  2  5  0.40\n",
      "2  3  6  0.50\n"
     ]
    }
   ],
   "source": [
    "x[\"C\"]=x[\"A\"]/x[\"B\"]\n",
    "print(x)"
   ]
  },
  {
   "cell_type": "code",
   "execution_count": 8,
   "id": "7f89f224",
   "metadata": {},
   "outputs": [
    {
     "name": "stdout",
     "output_type": "stream",
     "text": [
      "    A   B   newA   newB\n",
      "0  10  14  False  False\n",
      "1  20  15   True  False\n",
      "2  30  16   True   True\n",
      "3  40  17   True   True\n",
      "4  50  18   True   True\n"
     ]
    }
   ],
   "source": [
    "import pandas as pd\n",
    "x=pd.DataFrame({\"A\":[10,20,30,40,50],\"B\":[14,15,16,17,18]})\n",
    "x[\"newA\"]=x[\"A\"] >=20\n",
    "x[\"newB\"]=x[\"B\"] >=16\n",
    "print(x)"
   ]
  },
  {
   "cell_type": "markdown",
   "id": "14e54138",
   "metadata": {},
   "source": [
    "# Insert"
   ]
  },
  {
   "cell_type": "code",
   "execution_count": 9,
   "id": "35c2a038",
   "metadata": {},
   "outputs": [
    {
     "name": "stdout",
     "output_type": "stream",
     "text": [
      "   A  Acopy   B\n",
      "0  1      1   6\n",
      "1  2      2   7\n",
      "2  3      3   8\n",
      "3  4      4   9\n",
      "4  5      5  10\n"
     ]
    }
   ],
   "source": [
    "import pandas as pd\n",
    "x=pd.DataFrame({\"A\":[1,2,3,4,5], \"B\":[6,7,8,9,10]})\n",
    "x.insert(1,\"Acopy\",x[\"A\"])\n",
    "print(x)"
   ]
  },
  {
   "cell_type": "code",
   "execution_count": 10,
   "id": "7ab9c061",
   "metadata": {},
   "outputs": [
    {
     "name": "stdout",
     "output_type": "stream",
     "text": [
      "   A   B  Panda\n",
      "0  1   6    1.0\n",
      "1  2   7    2.0\n",
      "2  3   8    3.0\n",
      "3  4   9    NaN\n",
      "4  5  10    NaN\n"
     ]
    }
   ],
   "source": [
    "import pandas as pd\n",
    "x=pd.DataFrame({\"A\":[1,2,3,4,5], \"B\":[6,7,8,9,10]})\n",
    "x[\"Panda\"]=x[\"A\"][:3]\n",
    "print(x)"
   ]
  },
  {
   "cell_type": "markdown",
   "id": "bcea95b2",
   "metadata": {},
   "source": [
    "# Delete"
   ]
  },
  {
   "cell_type": "code",
   "execution_count": 13,
   "id": "a65d2b5d",
   "metadata": {},
   "outputs": [
    {
     "name": "stdout",
     "output_type": "stream",
     "text": [
      "   A   C\n",
      "0  1  11\n",
      "1  2  12\n",
      "2  3  13\n",
      "3  4  14\n",
      "4  5  15\n"
     ]
    }
   ],
   "source": [
    "import pandas as pd\n",
    "x=pd.DataFrame({\"A\":[1,2,3,4,5], \"B\":[6,7,8,9,10],\"C\":[11,12,13,14,15]})\n",
    "x.pop(\"B\")\n",
    "print(x)"
   ]
  },
  {
   "cell_type": "code",
   "execution_count": 14,
   "id": "cc7470bd",
   "metadata": {
    "scrolled": true
   },
   "outputs": [
    {
     "name": "stdout",
     "output_type": "stream",
     "text": [
      "    C\n",
      "0  11\n",
      "1  12\n",
      "2  13\n",
      "3  14\n",
      "4  15\n"
     ]
    }
   ],
   "source": [
    "del x[\"A\"]\n",
    "print(x)"
   ]
  },
  {
   "cell_type": "markdown",
   "id": "e59936f2",
   "metadata": {},
   "source": [
    "# Pandas Read CSV"
   ]
  },
  {
   "cell_type": "code",
   "execution_count": 6,
   "id": "1d6ea863",
   "metadata": {},
   "outputs": [
    {
     "name": "stdout",
     "output_type": "stream",
     "text": [
      "     Duration  Pulse  Maxpulse  Calories\n",
      "0          60    110       130     409.1\n",
      "1          60    117       145     479.0\n",
      "2          60    103       135     340.0\n",
      "3          45    109       175     282.4\n",
      "4          45    117       148     406.0\n",
      "..        ...    ...       ...       ...\n",
      "164        60    105       140     290.8\n",
      "165        60    110       145     300.0\n",
      "166        60    115       145     310.2\n",
      "167        75    120       150     320.4\n",
      "168        75    125       150     330.4\n",
      "\n",
      "[169 rows x 4 columns]\n"
     ]
    }
   ],
   "source": [
    "import pandas as pd\n",
    "myfile=pd.read_csv(r\"C:\\Users\\Aqsa Kanwal\\Desktop\\datasets\\data.csv\")\n",
    "print(myfile)"
   ]
  },
  {
   "cell_type": "markdown",
   "id": "eb6e1680",
   "metadata": {},
   "source": [
    "# to_string()"
   ]
  },
  {
   "cell_type": "code",
   "execution_count": 7,
   "id": "959d8d3d",
   "metadata": {},
   "outputs": [
    {
     "name": "stdout",
     "output_type": "stream",
     "text": [
      "     Duration  Pulse  Maxpulse  Calories\n",
      "0          60    110       130     409.1\n",
      "1          60    117       145     479.0\n",
      "2          60    103       135     340.0\n",
      "3          45    109       175     282.4\n",
      "4          45    117       148     406.0\n",
      "5          60    102       127     300.0\n",
      "6          60    110       136     374.0\n",
      "7          45    104       134     253.3\n",
      "8          30    109       133     195.1\n",
      "9          60     98       124     269.0\n",
      "10         60    103       147     329.3\n",
      "11         60    100       120     250.7\n",
      "12         60    106       128     345.3\n",
      "13         60    104       132     379.3\n",
      "14         60     98       123     275.0\n",
      "15         60     98       120     215.2\n",
      "16         60    100       120     300.0\n",
      "17         45     90       112       NaN\n",
      "18         60    103       123     323.0\n",
      "19         45     97       125     243.0\n",
      "20         60    108       131     364.2\n",
      "21         45    100       119     282.0\n",
      "22         60    130       101     300.0\n",
      "23         45    105       132     246.0\n",
      "24         60    102       126     334.5\n",
      "25         60    100       120     250.0\n",
      "26         60     92       118     241.0\n",
      "27         60    103       132       NaN\n",
      "28         60    100       132     280.0\n",
      "29         60    102       129     380.3\n",
      "30         60     92       115     243.0\n",
      "31         45     90       112     180.1\n",
      "32         60    101       124     299.0\n",
      "33         60     93       113     223.0\n",
      "34         60    107       136     361.0\n",
      "35         60    114       140     415.0\n",
      "36         60    102       127     300.0\n",
      "37         60    100       120     300.0\n",
      "38         60    100       120     300.0\n",
      "39         45    104       129     266.0\n",
      "40         45     90       112     180.1\n",
      "41         60     98       126     286.0\n",
      "42         60    100       122     329.4\n",
      "43         60    111       138     400.0\n",
      "44         60    111       131     397.0\n",
      "45         60     99       119     273.0\n",
      "46         60    109       153     387.6\n",
      "47         45    111       136     300.0\n",
      "48         45    108       129     298.0\n",
      "49         60    111       139     397.6\n",
      "50         60    107       136     380.2\n",
      "51         80    123       146     643.1\n",
      "52         60    106       130     263.0\n",
      "53         60    118       151     486.0\n",
      "54         30    136       175     238.0\n",
      "55         60    121       146     450.7\n",
      "56         60    118       121     413.0\n",
      "57         45    115       144     305.0\n",
      "58         20    153       172     226.4\n",
      "59         45    123       152     321.0\n",
      "60        210    108       160    1376.0\n",
      "61        160    110       137    1034.4\n",
      "62        160    109       135     853.0\n",
      "63         45    118       141     341.0\n",
      "64         20    110       130     131.4\n",
      "65        180     90       130     800.4\n",
      "66        150    105       135     873.4\n",
      "67        150    107       130     816.0\n",
      "68         20    106       136     110.4\n",
      "69        300    108       143    1500.2\n",
      "70        150     97       129    1115.0\n",
      "71         60    109       153     387.6\n",
      "72         90    100       127     700.0\n",
      "73        150     97       127     953.2\n",
      "74         45    114       146     304.0\n",
      "75         90     98       125     563.2\n",
      "76         45    105       134     251.0\n",
      "77         45    110       141     300.0\n",
      "78        120    100       130     500.4\n",
      "79        270    100       131    1729.0\n",
      "80         30    159       182     319.2\n",
      "81         45    149       169     344.0\n",
      "82         30    103       139     151.1\n",
      "83        120    100       130     500.0\n",
      "84         45    100       120     225.3\n",
      "85         30    151       170     300.0\n",
      "86         45    102       136     234.0\n",
      "87        120    100       157    1000.1\n",
      "88         45    129       103     242.0\n",
      "89         20     83       107      50.3\n",
      "90        180    101       127     600.1\n",
      "91         45    107       137       NaN\n",
      "92         30     90       107     105.3\n",
      "93         15     80       100      50.5\n",
      "94         20    150       171     127.4\n",
      "95         20    151       168     229.4\n",
      "96         30     95       128     128.2\n",
      "97         25    152       168     244.2\n",
      "98         30    109       131     188.2\n",
      "99         90     93       124     604.1\n",
      "100        20     95       112      77.7\n",
      "101        90     90       110     500.0\n",
      "102        90     90       100     500.0\n",
      "103        90     90       100     500.4\n",
      "104        30     92       108      92.7\n",
      "105        30     93       128     124.0\n",
      "106       180     90       120     800.3\n",
      "107        30     90       120      86.2\n",
      "108        90     90       120     500.3\n",
      "109       210    137       184    1860.4\n",
      "110        60    102       124     325.2\n",
      "111        45    107       124     275.0\n",
      "112        15    124       139     124.2\n",
      "113        45    100       120     225.3\n",
      "114        60    108       131     367.6\n",
      "115        60    108       151     351.7\n",
      "116        60    116       141     443.0\n",
      "117        60     97       122     277.4\n",
      "118        60    105       125       NaN\n",
      "119        60    103       124     332.7\n",
      "120        30    112       137     193.9\n",
      "121        45    100       120     100.7\n",
      "122        60    119       169     336.7\n",
      "123        60    107       127     344.9\n",
      "124        60    111       151     368.5\n",
      "125        60     98       122     271.0\n",
      "126        60     97       124     275.3\n",
      "127        60    109       127     382.0\n",
      "128        90     99       125     466.4\n",
      "129        60    114       151     384.0\n",
      "130        60    104       134     342.5\n",
      "131        60    107       138     357.5\n",
      "132        60    103       133     335.0\n",
      "133        60    106       132     327.5\n",
      "134        60    103       136     339.0\n",
      "135        20    136       156     189.0\n",
      "136        45    117       143     317.7\n",
      "137        45    115       137     318.0\n",
      "138        45    113       138     308.0\n",
      "139        20    141       162     222.4\n",
      "140        60    108       135     390.0\n",
      "141        60     97       127       NaN\n",
      "142        45    100       120     250.4\n",
      "143        45    122       149     335.4\n",
      "144        60    136       170     470.2\n",
      "145        45    106       126     270.8\n",
      "146        60    107       136     400.0\n",
      "147        60    112       146     361.9\n",
      "148        30    103       127     185.0\n",
      "149        60    110       150     409.4\n",
      "150        60    106       134     343.0\n",
      "151        60    109       129     353.2\n",
      "152        60    109       138     374.0\n",
      "153        30    150       167     275.8\n",
      "154        60    105       128     328.0\n",
      "155        60    111       151     368.5\n",
      "156        60     97       131     270.4\n",
      "157        60    100       120     270.4\n",
      "158        60    114       150     382.8\n",
      "159        30     80       120     240.9\n",
      "160        30     85       120     250.4\n",
      "161        45     90       130     260.4\n",
      "162        45     95       130     270.0\n",
      "163        45    100       140     280.9\n",
      "164        60    105       140     290.8\n",
      "165        60    110       145     300.0\n",
      "166        60    115       145     310.2\n",
      "167        75    120       150     320.4\n",
      "168        75    125       150     330.4\n"
     ]
    }
   ],
   "source": [
    "import pandas as pd\n",
    "myfile=pd.read_csv(r\"C:\\Users\\Aqsa Kanwal\\Desktop\\datasets\\data.csv\")\n",
    "print(myfile.to_string())"
   ]
  },
  {
   "cell_type": "markdown",
   "id": "3b039681",
   "metadata": {},
   "source": [
    "# get particular row"
   ]
  },
  {
   "cell_type": "code",
   "execution_count": 17,
   "id": "d5924163",
   "metadata": {},
   "outputs": [
    {
     "name": "stdout",
     "output_type": "stream",
     "text": [
      "   Duration  Pulse  Maxpulse  Calories\n",
      "0        60    110       130     409.1\n"
     ]
    }
   ],
   "source": [
    "import pandas as pd\n",
    "myfile=pd.read_csv(r\"C:\\Users\\Aqsa Kanwal\\Desktop\\datasets\\data.csv\",nrows=1)\n",
    "print(myfile)"
   ]
  },
  {
   "cell_type": "markdown",
   "id": "aa49a29d",
   "metadata": {},
   "source": [
    "# get particular column"
   ]
  },
  {
   "cell_type": "code",
   "execution_count": 18,
   "id": "14f8c5d0",
   "metadata": {},
   "outputs": [
    {
     "name": "stdout",
     "output_type": "stream",
     "text": [
      "     Maxpulse\n",
      "0         130\n",
      "1         145\n",
      "2         135\n",
      "3         175\n",
      "4         148\n",
      "..        ...\n",
      "164       140\n",
      "165       145\n",
      "166       145\n",
      "167       150\n",
      "168       150\n",
      "\n",
      "[169 rows x 1 columns]\n"
     ]
    }
   ],
   "source": [
    "import pandas as pd\n",
    "myfile=pd.read_csv(r\"C:\\Users\\Aqsa Kanwal\\Desktop\\datasets\\data.csv\",usecols=[\"Maxpulse\"])\n",
    "print(myfile)"
   ]
  },
  {
   "cell_type": "markdown",
   "id": "0c894fa3",
   "metadata": {},
   "source": [
    "# skip"
   ]
  },
  {
   "cell_type": "code",
   "execution_count": 1,
   "id": "029034bf",
   "metadata": {},
   "outputs": [
    {
     "name": "stdout",
     "output_type": "stream",
     "text": [
      "      60  110  130   409.1\n",
      "0     60  117  145   479.0\n",
      "1     45  109  175   282.4\n",
      "2     45  117  148   406.0\n",
      "3     60  102  127   300.0\n",
      "4     60  110  136   374.0\n",
      "5     45  104  134   253.3\n",
      "6     30  109  133   195.1\n",
      "7     60   98  124   269.0\n",
      "8     60  103  147   329.3\n",
      "9     60  100  120   250.7\n",
      "10    60  106  128   345.3\n",
      "11    60  104  132   379.3\n",
      "12    60   98  123   275.0\n",
      "13    60   98  120   215.2\n",
      "14    60  100  120   300.0\n",
      "15    45   90  112     NaN\n",
      "16    60  103  123   323.0\n",
      "17    45   97  125   243.0\n",
      "18    60  108  131   364.2\n",
      "19    45  100  119   282.0\n",
      "20    60  130  101   300.0\n",
      "21    45  105  132   246.0\n",
      "22    60  102  126   334.5\n",
      "23    60  100  120   250.0\n",
      "24    60   92  118   241.0\n",
      "25    60  103  132     NaN\n",
      "26    60  100  132   280.0\n",
      "27    60  102  129   380.3\n",
      "28    60   92  115   243.0\n",
      "29    45   90  112   180.1\n",
      "30    60  101  124   299.0\n",
      "31    60   93  113   223.0\n",
      "32    60  107  136   361.0\n",
      "33    60  114  140   415.0\n",
      "34    60  102  127   300.0\n",
      "35    60  100  120   300.0\n",
      "36    60  100  120   300.0\n",
      "37    45  104  129   266.0\n",
      "38    45   90  112   180.1\n",
      "39    60   98  126   286.0\n",
      "40    60  100  122   329.4\n",
      "41    60  111  138   400.0\n",
      "42    60  111  131   397.0\n",
      "43    60   99  119   273.0\n",
      "44    60  109  153   387.6\n",
      "45    45  111  136   300.0\n",
      "46    45  108  129   298.0\n",
      "47    60  111  139   397.6\n",
      "48    60  107  136   380.2\n",
      "49    80  123  146   643.1\n",
      "50    60  106  130   263.0\n",
      "51    60  118  151   486.0\n",
      "52    30  136  175   238.0\n",
      "53    60  121  146   450.7\n",
      "54    60  118  121   413.0\n",
      "55    45  115  144   305.0\n",
      "56    20  153  172   226.4\n",
      "57    45  123  152   321.0\n",
      "58   210  108  160  1376.0\n",
      "59   160  110  137  1034.4\n",
      "60   160  109  135   853.0\n",
      "61    45  118  141   341.0\n",
      "62    20  110  130   131.4\n",
      "63   180   90  130   800.4\n",
      "64   150  105  135   873.4\n",
      "65   150  107  130   816.0\n",
      "66    20  106  136   110.4\n",
      "67   300  108  143  1500.2\n",
      "68   150   97  129  1115.0\n",
      "69    60  109  153   387.6\n",
      "70    90  100  127   700.0\n",
      "71   150   97  127   953.2\n",
      "72    45  114  146   304.0\n",
      "73    90   98  125   563.2\n",
      "74    45  105  134   251.0\n",
      "75    45  110  141   300.0\n",
      "76   120  100  130   500.4\n",
      "77   270  100  131  1729.0\n",
      "78    30  159  182   319.2\n",
      "79    45  149  169   344.0\n",
      "80    30  103  139   151.1\n",
      "81   120  100  130   500.0\n",
      "82    45  100  120   225.3\n",
      "83    30  151  170   300.0\n",
      "84    45  102  136   234.0\n",
      "85   120  100  157  1000.1\n",
      "86    45  129  103   242.0\n",
      "87    20   83  107    50.3\n",
      "88   180  101  127   600.1\n",
      "89    45  107  137     NaN\n",
      "90    30   90  107   105.3\n",
      "91    15   80  100    50.5\n",
      "92    20  150  171   127.4\n",
      "93    20  151  168   229.4\n",
      "94    30   95  128   128.2\n",
      "95    25  152  168   244.2\n",
      "96    30  109  131   188.2\n",
      "97    90   93  124   604.1\n",
      "98    20   95  112    77.7\n",
      "99    90   90  110   500.0\n",
      "100   90   90  100   500.0\n",
      "101   90   90  100   500.4\n",
      "102   30   92  108    92.7\n",
      "103   30   93  128   124.0\n",
      "104  180   90  120   800.3\n",
      "105   30   90  120    86.2\n",
      "106   90   90  120   500.3\n",
      "107  210  137  184  1860.4\n",
      "108   60  102  124   325.2\n",
      "109   45  107  124   275.0\n",
      "110   15  124  139   124.2\n",
      "111   45  100  120   225.3\n",
      "112   60  108  131   367.6\n",
      "113   60  108  151   351.7\n",
      "114   60  116  141   443.0\n",
      "115   60   97  122   277.4\n",
      "116   60  105  125     NaN\n",
      "117   60  103  124   332.7\n",
      "118   30  112  137   193.9\n",
      "119   45  100  120   100.7\n",
      "120   60  119  169   336.7\n",
      "121   60  107  127   344.9\n",
      "122   60  111  151   368.5\n",
      "123   60   98  122   271.0\n",
      "124   60   97  124   275.3\n",
      "125   60  109  127   382.0\n",
      "126   90   99  125   466.4\n",
      "127   60  114  151   384.0\n",
      "128   60  104  134   342.5\n",
      "129   60  107  138   357.5\n",
      "130   60  103  133   335.0\n",
      "131   60  106  132   327.5\n",
      "132   60  103  136   339.0\n",
      "133   20  136  156   189.0\n",
      "134   45  117  143   317.7\n",
      "135   45  115  137   318.0\n",
      "136   45  113  138   308.0\n",
      "137   20  141  162   222.4\n",
      "138   60  108  135   390.0\n",
      "139   60   97  127     NaN\n",
      "140   45  100  120   250.4\n",
      "141   45  122  149   335.4\n",
      "142   60  136  170   470.2\n",
      "143   45  106  126   270.8\n",
      "144   60  107  136   400.0\n",
      "145   60  112  146   361.9\n",
      "146   30  103  127   185.0\n",
      "147   60  110  150   409.4\n",
      "148   60  106  134   343.0\n",
      "149   60  109  129   353.2\n",
      "150   60  109  138   374.0\n",
      "151   30  150  167   275.8\n",
      "152   60  105  128   328.0\n",
      "153   60  111  151   368.5\n",
      "154   60   97  131   270.4\n",
      "155   60  100  120   270.4\n",
      "156   60  114  150   382.8\n",
      "157   30   80  120   240.9\n",
      "158   30   85  120   250.4\n",
      "159   45   90  130   260.4\n",
      "160   45   95  130   270.0\n",
      "161   45  100  140   280.9\n",
      "162   60  105  140   290.8\n",
      "163   60  110  145   300.0\n",
      "164   60  115  145   310.2\n",
      "165   75  120  150   320.4\n",
      "166   75  125  150   330.4\n"
     ]
    }
   ],
   "source": [
    "import pandas as pd\n",
    "myfile=pd.read_csv(r\"C:\\Users\\Aqsa Kanwal\\Desktop\\datasets\\data.csv\",skiprows=[0,3])\n",
    "print(myfile.to_string())"
   ]
  },
  {
   "cell_type": "markdown",
   "id": "3f15aea2",
   "metadata": {},
   "source": [
    "# Header"
   ]
  },
  {
   "cell_type": "code",
   "execution_count": 3,
   "id": "8c0758f5",
   "metadata": {},
   "outputs": [
    {
     "name": "stdout",
     "output_type": "stream",
     "text": [
      "      60  117  145     479\n",
      "0     60  103  135   340.0\n",
      "1     45  109  175   282.4\n",
      "2     45  117  148   406.0\n",
      "3     60  102  127   300.0\n",
      "4     60  110  136   374.0\n",
      "5     45  104  134   253.3\n",
      "6     30  109  133   195.1\n",
      "7     60   98  124   269.0\n",
      "8     60  103  147   329.3\n",
      "9     60  100  120   250.7\n",
      "10    60  106  128   345.3\n",
      "11    60  104  132   379.3\n",
      "12    60   98  123   275.0\n",
      "13    60   98  120   215.2\n",
      "14    60  100  120   300.0\n",
      "15    45   90  112     NaN\n",
      "16    60  103  123   323.0\n",
      "17    45   97  125   243.0\n",
      "18    60  108  131   364.2\n",
      "19    45  100  119   282.0\n",
      "20    60  130  101   300.0\n",
      "21    45  105  132   246.0\n",
      "22    60  102  126   334.5\n",
      "23    60  100  120   250.0\n",
      "24    60   92  118   241.0\n",
      "25    60  103  132     NaN\n",
      "26    60  100  132   280.0\n",
      "27    60  102  129   380.3\n",
      "28    60   92  115   243.0\n",
      "29    45   90  112   180.1\n",
      "30    60  101  124   299.0\n",
      "31    60   93  113   223.0\n",
      "32    60  107  136   361.0\n",
      "33    60  114  140   415.0\n",
      "34    60  102  127   300.0\n",
      "35    60  100  120   300.0\n",
      "36    60  100  120   300.0\n",
      "37    45  104  129   266.0\n",
      "38    45   90  112   180.1\n",
      "39    60   98  126   286.0\n",
      "40    60  100  122   329.4\n",
      "41    60  111  138   400.0\n",
      "42    60  111  131   397.0\n",
      "43    60   99  119   273.0\n",
      "44    60  109  153   387.6\n",
      "45    45  111  136   300.0\n",
      "46    45  108  129   298.0\n",
      "47    60  111  139   397.6\n",
      "48    60  107  136   380.2\n",
      "49    80  123  146   643.1\n",
      "50    60  106  130   263.0\n",
      "51    60  118  151   486.0\n",
      "52    30  136  175   238.0\n",
      "53    60  121  146   450.7\n",
      "54    60  118  121   413.0\n",
      "55    45  115  144   305.0\n",
      "56    20  153  172   226.4\n",
      "57    45  123  152   321.0\n",
      "58   210  108  160  1376.0\n",
      "59   160  110  137  1034.4\n",
      "60   160  109  135   853.0\n",
      "61    45  118  141   341.0\n",
      "62    20  110  130   131.4\n",
      "63   180   90  130   800.4\n",
      "64   150  105  135   873.4\n",
      "65   150  107  130   816.0\n",
      "66    20  106  136   110.4\n",
      "67   300  108  143  1500.2\n",
      "68   150   97  129  1115.0\n",
      "69    60  109  153   387.6\n",
      "70    90  100  127   700.0\n",
      "71   150   97  127   953.2\n",
      "72    45  114  146   304.0\n",
      "73    90   98  125   563.2\n",
      "74    45  105  134   251.0\n",
      "75    45  110  141   300.0\n",
      "76   120  100  130   500.4\n",
      "77   270  100  131  1729.0\n",
      "78    30  159  182   319.2\n",
      "79    45  149  169   344.0\n",
      "80    30  103  139   151.1\n",
      "81   120  100  130   500.0\n",
      "82    45  100  120   225.3\n",
      "83    30  151  170   300.0\n",
      "84    45  102  136   234.0\n",
      "85   120  100  157  1000.1\n",
      "86    45  129  103   242.0\n",
      "87    20   83  107    50.3\n",
      "88   180  101  127   600.1\n",
      "89    45  107  137     NaN\n",
      "90    30   90  107   105.3\n",
      "91    15   80  100    50.5\n",
      "92    20  150  171   127.4\n",
      "93    20  151  168   229.4\n",
      "94    30   95  128   128.2\n",
      "95    25  152  168   244.2\n",
      "96    30  109  131   188.2\n",
      "97    90   93  124   604.1\n",
      "98    20   95  112    77.7\n",
      "99    90   90  110   500.0\n",
      "100   90   90  100   500.0\n",
      "101   90   90  100   500.4\n",
      "102   30   92  108    92.7\n",
      "103   30   93  128   124.0\n",
      "104  180   90  120   800.3\n",
      "105   30   90  120    86.2\n",
      "106   90   90  120   500.3\n",
      "107  210  137  184  1860.4\n",
      "108   60  102  124   325.2\n",
      "109   45  107  124   275.0\n",
      "110   15  124  139   124.2\n",
      "111   45  100  120   225.3\n",
      "112   60  108  131   367.6\n",
      "113   60  108  151   351.7\n",
      "114   60  116  141   443.0\n",
      "115   60   97  122   277.4\n",
      "116   60  105  125     NaN\n",
      "117   60  103  124   332.7\n",
      "118   30  112  137   193.9\n",
      "119   45  100  120   100.7\n",
      "120   60  119  169   336.7\n",
      "121   60  107  127   344.9\n",
      "122   60  111  151   368.5\n",
      "123   60   98  122   271.0\n",
      "124   60   97  124   275.3\n",
      "125   60  109  127   382.0\n",
      "126   90   99  125   466.4\n",
      "127   60  114  151   384.0\n",
      "128   60  104  134   342.5\n",
      "129   60  107  138   357.5\n",
      "130   60  103  133   335.0\n",
      "131   60  106  132   327.5\n",
      "132   60  103  136   339.0\n",
      "133   20  136  156   189.0\n",
      "134   45  117  143   317.7\n",
      "135   45  115  137   318.0\n",
      "136   45  113  138   308.0\n",
      "137   20  141  162   222.4\n",
      "138   60  108  135   390.0\n",
      "139   60   97  127     NaN\n",
      "140   45  100  120   250.4\n",
      "141   45  122  149   335.4\n",
      "142   60  136  170   470.2\n",
      "143   45  106  126   270.8\n",
      "144   60  107  136   400.0\n",
      "145   60  112  146   361.9\n",
      "146   30  103  127   185.0\n",
      "147   60  110  150   409.4\n",
      "148   60  106  134   343.0\n",
      "149   60  109  129   353.2\n",
      "150   60  109  138   374.0\n",
      "151   30  150  167   275.8\n",
      "152   60  105  128   328.0\n",
      "153   60  111  151   368.5\n",
      "154   60   97  131   270.4\n",
      "155   60  100  120   270.4\n",
      "156   60  114  150   382.8\n",
      "157   30   80  120   240.9\n",
      "158   30   85  120   250.4\n",
      "159   45   90  130   260.4\n",
      "160   45   95  130   270.0\n",
      "161   45  100  140   280.9\n",
      "162   60  105  140   290.8\n",
      "163   60  110  145   300.0\n",
      "164   60  115  145   310.2\n",
      "165   75  120  150   320.4\n",
      "166   75  125  150   330.4\n"
     ]
    }
   ],
   "source": [
    "import pandas as pd\n",
    "myfile=pd.read_csv(r\"C:\\Users\\Aqsa Kanwal\\Desktop\\datasets\\data.csv\", header= 2)\n",
    "print(myfile.to_string())"
   ]
  },
  {
   "cell_type": "markdown",
   "id": "87897fd0",
   "metadata": {},
   "source": [
    "# index col"
   ]
  },
  {
   "cell_type": "code",
   "execution_count": 21,
   "id": "cd8bd9a3",
   "metadata": {},
   "outputs": [
    {
     "name": "stdout",
     "output_type": "stream",
     "text": [
      "          Pulse  Maxpulse  Calories\n",
      "Duration                           \n",
      "60          110       130     409.1\n",
      "60          117       145     479.0\n",
      "60          103       135     340.0\n",
      "45          109       175     282.4\n",
      "45          117       148     406.0\n",
      "...         ...       ...       ...\n",
      "60          105       140     290.8\n",
      "60          110       145     300.0\n",
      "60          115       145     310.2\n",
      "75          120       150     320.4\n",
      "75          125       150     330.4\n",
      "\n",
      "[169 rows x 3 columns]\n"
     ]
    }
   ],
   "source": [
    "import pandas as pd\n",
    "myfile=pd.read_csv(r\"C:\\Users\\Aqsa Kanwal\\Desktop\\datasets\\data.csv\",index_col=\"Duration\")\n",
    "print(myfile)"
   ]
  },
  {
   "cell_type": "markdown",
   "id": "60c96ca9",
   "metadata": {},
   "source": [
    "# names"
   ]
  },
  {
   "cell_type": "code",
   "execution_count": 4,
   "id": "aeadafd9",
   "metadata": {},
   "outputs": [
    {
     "name": "stdout",
     "output_type": "stream",
     "text": [
      "         col1   col2      col3      col4\n",
      "0    Duration  Pulse  Maxpulse  Calories\n",
      "1          60    110       130     409.1\n",
      "2          60    117       145       479\n",
      "3          60    103       135       340\n",
      "4          45    109       175     282.4\n",
      "..        ...    ...       ...       ...\n",
      "165        60    105       140     290.8\n",
      "166        60    110       145       300\n",
      "167        60    115       145     310.2\n",
      "168        75    120       150     320.4\n",
      "169        75    125       150     330.4\n",
      "\n",
      "[170 rows x 4 columns]\n"
     ]
    }
   ],
   "source": [
    "import pandas as pd\n",
    "myfile=pd.read_csv(r\"C:\\Users\\Aqsa Kanwal\\Desktop\\datasets\\data.csv\",names=[\"col1\",\"col2\",\"col3\",\"col4\"])\n",
    "print(myfile)"
   ]
  },
  {
   "cell_type": "markdown",
   "id": "547b22f7",
   "metadata": {},
   "source": [
    "# dtype"
   ]
  },
  {
   "cell_type": "code",
   "execution_count": 8,
   "id": "43a45509",
   "metadata": {},
   "outputs": [
    {
     "name": "stdout",
     "output_type": "stream",
     "text": [
      "     Duration  Pulse  Maxpulse  Calories\n",
      "0          60    110     130.0     409.1\n",
      "1          60    117     145.0     479.0\n",
      "2          60    103     135.0     340.0\n",
      "3          45    109     175.0     282.4\n",
      "4          45    117     148.0     406.0\n",
      "..        ...    ...       ...       ...\n",
      "164        60    105     140.0     290.8\n",
      "165        60    110     145.0     300.0\n",
      "166        60    115     145.0     310.2\n",
      "167        75    120     150.0     320.4\n",
      "168        75    125     150.0     330.4\n",
      "\n",
      "[169 rows x 4 columns]\n"
     ]
    }
   ],
   "source": [
    "import pandas as pd\n",
    "myfile=pd.read_csv(r\"C:\\Users\\Aqsa Kanwal\\Desktop\\datasets\\data.csv\",dtype={\"Maxpulse\": \"float\"})\n",
    "print(myfile)"
   ]
  },
  {
   "cell_type": "code",
   "execution_count": 14,
   "id": "072a469c",
   "metadata": {},
   "outputs": [
    {
     "name": "stdout",
     "output_type": "stream",
     "text": [
      "     Duration  Pulse  Maxpulse  Calories\n",
      "0          60    110     130.0     409.1\n",
      "1          60    117     145.0     479.0\n",
      "2          60    103     135.0     340.0\n",
      "3          45    109     175.0     282.4\n",
      "4          45    117     148.0     406.0\n",
      "5          60    102     127.0     300.0\n",
      "6          60    110     136.0     374.0\n",
      "7          45    104     134.0     253.3\n",
      "8          30    109     133.0     195.1\n",
      "9          60     98     124.0     269.0\n",
      "10         60    103     147.0     329.3\n",
      "11         60    100     120.0     250.7\n",
      "12         60    106     128.0     345.3\n",
      "13         60    104     132.0     379.3\n",
      "14         60     98     123.0     275.0\n",
      "15         60     98     120.0     215.2\n",
      "16         60    100     120.0     300.0\n",
      "17         45     90     112.0       NaN\n",
      "18         60    103     123.0     323.0\n",
      "19         45     97     125.0     243.0\n",
      "20         60    108     131.0     364.2\n",
      "21         45    100     119.0     282.0\n",
      "22         60    130     101.0     300.0\n",
      "23         45    105     132.0     246.0\n",
      "24         60    102     126.0     334.5\n",
      "25         60    100     120.0     250.0\n",
      "26         60     92     118.0     241.0\n",
      "27         60    103     132.0       NaN\n",
      "28         60    100     132.0     280.0\n",
      "29         60    102     129.0     380.3\n",
      "30         60     92     115.0     243.0\n",
      "31         45     90     112.0     180.1\n",
      "32         60    101     124.0     299.0\n",
      "33         60     93     113.0     223.0\n",
      "34         60    107     136.0     361.0\n",
      "35         60    114     140.0     415.0\n",
      "36         60    102     127.0     300.0\n",
      "37         60    100     120.0     300.0\n",
      "38         60    100     120.0     300.0\n",
      "39         45    104     129.0     266.0\n",
      "40         45     90     112.0     180.1\n",
      "41         60     98     126.0     286.0\n",
      "42         60    100     122.0     329.4\n",
      "43         60    111     138.0     400.0\n",
      "44         60    111     131.0     397.0\n",
      "45         60     99     119.0     273.0\n",
      "46         60    109     153.0     387.6\n",
      "47         45    111     136.0     300.0\n",
      "48         45    108     129.0     298.0\n",
      "49         60    111     139.0     397.6\n",
      "50         60    107     136.0     380.2\n",
      "51         80    123     146.0     643.1\n",
      "52         60    106     130.0     263.0\n",
      "53         60    118     151.0     486.0\n",
      "54         30    136     175.0     238.0\n",
      "55         60    121     146.0     450.7\n",
      "56         60    118     121.0     413.0\n",
      "57         45    115     144.0     305.0\n",
      "58         20    153     172.0     226.4\n",
      "59         45    123     152.0     321.0\n",
      "60        210    108     160.0    1376.0\n",
      "61        160    110     137.0    1034.4\n",
      "62        160    109     135.0     853.0\n",
      "63         45    118     141.0     341.0\n",
      "64         20    110     130.0     131.4\n",
      "65        180     90     130.0     800.4\n",
      "66        150    105     135.0     873.4\n",
      "67        150    107     130.0     816.0\n",
      "68         20    106     136.0     110.4\n",
      "69        300    108     143.0    1500.2\n",
      "70        150     97     129.0    1115.0\n",
      "71         60    109     153.0     387.6\n",
      "72         90    100     127.0     700.0\n",
      "73        150     97     127.0     953.2\n",
      "74         45    114     146.0     304.0\n",
      "75         90     98     125.0     563.2\n",
      "76         45    105     134.0     251.0\n",
      "77         45    110     141.0     300.0\n",
      "78        120    100     130.0     500.4\n",
      "79        270    100     131.0    1729.0\n",
      "80         30    159     182.0     319.2\n",
      "81         45    149     169.0     344.0\n",
      "82         30    103     139.0     151.1\n",
      "83        120    100     130.0     500.0\n",
      "84         45    100     120.0     225.3\n",
      "85         30    151     170.0     300.0\n",
      "86         45    102     136.0     234.0\n",
      "87        120    100     157.0    1000.1\n",
      "88         45    129     103.0     242.0\n",
      "89         20     83     107.0      50.3\n",
      "90        180    101     127.0     600.1\n",
      "91         45    107     137.0       NaN\n",
      "92         30     90     107.0     105.3\n",
      "93         15     80     100.0      50.5\n",
      "94         20    150     171.0     127.4\n",
      "95         20    151     168.0     229.4\n",
      "96         30     95     128.0     128.2\n",
      "97         25    152     168.0     244.2\n",
      "98         30    109     131.0     188.2\n",
      "99         90     93     124.0     604.1\n",
      "100        20     95     112.0      77.7\n",
      "101        90     90     110.0     500.0\n",
      "102        90     90     100.0     500.0\n",
      "103        90     90     100.0     500.4\n",
      "104        30     92     108.0      92.7\n",
      "105        30     93     128.0     124.0\n",
      "106       180     90     120.0     800.3\n",
      "107        30     90     120.0      86.2\n",
      "108        90     90     120.0     500.3\n",
      "109       210    137     184.0    1860.4\n",
      "110        60    102     124.0     325.2\n",
      "111        45    107     124.0     275.0\n",
      "112        15    124     139.0     124.2\n",
      "113        45    100     120.0     225.3\n",
      "114        60    108     131.0     367.6\n",
      "115        60    108     151.0     351.7\n",
      "116        60    116     141.0     443.0\n",
      "117        60     97     122.0     277.4\n",
      "118        60    105     125.0       NaN\n",
      "119        60    103     124.0     332.7\n",
      "120        30    112     137.0     193.9\n",
      "121        45    100     120.0     100.7\n",
      "122        60    119     169.0     336.7\n",
      "123        60    107     127.0     344.9\n",
      "124        60    111     151.0     368.5\n",
      "125        60     98     122.0     271.0\n",
      "126        60     97     124.0     275.3\n",
      "127        60    109     127.0     382.0\n",
      "128        90     99     125.0     466.4\n",
      "129        60    114     151.0     384.0\n",
      "130        60    104     134.0     342.5\n",
      "131        60    107     138.0     357.5\n",
      "132        60    103     133.0     335.0\n",
      "133        60    106     132.0     327.5\n",
      "134        60    103     136.0     339.0\n",
      "135        20    136     156.0     189.0\n",
      "136        45    117     143.0     317.7\n",
      "137        45    115     137.0     318.0\n",
      "138        45    113     138.0     308.0\n",
      "139        20    141     162.0     222.4\n",
      "140        60    108     135.0     390.0\n",
      "141        60     97     127.0       NaN\n",
      "142        45    100     120.0     250.4\n",
      "143        45    122     149.0     335.4\n",
      "144        60    136     170.0     470.2\n",
      "145        45    106     126.0     270.8\n",
      "146        60    107     136.0     400.0\n",
      "147        60    112     146.0     361.9\n",
      "148        30    103     127.0     185.0\n",
      "149        60    110     150.0     409.4\n",
      "150        60    106     134.0     343.0\n",
      "151        60    109     129.0     353.2\n",
      "152        60    109     138.0     374.0\n",
      "153        30    150     167.0     275.8\n",
      "154        60    105     128.0     328.0\n",
      "155        60    111     151.0     368.5\n",
      "156        60     97     131.0     270.4\n",
      "157        60    100     120.0     270.4\n",
      "158        60    114     150.0     382.8\n",
      "159        30     80     120.0     240.9\n",
      "160        30     85     120.0     250.4\n",
      "161        45     90     130.0     260.4\n",
      "162        45     95     130.0     270.0\n",
      "163        45    100     140.0     280.9\n",
      "164        60    105     140.0     290.8\n",
      "165        60    110     145.0     300.0\n",
      "166        60    115     145.0     310.2\n",
      "167        75    120     150.0     320.4\n",
      "168        75    125     150.0     330.4\n"
     ]
    }
   ],
   "source": [
    "import pandas as pd\n",
    "myfile=pd.read_csv(r\"C:\\Users\\Aqsa Kanwal\\Desktop\\datasets\\data.csv\",dtype={\"Maxpulse\": \"f\"})\n",
    "print(myfile.to_string())"
   ]
  },
  {
   "cell_type": "markdown",
   "id": "6d31c3ad",
   "metadata": {},
   "source": [
    "# pandas functions"
   ]
  },
  {
   "cell_type": "code",
   "execution_count": 15,
   "id": "9f6ba268",
   "metadata": {},
   "outputs": [],
   "source": [
    "import pandas as pd"
   ]
  },
  {
   "cell_type": "markdown",
   "id": "d5c4fb34",
   "metadata": {},
   "source": [
    "# index"
   ]
  },
  {
   "cell_type": "code",
   "execution_count": 17,
   "id": "49ab4864",
   "metadata": {},
   "outputs": [
    {
     "name": "stdout",
     "output_type": "stream",
     "text": [
      "RangeIndex(start=0, stop=169, step=1)\n"
     ]
    }
   ],
   "source": [
    "myfile=pd.read_csv(r\"C:\\Users\\Aqsa Kanwal\\Desktop\\datasets\\data.csv\")\n",
    "print(myfile.index)"
   ]
  },
  {
   "cell_type": "markdown",
   "id": "79b35ac9",
   "metadata": {},
   "source": [
    "# columns"
   ]
  },
  {
   "cell_type": "code",
   "execution_count": 18,
   "id": "dfc187ae",
   "metadata": {},
   "outputs": [
    {
     "name": "stdout",
     "output_type": "stream",
     "text": [
      "Index(['Duration', 'Pulse', 'Maxpulse', 'Calories'], dtype='object')\n"
     ]
    }
   ],
   "source": [
    "myfile=pd.read_csv(r\"C:\\Users\\Aqsa Kanwal\\Desktop\\datasets\\data.csv\")\n",
    "print(myfile.columns)"
   ]
  },
  {
   "cell_type": "markdown",
   "id": "c22eb646",
   "metadata": {},
   "source": [
    "# describe"
   ]
  },
  {
   "cell_type": "code",
   "execution_count": 23,
   "id": "503ac3b8",
   "metadata": {},
   "outputs": [
    {
     "data": {
      "text/html": [
       "<div>\n",
       "<style scoped>\n",
       "    .dataframe tbody tr th:only-of-type {\n",
       "        vertical-align: middle;\n",
       "    }\n",
       "\n",
       "    .dataframe tbody tr th {\n",
       "        vertical-align: top;\n",
       "    }\n",
       "\n",
       "    .dataframe thead th {\n",
       "        text-align: right;\n",
       "    }\n",
       "</style>\n",
       "<table border=\"1\" class=\"dataframe\">\n",
       "  <thead>\n",
       "    <tr style=\"text-align: right;\">\n",
       "      <th></th>\n",
       "      <th>Duration</th>\n",
       "      <th>Pulse</th>\n",
       "      <th>Maxpulse</th>\n",
       "      <th>Calories</th>\n",
       "    </tr>\n",
       "  </thead>\n",
       "  <tbody>\n",
       "    <tr>\n",
       "      <th>count</th>\n",
       "      <td>169.000000</td>\n",
       "      <td>169.000000</td>\n",
       "      <td>169.000000</td>\n",
       "      <td>164.000000</td>\n",
       "    </tr>\n",
       "    <tr>\n",
       "      <th>mean</th>\n",
       "      <td>63.846154</td>\n",
       "      <td>107.461538</td>\n",
       "      <td>134.047337</td>\n",
       "      <td>375.790244</td>\n",
       "    </tr>\n",
       "    <tr>\n",
       "      <th>std</th>\n",
       "      <td>42.299949</td>\n",
       "      <td>14.510259</td>\n",
       "      <td>16.450434</td>\n",
       "      <td>266.379919</td>\n",
       "    </tr>\n",
       "    <tr>\n",
       "      <th>min</th>\n",
       "      <td>15.000000</td>\n",
       "      <td>80.000000</td>\n",
       "      <td>100.000000</td>\n",
       "      <td>50.300000</td>\n",
       "    </tr>\n",
       "    <tr>\n",
       "      <th>25%</th>\n",
       "      <td>45.000000</td>\n",
       "      <td>100.000000</td>\n",
       "      <td>124.000000</td>\n",
       "      <td>250.925000</td>\n",
       "    </tr>\n",
       "    <tr>\n",
       "      <th>50%</th>\n",
       "      <td>60.000000</td>\n",
       "      <td>105.000000</td>\n",
       "      <td>131.000000</td>\n",
       "      <td>318.600000</td>\n",
       "    </tr>\n",
       "    <tr>\n",
       "      <th>75%</th>\n",
       "      <td>60.000000</td>\n",
       "      <td>111.000000</td>\n",
       "      <td>141.000000</td>\n",
       "      <td>387.600000</td>\n",
       "    </tr>\n",
       "    <tr>\n",
       "      <th>max</th>\n",
       "      <td>300.000000</td>\n",
       "      <td>159.000000</td>\n",
       "      <td>184.000000</td>\n",
       "      <td>1860.400000</td>\n",
       "    </tr>\n",
       "  </tbody>\n",
       "</table>\n",
       "</div>"
      ],
      "text/plain": [
       "         Duration       Pulse    Maxpulse     Calories\n",
       "count  169.000000  169.000000  169.000000   164.000000\n",
       "mean    63.846154  107.461538  134.047337   375.790244\n",
       "std     42.299949   14.510259   16.450434   266.379919\n",
       "min     15.000000   80.000000  100.000000    50.300000\n",
       "25%     45.000000  100.000000  124.000000   250.925000\n",
       "50%     60.000000  105.000000  131.000000   318.600000\n",
       "75%     60.000000  111.000000  141.000000   387.600000\n",
       "max    300.000000  159.000000  184.000000  1860.400000"
      ]
     },
     "execution_count": 23,
     "metadata": {},
     "output_type": "execute_result"
    }
   ],
   "source": [
    "myfile=pd.read_csv(r\"C:\\Users\\Aqsa Kanwal\\Desktop\\datasets\\data.csv\")\n",
    "myfile.describe()"
   ]
  },
  {
   "cell_type": "markdown",
   "id": "13528a72",
   "metadata": {},
   "source": [
    "# slicing"
   ]
  },
  {
   "cell_type": "code",
   "execution_count": 24,
   "id": "a6c9807b",
   "metadata": {},
   "outputs": [
    {
     "data": {
      "text/html": [
       "<div>\n",
       "<style scoped>\n",
       "    .dataframe tbody tr th:only-of-type {\n",
       "        vertical-align: middle;\n",
       "    }\n",
       "\n",
       "    .dataframe tbody tr th {\n",
       "        vertical-align: top;\n",
       "    }\n",
       "\n",
       "    .dataframe thead th {\n",
       "        text-align: right;\n",
       "    }\n",
       "</style>\n",
       "<table border=\"1\" class=\"dataframe\">\n",
       "  <thead>\n",
       "    <tr style=\"text-align: right;\">\n",
       "      <th></th>\n",
       "      <th>Duration</th>\n",
       "      <th>Pulse</th>\n",
       "      <th>Maxpulse</th>\n",
       "      <th>Calories</th>\n",
       "    </tr>\n",
       "  </thead>\n",
       "  <tbody>\n",
       "    <tr>\n",
       "      <th>0</th>\n",
       "      <td>60</td>\n",
       "      <td>110</td>\n",
       "      <td>130</td>\n",
       "      <td>409.1</td>\n",
       "    </tr>\n",
       "    <tr>\n",
       "      <th>1</th>\n",
       "      <td>60</td>\n",
       "      <td>117</td>\n",
       "      <td>145</td>\n",
       "      <td>479.0</td>\n",
       "    </tr>\n",
       "    <tr>\n",
       "      <th>2</th>\n",
       "      <td>60</td>\n",
       "      <td>103</td>\n",
       "      <td>135</td>\n",
       "      <td>340.0</td>\n",
       "    </tr>\n",
       "    <tr>\n",
       "      <th>3</th>\n",
       "      <td>45</td>\n",
       "      <td>109</td>\n",
       "      <td>175</td>\n",
       "      <td>282.4</td>\n",
       "    </tr>\n",
       "    <tr>\n",
       "      <th>4</th>\n",
       "      <td>45</td>\n",
       "      <td>117</td>\n",
       "      <td>148</td>\n",
       "      <td>406.0</td>\n",
       "    </tr>\n",
       "  </tbody>\n",
       "</table>\n",
       "</div>"
      ],
      "text/plain": [
       "   Duration  Pulse  Maxpulse  Calories\n",
       "0        60    110       130     409.1\n",
       "1        60    117       145     479.0\n",
       "2        60    103       135     340.0\n",
       "3        45    109       175     282.4\n",
       "4        45    117       148     406.0"
      ]
     },
     "execution_count": 24,
     "metadata": {},
     "output_type": "execute_result"
    }
   ],
   "source": [
    "myfile[:5]"
   ]
  },
  {
   "cell_type": "code",
   "execution_count": 25,
   "id": "4f3c031d",
   "metadata": {},
   "outputs": [
    {
     "data": {
      "text/html": [
       "<div>\n",
       "<style scoped>\n",
       "    .dataframe tbody tr th:only-of-type {\n",
       "        vertical-align: middle;\n",
       "    }\n",
       "\n",
       "    .dataframe tbody tr th {\n",
       "        vertical-align: top;\n",
       "    }\n",
       "\n",
       "    .dataframe thead th {\n",
       "        text-align: right;\n",
       "    }\n",
       "</style>\n",
       "<table border=\"1\" class=\"dataframe\">\n",
       "  <thead>\n",
       "    <tr style=\"text-align: right;\">\n",
       "      <th></th>\n",
       "      <th>Duration</th>\n",
       "      <th>Pulse</th>\n",
       "      <th>Maxpulse</th>\n",
       "      <th>Calories</th>\n",
       "    </tr>\n",
       "  </thead>\n",
       "  <tbody>\n",
       "    <tr>\n",
       "      <th>6</th>\n",
       "      <td>60</td>\n",
       "      <td>110</td>\n",
       "      <td>136</td>\n",
       "      <td>374.0</td>\n",
       "    </tr>\n",
       "    <tr>\n",
       "      <th>7</th>\n",
       "      <td>45</td>\n",
       "      <td>104</td>\n",
       "      <td>134</td>\n",
       "      <td>253.3</td>\n",
       "    </tr>\n",
       "    <tr>\n",
       "      <th>8</th>\n",
       "      <td>30</td>\n",
       "      <td>109</td>\n",
       "      <td>133</td>\n",
       "      <td>195.1</td>\n",
       "    </tr>\n",
       "    <tr>\n",
       "      <th>9</th>\n",
       "      <td>60</td>\n",
       "      <td>98</td>\n",
       "      <td>124</td>\n",
       "      <td>269.0</td>\n",
       "    </tr>\n",
       "    <tr>\n",
       "      <th>10</th>\n",
       "      <td>60</td>\n",
       "      <td>103</td>\n",
       "      <td>147</td>\n",
       "      <td>329.3</td>\n",
       "    </tr>\n",
       "  </tbody>\n",
       "</table>\n",
       "</div>"
      ],
      "text/plain": [
       "    Duration  Pulse  Maxpulse  Calories\n",
       "6         60    110       136     374.0\n",
       "7         45    104       134     253.3\n",
       "8         30    109       133     195.1\n",
       "9         60     98       124     269.0\n",
       "10        60    103       147     329.3"
      ]
     },
     "execution_count": 25,
     "metadata": {},
     "output_type": "execute_result"
    }
   ],
   "source": [
    "myfile[6:11]"
   ]
  },
  {
   "cell_type": "markdown",
   "id": "feec5273",
   "metadata": {},
   "source": [
    "# convert index number to an array"
   ]
  },
  {
   "cell_type": "code",
   "execution_count": 26,
   "id": "85f7e467",
   "metadata": {},
   "outputs": [
    {
     "data": {
      "text/plain": [
       "<PandasArray>\n",
       "[  0,   1,   2,   3,   4,   5,   6,   7,   8,   9,\n",
       " ...\n",
       " 159, 160, 161, 162, 163, 164, 165, 166, 167, 168]\n",
       "Length: 169, dtype: int64"
      ]
     },
     "execution_count": 26,
     "metadata": {},
     "output_type": "execute_result"
    }
   ],
   "source": [
    "myfile.index.array"
   ]
  },
  {
   "cell_type": "markdown",
   "id": "1fcd5a9e",
   "metadata": {},
   "source": [
    "# convert it into numpy"
   ]
  },
  {
   "cell_type": "code",
   "execution_count": 27,
   "id": "ace82f87",
   "metadata": {},
   "outputs": [
    {
     "data": {
      "text/plain": [
       "array([[  60. ,  110. ,  130. ,  409.1],\n",
       "       [  60. ,  117. ,  145. ,  479. ],\n",
       "       [  60. ,  103. ,  135. ,  340. ],\n",
       "       [  45. ,  109. ,  175. ,  282.4],\n",
       "       [  45. ,  117. ,  148. ,  406. ],\n",
       "       [  60. ,  102. ,  127. ,  300. ],\n",
       "       [  60. ,  110. ,  136. ,  374. ],\n",
       "       [  45. ,  104. ,  134. ,  253.3],\n",
       "       [  30. ,  109. ,  133. ,  195.1],\n",
       "       [  60. ,   98. ,  124. ,  269. ],\n",
       "       [  60. ,  103. ,  147. ,  329.3],\n",
       "       [  60. ,  100. ,  120. ,  250.7],\n",
       "       [  60. ,  106. ,  128. ,  345.3],\n",
       "       [  60. ,  104. ,  132. ,  379.3],\n",
       "       [  60. ,   98. ,  123. ,  275. ],\n",
       "       [  60. ,   98. ,  120. ,  215.2],\n",
       "       [  60. ,  100. ,  120. ,  300. ],\n",
       "       [  45. ,   90. ,  112. ,    nan],\n",
       "       [  60. ,  103. ,  123. ,  323. ],\n",
       "       [  45. ,   97. ,  125. ,  243. ],\n",
       "       [  60. ,  108. ,  131. ,  364.2],\n",
       "       [  45. ,  100. ,  119. ,  282. ],\n",
       "       [  60. ,  130. ,  101. ,  300. ],\n",
       "       [  45. ,  105. ,  132. ,  246. ],\n",
       "       [  60. ,  102. ,  126. ,  334.5],\n",
       "       [  60. ,  100. ,  120. ,  250. ],\n",
       "       [  60. ,   92. ,  118. ,  241. ],\n",
       "       [  60. ,  103. ,  132. ,    nan],\n",
       "       [  60. ,  100. ,  132. ,  280. ],\n",
       "       [  60. ,  102. ,  129. ,  380.3],\n",
       "       [  60. ,   92. ,  115. ,  243. ],\n",
       "       [  45. ,   90. ,  112. ,  180.1],\n",
       "       [  60. ,  101. ,  124. ,  299. ],\n",
       "       [  60. ,   93. ,  113. ,  223. ],\n",
       "       [  60. ,  107. ,  136. ,  361. ],\n",
       "       [  60. ,  114. ,  140. ,  415. ],\n",
       "       [  60. ,  102. ,  127. ,  300. ],\n",
       "       [  60. ,  100. ,  120. ,  300. ],\n",
       "       [  60. ,  100. ,  120. ,  300. ],\n",
       "       [  45. ,  104. ,  129. ,  266. ],\n",
       "       [  45. ,   90. ,  112. ,  180.1],\n",
       "       [  60. ,   98. ,  126. ,  286. ],\n",
       "       [  60. ,  100. ,  122. ,  329.4],\n",
       "       [  60. ,  111. ,  138. ,  400. ],\n",
       "       [  60. ,  111. ,  131. ,  397. ],\n",
       "       [  60. ,   99. ,  119. ,  273. ],\n",
       "       [  60. ,  109. ,  153. ,  387.6],\n",
       "       [  45. ,  111. ,  136. ,  300. ],\n",
       "       [  45. ,  108. ,  129. ,  298. ],\n",
       "       [  60. ,  111. ,  139. ,  397.6],\n",
       "       [  60. ,  107. ,  136. ,  380.2],\n",
       "       [  80. ,  123. ,  146. ,  643.1],\n",
       "       [  60. ,  106. ,  130. ,  263. ],\n",
       "       [  60. ,  118. ,  151. ,  486. ],\n",
       "       [  30. ,  136. ,  175. ,  238. ],\n",
       "       [  60. ,  121. ,  146. ,  450.7],\n",
       "       [  60. ,  118. ,  121. ,  413. ],\n",
       "       [  45. ,  115. ,  144. ,  305. ],\n",
       "       [  20. ,  153. ,  172. ,  226.4],\n",
       "       [  45. ,  123. ,  152. ,  321. ],\n",
       "       [ 210. ,  108. ,  160. , 1376. ],\n",
       "       [ 160. ,  110. ,  137. , 1034.4],\n",
       "       [ 160. ,  109. ,  135. ,  853. ],\n",
       "       [  45. ,  118. ,  141. ,  341. ],\n",
       "       [  20. ,  110. ,  130. ,  131.4],\n",
       "       [ 180. ,   90. ,  130. ,  800.4],\n",
       "       [ 150. ,  105. ,  135. ,  873.4],\n",
       "       [ 150. ,  107. ,  130. ,  816. ],\n",
       "       [  20. ,  106. ,  136. ,  110.4],\n",
       "       [ 300. ,  108. ,  143. , 1500.2],\n",
       "       [ 150. ,   97. ,  129. , 1115. ],\n",
       "       [  60. ,  109. ,  153. ,  387.6],\n",
       "       [  90. ,  100. ,  127. ,  700. ],\n",
       "       [ 150. ,   97. ,  127. ,  953.2],\n",
       "       [  45. ,  114. ,  146. ,  304. ],\n",
       "       [  90. ,   98. ,  125. ,  563.2],\n",
       "       [  45. ,  105. ,  134. ,  251. ],\n",
       "       [  45. ,  110. ,  141. ,  300. ],\n",
       "       [ 120. ,  100. ,  130. ,  500.4],\n",
       "       [ 270. ,  100. ,  131. , 1729. ],\n",
       "       [  30. ,  159. ,  182. ,  319.2],\n",
       "       [  45. ,  149. ,  169. ,  344. ],\n",
       "       [  30. ,  103. ,  139. ,  151.1],\n",
       "       [ 120. ,  100. ,  130. ,  500. ],\n",
       "       [  45. ,  100. ,  120. ,  225.3],\n",
       "       [  30. ,  151. ,  170. ,  300. ],\n",
       "       [  45. ,  102. ,  136. ,  234. ],\n",
       "       [ 120. ,  100. ,  157. , 1000.1],\n",
       "       [  45. ,  129. ,  103. ,  242. ],\n",
       "       [  20. ,   83. ,  107. ,   50.3],\n",
       "       [ 180. ,  101. ,  127. ,  600.1],\n",
       "       [  45. ,  107. ,  137. ,    nan],\n",
       "       [  30. ,   90. ,  107. ,  105.3],\n",
       "       [  15. ,   80. ,  100. ,   50.5],\n",
       "       [  20. ,  150. ,  171. ,  127.4],\n",
       "       [  20. ,  151. ,  168. ,  229.4],\n",
       "       [  30. ,   95. ,  128. ,  128.2],\n",
       "       [  25. ,  152. ,  168. ,  244.2],\n",
       "       [  30. ,  109. ,  131. ,  188.2],\n",
       "       [  90. ,   93. ,  124. ,  604.1],\n",
       "       [  20. ,   95. ,  112. ,   77.7],\n",
       "       [  90. ,   90. ,  110. ,  500. ],\n",
       "       [  90. ,   90. ,  100. ,  500. ],\n",
       "       [  90. ,   90. ,  100. ,  500.4],\n",
       "       [  30. ,   92. ,  108. ,   92.7],\n",
       "       [  30. ,   93. ,  128. ,  124. ],\n",
       "       [ 180. ,   90. ,  120. ,  800.3],\n",
       "       [  30. ,   90. ,  120. ,   86.2],\n",
       "       [  90. ,   90. ,  120. ,  500.3],\n",
       "       [ 210. ,  137. ,  184. , 1860.4],\n",
       "       [  60. ,  102. ,  124. ,  325.2],\n",
       "       [  45. ,  107. ,  124. ,  275. ],\n",
       "       [  15. ,  124. ,  139. ,  124.2],\n",
       "       [  45. ,  100. ,  120. ,  225.3],\n",
       "       [  60. ,  108. ,  131. ,  367.6],\n",
       "       [  60. ,  108. ,  151. ,  351.7],\n",
       "       [  60. ,  116. ,  141. ,  443. ],\n",
       "       [  60. ,   97. ,  122. ,  277.4],\n",
       "       [  60. ,  105. ,  125. ,    nan],\n",
       "       [  60. ,  103. ,  124. ,  332.7],\n",
       "       [  30. ,  112. ,  137. ,  193.9],\n",
       "       [  45. ,  100. ,  120. ,  100.7],\n",
       "       [  60. ,  119. ,  169. ,  336.7],\n",
       "       [  60. ,  107. ,  127. ,  344.9],\n",
       "       [  60. ,  111. ,  151. ,  368.5],\n",
       "       [  60. ,   98. ,  122. ,  271. ],\n",
       "       [  60. ,   97. ,  124. ,  275.3],\n",
       "       [  60. ,  109. ,  127. ,  382. ],\n",
       "       [  90. ,   99. ,  125. ,  466.4],\n",
       "       [  60. ,  114. ,  151. ,  384. ],\n",
       "       [  60. ,  104. ,  134. ,  342.5],\n",
       "       [  60. ,  107. ,  138. ,  357.5],\n",
       "       [  60. ,  103. ,  133. ,  335. ],\n",
       "       [  60. ,  106. ,  132. ,  327.5],\n",
       "       [  60. ,  103. ,  136. ,  339. ],\n",
       "       [  20. ,  136. ,  156. ,  189. ],\n",
       "       [  45. ,  117. ,  143. ,  317.7],\n",
       "       [  45. ,  115. ,  137. ,  318. ],\n",
       "       [  45. ,  113. ,  138. ,  308. ],\n",
       "       [  20. ,  141. ,  162. ,  222.4],\n",
       "       [  60. ,  108. ,  135. ,  390. ],\n",
       "       [  60. ,   97. ,  127. ,    nan],\n",
       "       [  45. ,  100. ,  120. ,  250.4],\n",
       "       [  45. ,  122. ,  149. ,  335.4],\n",
       "       [  60. ,  136. ,  170. ,  470.2],\n",
       "       [  45. ,  106. ,  126. ,  270.8],\n",
       "       [  60. ,  107. ,  136. ,  400. ],\n",
       "       [  60. ,  112. ,  146. ,  361.9],\n",
       "       [  30. ,  103. ,  127. ,  185. ],\n",
       "       [  60. ,  110. ,  150. ,  409.4],\n",
       "       [  60. ,  106. ,  134. ,  343. ],\n",
       "       [  60. ,  109. ,  129. ,  353.2],\n",
       "       [  60. ,  109. ,  138. ,  374. ],\n",
       "       [  30. ,  150. ,  167. ,  275.8],\n",
       "       [  60. ,  105. ,  128. ,  328. ],\n",
       "       [  60. ,  111. ,  151. ,  368.5],\n",
       "       [  60. ,   97. ,  131. ,  270.4],\n",
       "       [  60. ,  100. ,  120. ,  270.4],\n",
       "       [  60. ,  114. ,  150. ,  382.8],\n",
       "       [  30. ,   80. ,  120. ,  240.9],\n",
       "       [  30. ,   85. ,  120. ,  250.4],\n",
       "       [  45. ,   90. ,  130. ,  260.4],\n",
       "       [  45. ,   95. ,  130. ,  270. ],\n",
       "       [  45. ,  100. ,  140. ,  280.9],\n",
       "       [  60. ,  105. ,  140. ,  290.8],\n",
       "       [  60. ,  110. ,  145. ,  300. ],\n",
       "       [  60. ,  115. ,  145. ,  310.2],\n",
       "       [  75. ,  120. ,  150. ,  320.4],\n",
       "       [  75. ,  125. ,  150. ,  330.4]])"
      ]
     },
     "execution_count": 27,
     "metadata": {},
     "output_type": "execute_result"
    }
   ],
   "source": [
    "myfile.to_numpy()"
   ]
  },
  {
   "cell_type": "code",
   "execution_count": 29,
   "id": "7eae6dd3",
   "metadata": {},
   "outputs": [
    {
     "name": "stdout",
     "output_type": "stream",
     "text": [
      "[[  60.   110.   130.   409.1]\n",
      " [  60.   117.   145.   479. ]\n",
      " [  60.   103.   135.   340. ]\n",
      " [  45.   109.   175.   282.4]\n",
      " [  45.   117.   148.   406. ]\n",
      " [  60.   102.   127.   300. ]\n",
      " [  60.   110.   136.   374. ]\n",
      " [  45.   104.   134.   253.3]\n",
      " [  30.   109.   133.   195.1]\n",
      " [  60.    98.   124.   269. ]\n",
      " [  60.   103.   147.   329.3]\n",
      " [  60.   100.   120.   250.7]\n",
      " [  60.   106.   128.   345.3]\n",
      " [  60.   104.   132.   379.3]\n",
      " [  60.    98.   123.   275. ]\n",
      " [  60.    98.   120.   215.2]\n",
      " [  60.   100.   120.   300. ]\n",
      " [  45.    90.   112.     nan]\n",
      " [  60.   103.   123.   323. ]\n",
      " [  45.    97.   125.   243. ]\n",
      " [  60.   108.   131.   364.2]\n",
      " [  45.   100.   119.   282. ]\n",
      " [  60.   130.   101.   300. ]\n",
      " [  45.   105.   132.   246. ]\n",
      " [  60.   102.   126.   334.5]\n",
      " [  60.   100.   120.   250. ]\n",
      " [  60.    92.   118.   241. ]\n",
      " [  60.   103.   132.     nan]\n",
      " [  60.   100.   132.   280. ]\n",
      " [  60.   102.   129.   380.3]\n",
      " [  60.    92.   115.   243. ]\n",
      " [  45.    90.   112.   180.1]\n",
      " [  60.   101.   124.   299. ]\n",
      " [  60.    93.   113.   223. ]\n",
      " [  60.   107.   136.   361. ]\n",
      " [  60.   114.   140.   415. ]\n",
      " [  60.   102.   127.   300. ]\n",
      " [  60.   100.   120.   300. ]\n",
      " [  60.   100.   120.   300. ]\n",
      " [  45.   104.   129.   266. ]\n",
      " [  45.    90.   112.   180.1]\n",
      " [  60.    98.   126.   286. ]\n",
      " [  60.   100.   122.   329.4]\n",
      " [  60.   111.   138.   400. ]\n",
      " [  60.   111.   131.   397. ]\n",
      " [  60.    99.   119.   273. ]\n",
      " [  60.   109.   153.   387.6]\n",
      " [  45.   111.   136.   300. ]\n",
      " [  45.   108.   129.   298. ]\n",
      " [  60.   111.   139.   397.6]\n",
      " [  60.   107.   136.   380.2]\n",
      " [  80.   123.   146.   643.1]\n",
      " [  60.   106.   130.   263. ]\n",
      " [  60.   118.   151.   486. ]\n",
      " [  30.   136.   175.   238. ]\n",
      " [  60.   121.   146.   450.7]\n",
      " [  60.   118.   121.   413. ]\n",
      " [  45.   115.   144.   305. ]\n",
      " [  20.   153.   172.   226.4]\n",
      " [  45.   123.   152.   321. ]\n",
      " [ 210.   108.   160.  1376. ]\n",
      " [ 160.   110.   137.  1034.4]\n",
      " [ 160.   109.   135.   853. ]\n",
      " [  45.   118.   141.   341. ]\n",
      " [  20.   110.   130.   131.4]\n",
      " [ 180.    90.   130.   800.4]\n",
      " [ 150.   105.   135.   873.4]\n",
      " [ 150.   107.   130.   816. ]\n",
      " [  20.   106.   136.   110.4]\n",
      " [ 300.   108.   143.  1500.2]\n",
      " [ 150.    97.   129.  1115. ]\n",
      " [  60.   109.   153.   387.6]\n",
      " [  90.   100.   127.   700. ]\n",
      " [ 150.    97.   127.   953.2]\n",
      " [  45.   114.   146.   304. ]\n",
      " [  90.    98.   125.   563.2]\n",
      " [  45.   105.   134.   251. ]\n",
      " [  45.   110.   141.   300. ]\n",
      " [ 120.   100.   130.   500.4]\n",
      " [ 270.   100.   131.  1729. ]\n",
      " [  30.   159.   182.   319.2]\n",
      " [  45.   149.   169.   344. ]\n",
      " [  30.   103.   139.   151.1]\n",
      " [ 120.   100.   130.   500. ]\n",
      " [  45.   100.   120.   225.3]\n",
      " [  30.   151.   170.   300. ]\n",
      " [  45.   102.   136.   234. ]\n",
      " [ 120.   100.   157.  1000.1]\n",
      " [  45.   129.   103.   242. ]\n",
      " [  20.    83.   107.    50.3]\n",
      " [ 180.   101.   127.   600.1]\n",
      " [  45.   107.   137.     nan]\n",
      " [  30.    90.   107.   105.3]\n",
      " [  15.    80.   100.    50.5]\n",
      " [  20.   150.   171.   127.4]\n",
      " [  20.   151.   168.   229.4]\n",
      " [  30.    95.   128.   128.2]\n",
      " [  25.   152.   168.   244.2]\n",
      " [  30.   109.   131.   188.2]\n",
      " [  90.    93.   124.   604.1]\n",
      " [  20.    95.   112.    77.7]\n",
      " [  90.    90.   110.   500. ]\n",
      " [  90.    90.   100.   500. ]\n",
      " [  90.    90.   100.   500.4]\n",
      " [  30.    92.   108.    92.7]\n",
      " [  30.    93.   128.   124. ]\n",
      " [ 180.    90.   120.   800.3]\n",
      " [  30.    90.   120.    86.2]\n",
      " [  90.    90.   120.   500.3]\n",
      " [ 210.   137.   184.  1860.4]\n",
      " [  60.   102.   124.   325.2]\n",
      " [  45.   107.   124.   275. ]\n",
      " [  15.   124.   139.   124.2]\n",
      " [  45.   100.   120.   225.3]\n",
      " [  60.   108.   131.   367.6]\n",
      " [  60.   108.   151.   351.7]\n",
      " [  60.   116.   141.   443. ]\n",
      " [  60.    97.   122.   277.4]\n",
      " [  60.   105.   125.     nan]\n",
      " [  60.   103.   124.   332.7]\n",
      " [  30.   112.   137.   193.9]\n",
      " [  45.   100.   120.   100.7]\n",
      " [  60.   119.   169.   336.7]\n",
      " [  60.   107.   127.   344.9]\n",
      " [  60.   111.   151.   368.5]\n",
      " [  60.    98.   122.   271. ]\n",
      " [  60.    97.   124.   275.3]\n",
      " [  60.   109.   127.   382. ]\n",
      " [  90.    99.   125.   466.4]\n",
      " [  60.   114.   151.   384. ]\n",
      " [  60.   104.   134.   342.5]\n",
      " [  60.   107.   138.   357.5]\n",
      " [  60.   103.   133.   335. ]\n",
      " [  60.   106.   132.   327.5]\n",
      " [  60.   103.   136.   339. ]\n",
      " [  20.   136.   156.   189. ]\n",
      " [  45.   117.   143.   317.7]\n",
      " [  45.   115.   137.   318. ]\n",
      " [  45.   113.   138.   308. ]\n",
      " [  20.   141.   162.   222.4]\n",
      " [  60.   108.   135.   390. ]\n",
      " [  60.    97.   127.     nan]\n",
      " [  45.   100.   120.   250.4]\n",
      " [  45.   122.   149.   335.4]\n",
      " [  60.   136.   170.   470.2]\n",
      " [  45.   106.   126.   270.8]\n",
      " [  60.   107.   136.   400. ]\n",
      " [  60.   112.   146.   361.9]\n",
      " [  30.   103.   127.   185. ]\n",
      " [  60.   110.   150.   409.4]\n",
      " [  60.   106.   134.   343. ]\n",
      " [  60.   109.   129.   353.2]\n",
      " [  60.   109.   138.   374. ]\n",
      " [  30.   150.   167.   275.8]\n",
      " [  60.   105.   128.   328. ]\n",
      " [  60.   111.   151.   368.5]\n",
      " [  60.    97.   131.   270.4]\n",
      " [  60.   100.   120.   270.4]\n",
      " [  60.   114.   150.   382.8]\n",
      " [  30.    80.   120.   240.9]\n",
      " [  30.    85.   120.   250.4]\n",
      " [  45.    90.   130.   260.4]\n",
      " [  45.    95.   130.   270. ]\n",
      " [  45.   100.   140.   280.9]\n",
      " [  60.   105.   140.   290.8]\n",
      " [  60.   110.   145.   300. ]\n",
      " [  60.   115.   145.   310.2]\n",
      " [  75.   120.   150.   320.4]\n",
      " [  75.   125.   150.   330.4]]\n"
     ]
    }
   ],
   "source": [
    "import numpy as np\n",
    "v=np.asarray(myfile)\n",
    "print(v)"
   ]
  },
  {
   "cell_type": "markdown",
   "id": "5a03f0f0",
   "metadata": {},
   "source": [
    "# sort into descending order"
   ]
  },
  {
   "cell_type": "code",
   "execution_count": 32,
   "id": "1b1e40b7",
   "metadata": {},
   "outputs": [
    {
     "data": {
      "text/html": [
       "<div>\n",
       "<style scoped>\n",
       "    .dataframe tbody tr th:only-of-type {\n",
       "        vertical-align: middle;\n",
       "    }\n",
       "\n",
       "    .dataframe tbody tr th {\n",
       "        vertical-align: top;\n",
       "    }\n",
       "\n",
       "    .dataframe thead th {\n",
       "        text-align: right;\n",
       "    }\n",
       "</style>\n",
       "<table border=\"1\" class=\"dataframe\">\n",
       "  <thead>\n",
       "    <tr style=\"text-align: right;\">\n",
       "      <th></th>\n",
       "      <th>Duration</th>\n",
       "      <th>Pulse</th>\n",
       "      <th>Maxpulse</th>\n",
       "      <th>Calories</th>\n",
       "    </tr>\n",
       "  </thead>\n",
       "  <tbody>\n",
       "    <tr>\n",
       "      <th>168</th>\n",
       "      <td>75</td>\n",
       "      <td>125</td>\n",
       "      <td>150</td>\n",
       "      <td>330.4</td>\n",
       "    </tr>\n",
       "    <tr>\n",
       "      <th>167</th>\n",
       "      <td>75</td>\n",
       "      <td>120</td>\n",
       "      <td>150</td>\n",
       "      <td>320.4</td>\n",
       "    </tr>\n",
       "    <tr>\n",
       "      <th>166</th>\n",
       "      <td>60</td>\n",
       "      <td>115</td>\n",
       "      <td>145</td>\n",
       "      <td>310.2</td>\n",
       "    </tr>\n",
       "    <tr>\n",
       "      <th>165</th>\n",
       "      <td>60</td>\n",
       "      <td>110</td>\n",
       "      <td>145</td>\n",
       "      <td>300.0</td>\n",
       "    </tr>\n",
       "    <tr>\n",
       "      <th>164</th>\n",
       "      <td>60</td>\n",
       "      <td>105</td>\n",
       "      <td>140</td>\n",
       "      <td>290.8</td>\n",
       "    </tr>\n",
       "    <tr>\n",
       "      <th>...</th>\n",
       "      <td>...</td>\n",
       "      <td>...</td>\n",
       "      <td>...</td>\n",
       "      <td>...</td>\n",
       "    </tr>\n",
       "    <tr>\n",
       "      <th>4</th>\n",
       "      <td>45</td>\n",
       "      <td>117</td>\n",
       "      <td>148</td>\n",
       "      <td>406.0</td>\n",
       "    </tr>\n",
       "    <tr>\n",
       "      <th>3</th>\n",
       "      <td>45</td>\n",
       "      <td>109</td>\n",
       "      <td>175</td>\n",
       "      <td>282.4</td>\n",
       "    </tr>\n",
       "    <tr>\n",
       "      <th>2</th>\n",
       "      <td>60</td>\n",
       "      <td>103</td>\n",
       "      <td>135</td>\n",
       "      <td>340.0</td>\n",
       "    </tr>\n",
       "    <tr>\n",
       "      <th>1</th>\n",
       "      <td>60</td>\n",
       "      <td>117</td>\n",
       "      <td>145</td>\n",
       "      <td>479.0</td>\n",
       "    </tr>\n",
       "    <tr>\n",
       "      <th>0</th>\n",
       "      <td>60</td>\n",
       "      <td>110</td>\n",
       "      <td>130</td>\n",
       "      <td>409.1</td>\n",
       "    </tr>\n",
       "  </tbody>\n",
       "</table>\n",
       "<p>169 rows × 4 columns</p>\n",
       "</div>"
      ],
      "text/plain": [
       "     Duration  Pulse  Maxpulse  Calories\n",
       "168        75    125       150     330.4\n",
       "167        75    120       150     320.4\n",
       "166        60    115       145     310.2\n",
       "165        60    110       145     300.0\n",
       "164        60    105       140     290.8\n",
       "..        ...    ...       ...       ...\n",
       "4          45    117       148     406.0\n",
       "3          45    109       175     282.4\n",
       "2          60    103       135     340.0\n",
       "1          60    117       145     479.0\n",
       "0          60    110       130     409.1\n",
       "\n",
       "[169 rows x 4 columns]"
      ]
     },
     "execution_count": 32,
     "metadata": {},
     "output_type": "execute_result"
    }
   ],
   "source": [
    "myfile.sort_index(axis=0,ascending=False)"
   ]
  },
  {
   "cell_type": "markdown",
   "id": "910d8999",
   "metadata": {},
   "source": [
    "# change the data"
   ]
  },
  {
   "cell_type": "code",
   "execution_count": 34,
   "id": "15597be0",
   "metadata": {},
   "outputs": [
    {
     "name": "stdout",
     "output_type": "stream",
     "text": [
      "     Duration  Pulse  Maxpulse  Calories\n",
      "0          60    110       130     409.1\n",
      "1          60    117       145     479.0\n",
      "2          60    103        23     340.0\n",
      "3          45    109       175     282.4\n",
      "4          45    117       148     406.0\n",
      "..        ...    ...       ...       ...\n",
      "164        60    105       140     290.8\n",
      "165        60    110       145     300.0\n",
      "166        60    115       145     310.2\n",
      "167        75    120       150     320.4\n",
      "168        75    125       150     330.4\n",
      "\n",
      "[169 rows x 4 columns]\n"
     ]
    }
   ],
   "source": [
    "myfile.loc[2,\"Maxpulse\"]=23\n",
    "print(myfile)"
   ]
  },
  {
   "cell_type": "markdown",
   "id": "15165120",
   "metadata": {},
   "source": [
    "# to get particular columns and rows data"
   ]
  },
  {
   "cell_type": "markdown",
   "id": "0af33819",
   "metadata": {},
   "source": [
    "# loc"
   ]
  },
  {
   "cell_type": "code",
   "execution_count": 38,
   "id": "ef0470ed",
   "metadata": {},
   "outputs": [
    {
     "data": {
      "text/html": [
       "<div>\n",
       "<style scoped>\n",
       "    .dataframe tbody tr th:only-of-type {\n",
       "        vertical-align: middle;\n",
       "    }\n",
       "\n",
       "    .dataframe tbody tr th {\n",
       "        vertical-align: top;\n",
       "    }\n",
       "\n",
       "    .dataframe thead th {\n",
       "        text-align: right;\n",
       "    }\n",
       "</style>\n",
       "<table border=\"1\" class=\"dataframe\">\n",
       "  <thead>\n",
       "    <tr style=\"text-align: right;\">\n",
       "      <th></th>\n",
       "      <th>Pulse</th>\n",
       "      <th>Maxpulse</th>\n",
       "    </tr>\n",
       "  </thead>\n",
       "  <tbody>\n",
       "    <tr>\n",
       "      <th>2</th>\n",
       "      <td>103</td>\n",
       "      <td>23</td>\n",
       "    </tr>\n",
       "    <tr>\n",
       "      <th>3</th>\n",
       "      <td>109</td>\n",
       "      <td>175</td>\n",
       "    </tr>\n",
       "  </tbody>\n",
       "</table>\n",
       "</div>"
      ],
      "text/plain": [
       "   Pulse  Maxpulse\n",
       "2    103        23\n",
       "3    109       175"
      ]
     },
     "execution_count": 38,
     "metadata": {},
     "output_type": "execute_result"
    }
   ],
   "source": [
    "myfile.loc[[2,3],[\"Pulse\", \"Maxpulse\"]]"
   ]
  },
  {
   "cell_type": "code",
   "execution_count": 41,
   "id": "b6d4426a",
   "metadata": {},
   "outputs": [
    {
     "data": {
      "text/html": [
       "<div>\n",
       "<style scoped>\n",
       "    .dataframe tbody tr th:only-of-type {\n",
       "        vertical-align: middle;\n",
       "    }\n",
       "\n",
       "    .dataframe tbody tr th {\n",
       "        vertical-align: top;\n",
       "    }\n",
       "\n",
       "    .dataframe thead th {\n",
       "        text-align: right;\n",
       "    }\n",
       "</style>\n",
       "<table border=\"1\" class=\"dataframe\">\n",
       "  <thead>\n",
       "    <tr style=\"text-align: right;\">\n",
       "      <th></th>\n",
       "      <th>Pulse</th>\n",
       "      <th>Maxpulse</th>\n",
       "    </tr>\n",
       "  </thead>\n",
       "  <tbody>\n",
       "    <tr>\n",
       "      <th>0</th>\n",
       "      <td>110</td>\n",
       "      <td>130</td>\n",
       "    </tr>\n",
       "    <tr>\n",
       "      <th>1</th>\n",
       "      <td>117</td>\n",
       "      <td>145</td>\n",
       "    </tr>\n",
       "    <tr>\n",
       "      <th>2</th>\n",
       "      <td>103</td>\n",
       "      <td>23</td>\n",
       "    </tr>\n",
       "    <tr>\n",
       "      <th>3</th>\n",
       "      <td>109</td>\n",
       "      <td>175</td>\n",
       "    </tr>\n",
       "    <tr>\n",
       "      <th>4</th>\n",
       "      <td>117</td>\n",
       "      <td>148</td>\n",
       "    </tr>\n",
       "    <tr>\n",
       "      <th>...</th>\n",
       "      <td>...</td>\n",
       "      <td>...</td>\n",
       "    </tr>\n",
       "    <tr>\n",
       "      <th>164</th>\n",
       "      <td>105</td>\n",
       "      <td>140</td>\n",
       "    </tr>\n",
       "    <tr>\n",
       "      <th>165</th>\n",
       "      <td>110</td>\n",
       "      <td>145</td>\n",
       "    </tr>\n",
       "    <tr>\n",
       "      <th>166</th>\n",
       "      <td>115</td>\n",
       "      <td>145</td>\n",
       "    </tr>\n",
       "    <tr>\n",
       "      <th>167</th>\n",
       "      <td>120</td>\n",
       "      <td>150</td>\n",
       "    </tr>\n",
       "    <tr>\n",
       "      <th>168</th>\n",
       "      <td>125</td>\n",
       "      <td>150</td>\n",
       "    </tr>\n",
       "  </tbody>\n",
       "</table>\n",
       "<p>169 rows × 2 columns</p>\n",
       "</div>"
      ],
      "text/plain": [
       "     Pulse  Maxpulse\n",
       "0      110       130\n",
       "1      117       145\n",
       "2      103        23\n",
       "3      109       175\n",
       "4      117       148\n",
       "..     ...       ...\n",
       "164    105       140\n",
       "165    110       145\n",
       "166    115       145\n",
       "167    120       150\n",
       "168    125       150\n",
       "\n",
       "[169 rows x 2 columns]"
      ]
     },
     "execution_count": 41,
     "metadata": {},
     "output_type": "execute_result"
    }
   ],
   "source": [
    "myfile.loc[:,[\"Pulse\", \"Maxpulse\"]]"
   ]
  },
  {
   "cell_type": "markdown",
   "id": "435d4fca",
   "metadata": {},
   "source": [
    "# iloc"
   ]
  },
  {
   "cell_type": "code",
   "execution_count": 43,
   "id": "df2d52a6",
   "metadata": {},
   "outputs": [
    {
     "data": {
      "text/plain": [
       "110"
      ]
     },
     "execution_count": 43,
     "metadata": {},
     "output_type": "execute_result"
    }
   ],
   "source": [
    "myfile.iloc[0,1]"
   ]
  },
  {
   "cell_type": "markdown",
   "id": "a19a120d",
   "metadata": {},
   "source": [
    "# drop"
   ]
  },
  {
   "cell_type": "markdown",
   "id": "8d17f79f",
   "metadata": {},
   "source": [
    "# column"
   ]
  },
  {
   "cell_type": "code",
   "execution_count": 44,
   "id": "5d65071e",
   "metadata": {},
   "outputs": [
    {
     "data": {
      "text/html": [
       "<div>\n",
       "<style scoped>\n",
       "    .dataframe tbody tr th:only-of-type {\n",
       "        vertical-align: middle;\n",
       "    }\n",
       "\n",
       "    .dataframe tbody tr th {\n",
       "        vertical-align: top;\n",
       "    }\n",
       "\n",
       "    .dataframe thead th {\n",
       "        text-align: right;\n",
       "    }\n",
       "</style>\n",
       "<table border=\"1\" class=\"dataframe\">\n",
       "  <thead>\n",
       "    <tr style=\"text-align: right;\">\n",
       "      <th></th>\n",
       "      <th>Duration</th>\n",
       "      <th>Pulse</th>\n",
       "      <th>Calories</th>\n",
       "    </tr>\n",
       "  </thead>\n",
       "  <tbody>\n",
       "    <tr>\n",
       "      <th>0</th>\n",
       "      <td>60</td>\n",
       "      <td>110</td>\n",
       "      <td>409.1</td>\n",
       "    </tr>\n",
       "    <tr>\n",
       "      <th>1</th>\n",
       "      <td>60</td>\n",
       "      <td>117</td>\n",
       "      <td>479.0</td>\n",
       "    </tr>\n",
       "    <tr>\n",
       "      <th>2</th>\n",
       "      <td>60</td>\n",
       "      <td>103</td>\n",
       "      <td>340.0</td>\n",
       "    </tr>\n",
       "    <tr>\n",
       "      <th>3</th>\n",
       "      <td>45</td>\n",
       "      <td>109</td>\n",
       "      <td>282.4</td>\n",
       "    </tr>\n",
       "    <tr>\n",
       "      <th>4</th>\n",
       "      <td>45</td>\n",
       "      <td>117</td>\n",
       "      <td>406.0</td>\n",
       "    </tr>\n",
       "    <tr>\n",
       "      <th>...</th>\n",
       "      <td>...</td>\n",
       "      <td>...</td>\n",
       "      <td>...</td>\n",
       "    </tr>\n",
       "    <tr>\n",
       "      <th>164</th>\n",
       "      <td>60</td>\n",
       "      <td>105</td>\n",
       "      <td>290.8</td>\n",
       "    </tr>\n",
       "    <tr>\n",
       "      <th>165</th>\n",
       "      <td>60</td>\n",
       "      <td>110</td>\n",
       "      <td>300.0</td>\n",
       "    </tr>\n",
       "    <tr>\n",
       "      <th>166</th>\n",
       "      <td>60</td>\n",
       "      <td>115</td>\n",
       "      <td>310.2</td>\n",
       "    </tr>\n",
       "    <tr>\n",
       "      <th>167</th>\n",
       "      <td>75</td>\n",
       "      <td>120</td>\n",
       "      <td>320.4</td>\n",
       "    </tr>\n",
       "    <tr>\n",
       "      <th>168</th>\n",
       "      <td>75</td>\n",
       "      <td>125</td>\n",
       "      <td>330.4</td>\n",
       "    </tr>\n",
       "  </tbody>\n",
       "</table>\n",
       "<p>169 rows × 3 columns</p>\n",
       "</div>"
      ],
      "text/plain": [
       "     Duration  Pulse  Calories\n",
       "0          60    110     409.1\n",
       "1          60    117     479.0\n",
       "2          60    103     340.0\n",
       "3          45    109     282.4\n",
       "4          45    117     406.0\n",
       "..        ...    ...       ...\n",
       "164        60    105     290.8\n",
       "165        60    110     300.0\n",
       "166        60    115     310.2\n",
       "167        75    120     320.4\n",
       "168        75    125     330.4\n",
       "\n",
       "[169 rows x 3 columns]"
      ]
     },
     "execution_count": 44,
     "metadata": {},
     "output_type": "execute_result"
    }
   ],
   "source": [
    "myfile.drop(\"Maxpulse\",axis=1)"
   ]
  },
  {
   "cell_type": "markdown",
   "id": "0192711e",
   "metadata": {},
   "source": [
    "# row"
   ]
  },
  {
   "cell_type": "code",
   "execution_count": 46,
   "id": "59e9bad6",
   "metadata": {},
   "outputs": [
    {
     "data": {
      "text/html": [
       "<div>\n",
       "<style scoped>\n",
       "    .dataframe tbody tr th:only-of-type {\n",
       "        vertical-align: middle;\n",
       "    }\n",
       "\n",
       "    .dataframe tbody tr th {\n",
       "        vertical-align: top;\n",
       "    }\n",
       "\n",
       "    .dataframe thead th {\n",
       "        text-align: right;\n",
       "    }\n",
       "</style>\n",
       "<table border=\"1\" class=\"dataframe\">\n",
       "  <thead>\n",
       "    <tr style=\"text-align: right;\">\n",
       "      <th></th>\n",
       "      <th>Duration</th>\n",
       "      <th>Pulse</th>\n",
       "      <th>Maxpulse</th>\n",
       "      <th>Calories</th>\n",
       "    </tr>\n",
       "  </thead>\n",
       "  <tbody>\n",
       "    <tr>\n",
       "      <th>0</th>\n",
       "      <td>60</td>\n",
       "      <td>110</td>\n",
       "      <td>130</td>\n",
       "      <td>409.1</td>\n",
       "    </tr>\n",
       "    <tr>\n",
       "      <th>2</th>\n",
       "      <td>60</td>\n",
       "      <td>103</td>\n",
       "      <td>23</td>\n",
       "      <td>340.0</td>\n",
       "    </tr>\n",
       "    <tr>\n",
       "      <th>3</th>\n",
       "      <td>45</td>\n",
       "      <td>109</td>\n",
       "      <td>175</td>\n",
       "      <td>282.4</td>\n",
       "    </tr>\n",
       "    <tr>\n",
       "      <th>4</th>\n",
       "      <td>45</td>\n",
       "      <td>117</td>\n",
       "      <td>148</td>\n",
       "      <td>406.0</td>\n",
       "    </tr>\n",
       "    <tr>\n",
       "      <th>5</th>\n",
       "      <td>60</td>\n",
       "      <td>102</td>\n",
       "      <td>127</td>\n",
       "      <td>300.0</td>\n",
       "    </tr>\n",
       "    <tr>\n",
       "      <th>...</th>\n",
       "      <td>...</td>\n",
       "      <td>...</td>\n",
       "      <td>...</td>\n",
       "      <td>...</td>\n",
       "    </tr>\n",
       "    <tr>\n",
       "      <th>164</th>\n",
       "      <td>60</td>\n",
       "      <td>105</td>\n",
       "      <td>140</td>\n",
       "      <td>290.8</td>\n",
       "    </tr>\n",
       "    <tr>\n",
       "      <th>165</th>\n",
       "      <td>60</td>\n",
       "      <td>110</td>\n",
       "      <td>145</td>\n",
       "      <td>300.0</td>\n",
       "    </tr>\n",
       "    <tr>\n",
       "      <th>166</th>\n",
       "      <td>60</td>\n",
       "      <td>115</td>\n",
       "      <td>145</td>\n",
       "      <td>310.2</td>\n",
       "    </tr>\n",
       "    <tr>\n",
       "      <th>167</th>\n",
       "      <td>75</td>\n",
       "      <td>120</td>\n",
       "      <td>150</td>\n",
       "      <td>320.4</td>\n",
       "    </tr>\n",
       "    <tr>\n",
       "      <th>168</th>\n",
       "      <td>75</td>\n",
       "      <td>125</td>\n",
       "      <td>150</td>\n",
       "      <td>330.4</td>\n",
       "    </tr>\n",
       "  </tbody>\n",
       "</table>\n",
       "<p>168 rows × 4 columns</p>\n",
       "</div>"
      ],
      "text/plain": [
       "     Duration  Pulse  Maxpulse  Calories\n",
       "0          60    110       130     409.1\n",
       "2          60    103        23     340.0\n",
       "3          45    109       175     282.4\n",
       "4          45    117       148     406.0\n",
       "5          60    102       127     300.0\n",
       "..        ...    ...       ...       ...\n",
       "164        60    105       140     290.8\n",
       "165        60    110       145     300.0\n",
       "166        60    115       145     310.2\n",
       "167        75    120       150     320.4\n",
       "168        75    125       150     330.4\n",
       "\n",
       "[168 rows x 4 columns]"
      ]
     },
     "execution_count": 46,
     "metadata": {},
     "output_type": "execute_result"
    }
   ],
   "source": [
    "myfile.drop(1,axis=0)"
   ]
  },
  {
   "cell_type": "markdown",
   "id": "f5a65cfa",
   "metadata": {},
   "source": [
    "# replace"
   ]
  },
  {
   "cell_type": "code",
   "execution_count": 47,
   "id": "8e2fc092",
   "metadata": {},
   "outputs": [
    {
     "data": {
      "text/html": [
       "<div>\n",
       "<style scoped>\n",
       "    .dataframe tbody tr th:only-of-type {\n",
       "        vertical-align: middle;\n",
       "    }\n",
       "\n",
       "    .dataframe tbody tr th {\n",
       "        vertical-align: top;\n",
       "    }\n",
       "\n",
       "    .dataframe thead th {\n",
       "        text-align: right;\n",
       "    }\n",
       "</style>\n",
       "<table border=\"1\" class=\"dataframe\">\n",
       "  <thead>\n",
       "    <tr style=\"text-align: right;\">\n",
       "      <th></th>\n",
       "      <th>Duration</th>\n",
       "      <th>Pulse</th>\n",
       "      <th>Maxpulse</th>\n",
       "      <th>Calories</th>\n",
       "    </tr>\n",
       "  </thead>\n",
       "  <tbody>\n",
       "    <tr>\n",
       "      <th>0</th>\n",
       "      <td>1</td>\n",
       "      <td>110</td>\n",
       "      <td>130</td>\n",
       "      <td>409.1</td>\n",
       "    </tr>\n",
       "    <tr>\n",
       "      <th>1</th>\n",
       "      <td>1</td>\n",
       "      <td>117</td>\n",
       "      <td>145</td>\n",
       "      <td>479.0</td>\n",
       "    </tr>\n",
       "    <tr>\n",
       "      <th>2</th>\n",
       "      <td>1</td>\n",
       "      <td>103</td>\n",
       "      <td>135</td>\n",
       "      <td>340.0</td>\n",
       "    </tr>\n",
       "    <tr>\n",
       "      <th>3</th>\n",
       "      <td>45</td>\n",
       "      <td>109</td>\n",
       "      <td>175</td>\n",
       "      <td>282.4</td>\n",
       "    </tr>\n",
       "    <tr>\n",
       "      <th>4</th>\n",
       "      <td>45</td>\n",
       "      <td>117</td>\n",
       "      <td>148</td>\n",
       "      <td>406.0</td>\n",
       "    </tr>\n",
       "    <tr>\n",
       "      <th>...</th>\n",
       "      <td>...</td>\n",
       "      <td>...</td>\n",
       "      <td>...</td>\n",
       "      <td>...</td>\n",
       "    </tr>\n",
       "    <tr>\n",
       "      <th>164</th>\n",
       "      <td>1</td>\n",
       "      <td>105</td>\n",
       "      <td>140</td>\n",
       "      <td>290.8</td>\n",
       "    </tr>\n",
       "    <tr>\n",
       "      <th>165</th>\n",
       "      <td>1</td>\n",
       "      <td>110</td>\n",
       "      <td>145</td>\n",
       "      <td>300.0</td>\n",
       "    </tr>\n",
       "    <tr>\n",
       "      <th>166</th>\n",
       "      <td>1</td>\n",
       "      <td>115</td>\n",
       "      <td>145</td>\n",
       "      <td>310.2</td>\n",
       "    </tr>\n",
       "    <tr>\n",
       "      <th>167</th>\n",
       "      <td>75</td>\n",
       "      <td>120</td>\n",
       "      <td>150</td>\n",
       "      <td>320.4</td>\n",
       "    </tr>\n",
       "    <tr>\n",
       "      <th>168</th>\n",
       "      <td>75</td>\n",
       "      <td>125</td>\n",
       "      <td>150</td>\n",
       "      <td>330.4</td>\n",
       "    </tr>\n",
       "  </tbody>\n",
       "</table>\n",
       "<p>169 rows × 4 columns</p>\n",
       "</div>"
      ],
      "text/plain": [
       "     Duration  Pulse  Maxpulse  Calories\n",
       "0           1    110       130     409.1\n",
       "1           1    117       145     479.0\n",
       "2           1    103       135     340.0\n",
       "3          45    109       175     282.4\n",
       "4          45    117       148     406.0\n",
       "..        ...    ...       ...       ...\n",
       "164         1    105       140     290.8\n",
       "165         1    110       145     300.0\n",
       "166         1    115       145     310.2\n",
       "167        75    120       150     320.4\n",
       "168        75    125       150     330.4\n",
       "\n",
       "[169 rows x 4 columns]"
      ]
     },
     "execution_count": 47,
     "metadata": {},
     "output_type": "execute_result"
    }
   ],
   "source": [
    "myfile=pd.read_csv(r\"C:\\Users\\Aqsa Kanwal\\Desktop\\datasets\\data.csv\")\n",
    "myfile.replace(to_replace=60,value=1)"
   ]
  },
  {
   "cell_type": "markdown",
   "id": "ba617ce5",
   "metadata": {},
   "source": [
    "# ffill"
   ]
  },
  {
   "cell_type": "code",
   "execution_count": 53,
   "id": "67039336",
   "metadata": {},
   "outputs": [
    {
     "data": {
      "text/html": [
       "<div>\n",
       "<style scoped>\n",
       "    .dataframe tbody tr th:only-of-type {\n",
       "        vertical-align: middle;\n",
       "    }\n",
       "\n",
       "    .dataframe tbody tr th {\n",
       "        vertical-align: top;\n",
       "    }\n",
       "\n",
       "    .dataframe thead th {\n",
       "        text-align: right;\n",
       "    }\n",
       "</style>\n",
       "<table border=\"1\" class=\"dataframe\">\n",
       "  <thead>\n",
       "    <tr style=\"text-align: right;\">\n",
       "      <th></th>\n",
       "      <th>Duration</th>\n",
       "      <th>Pulse</th>\n",
       "      <th>Maxpulse</th>\n",
       "      <th>Calories</th>\n",
       "    </tr>\n",
       "  </thead>\n",
       "  <tbody>\n",
       "    <tr>\n",
       "      <th>0</th>\n",
       "      <td>60</td>\n",
       "      <td>110</td>\n",
       "      <td>130</td>\n",
       "      <td>409.1</td>\n",
       "    </tr>\n",
       "    <tr>\n",
       "      <th>1</th>\n",
       "      <td>60</td>\n",
       "      <td>117</td>\n",
       "      <td>145</td>\n",
       "      <td>479.0</td>\n",
       "    </tr>\n",
       "    <tr>\n",
       "      <th>2</th>\n",
       "      <td>60</td>\n",
       "      <td>103</td>\n",
       "      <td>135</td>\n",
       "      <td>340.0</td>\n",
       "    </tr>\n",
       "    <tr>\n",
       "      <th>3</th>\n",
       "      <td>60</td>\n",
       "      <td>109</td>\n",
       "      <td>175</td>\n",
       "      <td>282.4</td>\n",
       "    </tr>\n",
       "    <tr>\n",
       "      <th>4</th>\n",
       "      <td>60</td>\n",
       "      <td>117</td>\n",
       "      <td>148</td>\n",
       "      <td>406.0</td>\n",
       "    </tr>\n",
       "    <tr>\n",
       "      <th>...</th>\n",
       "      <td>...</td>\n",
       "      <td>...</td>\n",
       "      <td>...</td>\n",
       "      <td>...</td>\n",
       "    </tr>\n",
       "    <tr>\n",
       "      <th>164</th>\n",
       "      <td>60</td>\n",
       "      <td>105</td>\n",
       "      <td>140</td>\n",
       "      <td>290.8</td>\n",
       "    </tr>\n",
       "    <tr>\n",
       "      <th>165</th>\n",
       "      <td>60</td>\n",
       "      <td>110</td>\n",
       "      <td>145</td>\n",
       "      <td>300.0</td>\n",
       "    </tr>\n",
       "    <tr>\n",
       "      <th>166</th>\n",
       "      <td>60</td>\n",
       "      <td>115</td>\n",
       "      <td>145</td>\n",
       "      <td>310.2</td>\n",
       "    </tr>\n",
       "    <tr>\n",
       "      <th>167</th>\n",
       "      <td>75</td>\n",
       "      <td>120</td>\n",
       "      <td>150</td>\n",
       "      <td>320.4</td>\n",
       "    </tr>\n",
       "    <tr>\n",
       "      <th>168</th>\n",
       "      <td>75</td>\n",
       "      <td>125</td>\n",
       "      <td>150</td>\n",
       "      <td>330.4</td>\n",
       "    </tr>\n",
       "  </tbody>\n",
       "</table>\n",
       "<p>169 rows × 4 columns</p>\n",
       "</div>"
      ],
      "text/plain": [
       "     Duration  Pulse  Maxpulse  Calories\n",
       "0          60    110       130     409.1\n",
       "1          60    117       145     479.0\n",
       "2          60    103       135     340.0\n",
       "3          60    109       175     282.4\n",
       "4          60    117       148     406.0\n",
       "..        ...    ...       ...       ...\n",
       "164        60    105       140     290.8\n",
       "165        60    110       145     300.0\n",
       "166        60    115       145     310.2\n",
       "167        75    120       150     320.4\n",
       "168        75    125       150     330.4\n",
       "\n",
       "[169 rows x 4 columns]"
      ]
     },
     "execution_count": 53,
     "metadata": {},
     "output_type": "execute_result"
    }
   ],
   "source": [
    "myfile.replace(45,method=\"ffill\")"
   ]
  },
  {
   "cell_type": "markdown",
   "id": "f20e158f",
   "metadata": {},
   "source": [
    "# bfill"
   ]
  },
  {
   "cell_type": "code",
   "execution_count": 54,
   "id": "fbc3730b",
   "metadata": {},
   "outputs": [
    {
     "data": {
      "text/html": [
       "<div>\n",
       "<style scoped>\n",
       "    .dataframe tbody tr th:only-of-type {\n",
       "        vertical-align: middle;\n",
       "    }\n",
       "\n",
       "    .dataframe tbody tr th {\n",
       "        vertical-align: top;\n",
       "    }\n",
       "\n",
       "    .dataframe thead th {\n",
       "        text-align: right;\n",
       "    }\n",
       "</style>\n",
       "<table border=\"1\" class=\"dataframe\">\n",
       "  <thead>\n",
       "    <tr style=\"text-align: right;\">\n",
       "      <th></th>\n",
       "      <th>Duration</th>\n",
       "      <th>Pulse</th>\n",
       "      <th>Maxpulse</th>\n",
       "      <th>Calories</th>\n",
       "    </tr>\n",
       "  </thead>\n",
       "  <tbody>\n",
       "    <tr>\n",
       "      <th>0</th>\n",
       "      <td>45</td>\n",
       "      <td>110</td>\n",
       "      <td>130</td>\n",
       "      <td>409.1</td>\n",
       "    </tr>\n",
       "    <tr>\n",
       "      <th>1</th>\n",
       "      <td>45</td>\n",
       "      <td>117</td>\n",
       "      <td>145</td>\n",
       "      <td>479.0</td>\n",
       "    </tr>\n",
       "    <tr>\n",
       "      <th>2</th>\n",
       "      <td>45</td>\n",
       "      <td>103</td>\n",
       "      <td>135</td>\n",
       "      <td>340.0</td>\n",
       "    </tr>\n",
       "    <tr>\n",
       "      <th>3</th>\n",
       "      <td>45</td>\n",
       "      <td>109</td>\n",
       "      <td>175</td>\n",
       "      <td>282.4</td>\n",
       "    </tr>\n",
       "    <tr>\n",
       "      <th>4</th>\n",
       "      <td>45</td>\n",
       "      <td>117</td>\n",
       "      <td>148</td>\n",
       "      <td>406.0</td>\n",
       "    </tr>\n",
       "    <tr>\n",
       "      <th>...</th>\n",
       "      <td>...</td>\n",
       "      <td>...</td>\n",
       "      <td>...</td>\n",
       "      <td>...</td>\n",
       "    </tr>\n",
       "    <tr>\n",
       "      <th>164</th>\n",
       "      <td>75</td>\n",
       "      <td>105</td>\n",
       "      <td>140</td>\n",
       "      <td>290.8</td>\n",
       "    </tr>\n",
       "    <tr>\n",
       "      <th>165</th>\n",
       "      <td>75</td>\n",
       "      <td>110</td>\n",
       "      <td>145</td>\n",
       "      <td>300.0</td>\n",
       "    </tr>\n",
       "    <tr>\n",
       "      <th>166</th>\n",
       "      <td>75</td>\n",
       "      <td>115</td>\n",
       "      <td>145</td>\n",
       "      <td>310.2</td>\n",
       "    </tr>\n",
       "    <tr>\n",
       "      <th>167</th>\n",
       "      <td>75</td>\n",
       "      <td>120</td>\n",
       "      <td>150</td>\n",
       "      <td>320.4</td>\n",
       "    </tr>\n",
       "    <tr>\n",
       "      <th>168</th>\n",
       "      <td>75</td>\n",
       "      <td>125</td>\n",
       "      <td>150</td>\n",
       "      <td>330.4</td>\n",
       "    </tr>\n",
       "  </tbody>\n",
       "</table>\n",
       "<p>169 rows × 4 columns</p>\n",
       "</div>"
      ],
      "text/plain": [
       "     Duration  Pulse  Maxpulse  Calories\n",
       "0          45    110       130     409.1\n",
       "1          45    117       145     479.0\n",
       "2          45    103       135     340.0\n",
       "3          45    109       175     282.4\n",
       "4          45    117       148     406.0\n",
       "..        ...    ...       ...       ...\n",
       "164        75    105       140     290.8\n",
       "165        75    110       145     300.0\n",
       "166        75    115       145     310.2\n",
       "167        75    120       150     320.4\n",
       "168        75    125       150     330.4\n",
       "\n",
       "[169 rows x 4 columns]"
      ]
     },
     "execution_count": 54,
     "metadata": {},
     "output_type": "execute_result"
    }
   ],
   "source": [
    "myfile.replace(60,method=\"bfill\")"
   ]
  },
  {
   "cell_type": "markdown",
   "id": "2248f1ea",
   "metadata": {},
   "source": [
    "# limit"
   ]
  },
  {
   "cell_type": "code",
   "execution_count": 52,
   "id": "70a8ccbb",
   "metadata": {},
   "outputs": [
    {
     "data": {
      "text/html": [
       "<div>\n",
       "<style scoped>\n",
       "    .dataframe tbody tr th:only-of-type {\n",
       "        vertical-align: middle;\n",
       "    }\n",
       "\n",
       "    .dataframe tbody tr th {\n",
       "        vertical-align: top;\n",
       "    }\n",
       "\n",
       "    .dataframe thead th {\n",
       "        text-align: right;\n",
       "    }\n",
       "</style>\n",
       "<table border=\"1\" class=\"dataframe\">\n",
       "  <thead>\n",
       "    <tr style=\"text-align: right;\">\n",
       "      <th></th>\n",
       "      <th>Duration</th>\n",
       "      <th>Pulse</th>\n",
       "      <th>Maxpulse</th>\n",
       "      <th>Calories</th>\n",
       "    </tr>\n",
       "  </thead>\n",
       "  <tbody>\n",
       "    <tr>\n",
       "      <th>0</th>\n",
       "      <td>60</td>\n",
       "      <td>110</td>\n",
       "      <td>130</td>\n",
       "      <td>409.1</td>\n",
       "    </tr>\n",
       "    <tr>\n",
       "      <th>1</th>\n",
       "      <td>45</td>\n",
       "      <td>117</td>\n",
       "      <td>145</td>\n",
       "      <td>479.0</td>\n",
       "    </tr>\n",
       "    <tr>\n",
       "      <th>2</th>\n",
       "      <td>45</td>\n",
       "      <td>103</td>\n",
       "      <td>135</td>\n",
       "      <td>340.0</td>\n",
       "    </tr>\n",
       "    <tr>\n",
       "      <th>3</th>\n",
       "      <td>45</td>\n",
       "      <td>109</td>\n",
       "      <td>175</td>\n",
       "      <td>282.4</td>\n",
       "    </tr>\n",
       "    <tr>\n",
       "      <th>4</th>\n",
       "      <td>45</td>\n",
       "      <td>117</td>\n",
       "      <td>148</td>\n",
       "      <td>406.0</td>\n",
       "    </tr>\n",
       "    <tr>\n",
       "      <th>...</th>\n",
       "      <td>...</td>\n",
       "      <td>...</td>\n",
       "      <td>...</td>\n",
       "      <td>...</td>\n",
       "    </tr>\n",
       "    <tr>\n",
       "      <th>164</th>\n",
       "      <td>60</td>\n",
       "      <td>105</td>\n",
       "      <td>140</td>\n",
       "      <td>290.8</td>\n",
       "    </tr>\n",
       "    <tr>\n",
       "      <th>165</th>\n",
       "      <td>75</td>\n",
       "      <td>110</td>\n",
       "      <td>145</td>\n",
       "      <td>300.0</td>\n",
       "    </tr>\n",
       "    <tr>\n",
       "      <th>166</th>\n",
       "      <td>75</td>\n",
       "      <td>115</td>\n",
       "      <td>145</td>\n",
       "      <td>310.2</td>\n",
       "    </tr>\n",
       "    <tr>\n",
       "      <th>167</th>\n",
       "      <td>75</td>\n",
       "      <td>120</td>\n",
       "      <td>150</td>\n",
       "      <td>320.4</td>\n",
       "    </tr>\n",
       "    <tr>\n",
       "      <th>168</th>\n",
       "      <td>75</td>\n",
       "      <td>125</td>\n",
       "      <td>150</td>\n",
       "      <td>330.4</td>\n",
       "    </tr>\n",
       "  </tbody>\n",
       "</table>\n",
       "<p>169 rows × 4 columns</p>\n",
       "</div>"
      ],
      "text/plain": [
       "     Duration  Pulse  Maxpulse  Calories\n",
       "0          60    110       130     409.1\n",
       "1          45    117       145     479.0\n",
       "2          45    103       135     340.0\n",
       "3          45    109       175     282.4\n",
       "4          45    117       148     406.0\n",
       "..        ...    ...       ...       ...\n",
       "164        60    105       140     290.8\n",
       "165        75    110       145     300.0\n",
       "166        75    115       145     310.2\n",
       "167        75    120       150     320.4\n",
       "168        75    125       150     330.4\n",
       "\n",
       "[169 rows x 4 columns]"
      ]
     },
     "execution_count": 52,
     "metadata": {},
     "output_type": "execute_result"
    }
   ],
   "source": [
    "myfile.replace(60,method=\"bfill\",limit=2)"
   ]
  },
  {
   "cell_type": "code",
   "execution_count": 56,
   "id": "ea03f693",
   "metadata": {},
   "outputs": [
    {
     "name": "stdout",
     "output_type": "stream",
     "text": [
      "     Duration  Pulse  Maxpulse  Calories\n",
      "0          45    110       130     409.1\n",
      "1          45    117       145     479.0\n",
      "2          45    103       135     340.0\n",
      "3          45    109       175     282.4\n",
      "4          45    117       148     406.0\n",
      "..        ...    ...       ...       ...\n",
      "164        75    105       140     290.8\n",
      "165        75    110       145     300.0\n",
      "166        75    115       145     310.2\n",
      "167        75    120       150     320.4\n",
      "168        75    125       150     330.4\n",
      "\n",
      "[169 rows x 4 columns]\n"
     ]
    }
   ],
   "source": [
    "myfile.replace(60,method=\"bfill\",limit=2,inplace=True)\n",
    "print(myfile)"
   ]
  },
  {
   "cell_type": "markdown",
   "id": "984e1f0f",
   "metadata": {},
   "source": [
    "# interpolate"
   ]
  },
  {
   "cell_type": "code",
   "execution_count": 59,
   "id": "960767f8",
   "metadata": {},
   "outputs": [
    {
     "name": "stdout",
     "output_type": "stream",
     "text": [
      "     Duration  Pulse  Maxpulse  Calories\n",
      "0          60    110       130    409.10\n",
      "1          60    117       145    479.00\n",
      "2          60    103       135    340.00\n",
      "3          45    109       175    282.40\n",
      "4          45    117       148    406.00\n",
      "5          60    102       127    300.00\n",
      "6          60    110       136    374.00\n",
      "7          45    104       134    253.30\n",
      "8          30    109       133    195.10\n",
      "9          60     98       124    269.00\n",
      "10         60    103       147    329.30\n",
      "11         60    100       120    250.70\n",
      "12         60    106       128    345.30\n",
      "13         60    104       132    379.30\n",
      "14         60     98       123    275.00\n",
      "15         60     98       120    215.20\n",
      "16         60    100       120    300.00\n",
      "17         45     90       112    311.50\n",
      "18         60    103       123    323.00\n",
      "19         45     97       125    243.00\n",
      "20         60    108       131    364.20\n",
      "21         45    100       119    282.00\n",
      "22         60    130       101    300.00\n",
      "23         45    105       132    246.00\n",
      "24         60    102       126    334.50\n",
      "25         60    100       120    250.00\n",
      "26         60     92       118    241.00\n",
      "27         60    103       132    260.50\n",
      "28         60    100       132    280.00\n",
      "29         60    102       129    380.30\n",
      "30         60     92       115    243.00\n",
      "31         45     90       112    180.10\n",
      "32         60    101       124    299.00\n",
      "33         60     93       113    223.00\n",
      "34         60    107       136    361.00\n",
      "35         60    114       140    415.00\n",
      "36         60    102       127    300.00\n",
      "37         60    100       120    300.00\n",
      "38         60    100       120    300.00\n",
      "39         45    104       129    266.00\n",
      "40         45     90       112    180.10\n",
      "41         60     98       126    286.00\n",
      "42         60    100       122    329.40\n",
      "43         60    111       138    400.00\n",
      "44         60    111       131    397.00\n",
      "45         60     99       119    273.00\n",
      "46         60    109       153    387.60\n",
      "47         45    111       136    300.00\n",
      "48         45    108       129    298.00\n",
      "49         60    111       139    397.60\n",
      "50         60    107       136    380.20\n",
      "51         80    123       146    643.10\n",
      "52         60    106       130    263.00\n",
      "53         60    118       151    486.00\n",
      "54         30    136       175    238.00\n",
      "55         60    121       146    450.70\n",
      "56         60    118       121    413.00\n",
      "57         45    115       144    305.00\n",
      "58         20    153       172    226.40\n",
      "59         45    123       152    321.00\n",
      "60        210    108       160   1376.00\n",
      "61        160    110       137   1034.40\n",
      "62        160    109       135    853.00\n",
      "63         45    118       141    341.00\n",
      "64         20    110       130    131.40\n",
      "65        180     90       130    800.40\n",
      "66        150    105       135    873.40\n",
      "67        150    107       130    816.00\n",
      "68         20    106       136    110.40\n",
      "69        300    108       143   1500.20\n",
      "70        150     97       129   1115.00\n",
      "71         60    109       153    387.60\n",
      "72         90    100       127    700.00\n",
      "73        150     97       127    953.20\n",
      "74         45    114       146    304.00\n",
      "75         90     98       125    563.20\n",
      "76         45    105       134    251.00\n",
      "77         45    110       141    300.00\n",
      "78        120    100       130    500.40\n",
      "79        270    100       131   1729.00\n",
      "80         30    159       182    319.20\n",
      "81         45    149       169    344.00\n",
      "82         30    103       139    151.10\n",
      "83        120    100       130    500.00\n",
      "84         45    100       120    225.30\n",
      "85         30    151       170    300.00\n",
      "86         45    102       136    234.00\n",
      "87        120    100       157   1000.10\n",
      "88         45    129       103    242.00\n",
      "89         20     83       107     50.30\n",
      "90        180    101       127    600.10\n",
      "91         45    107       137    352.70\n",
      "92         30     90       107    105.30\n",
      "93         15     80       100     50.50\n",
      "94         20    150       171    127.40\n",
      "95         20    151       168    229.40\n",
      "96         30     95       128    128.20\n",
      "97         25    152       168    244.20\n",
      "98         30    109       131    188.20\n",
      "99         90     93       124    604.10\n",
      "100        20     95       112     77.70\n",
      "101        90     90       110    500.00\n",
      "102        90     90       100    500.00\n",
      "103        90     90       100    500.40\n",
      "104        30     92       108     92.70\n",
      "105        30     93       128    124.00\n",
      "106       180     90       120    800.30\n",
      "107        30     90       120     86.20\n",
      "108        90     90       120    500.30\n",
      "109       210    137       184   1860.40\n",
      "110        60    102       124    325.20\n",
      "111        45    107       124    275.00\n",
      "112        15    124       139    124.20\n",
      "113        45    100       120    225.30\n",
      "114        60    108       131    367.60\n",
      "115        60    108       151    351.70\n",
      "116        60    116       141    443.00\n",
      "117        60     97       122    277.40\n",
      "118        60    105       125    305.05\n",
      "119        60    103       124    332.70\n",
      "120        30    112       137    193.90\n",
      "121        45    100       120    100.70\n",
      "122        60    119       169    336.70\n",
      "123        60    107       127    344.90\n",
      "124        60    111       151    368.50\n",
      "125        60     98       122    271.00\n",
      "126        60     97       124    275.30\n",
      "127        60    109       127    382.00\n",
      "128        90     99       125    466.40\n",
      "129        60    114       151    384.00\n",
      "130        60    104       134    342.50\n",
      "131        60    107       138    357.50\n",
      "132        60    103       133    335.00\n",
      "133        60    106       132    327.50\n",
      "134        60    103       136    339.00\n",
      "135        20    136       156    189.00\n",
      "136        45    117       143    317.70\n",
      "137        45    115       137    318.00\n",
      "138        45    113       138    308.00\n",
      "139        20    141       162    222.40\n",
      "140        60    108       135    390.00\n",
      "141        60     97       127    320.20\n",
      "142        45    100       120    250.40\n",
      "143        45    122       149    335.40\n",
      "144        60    136       170    470.20\n",
      "145        45    106       126    270.80\n",
      "146        60    107       136    400.00\n",
      "147        60    112       146    361.90\n",
      "148        30    103       127    185.00\n",
      "149        60    110       150    409.40\n",
      "150        60    106       134    343.00\n",
      "151        60    109       129    353.20\n",
      "152        60    109       138    374.00\n",
      "153        30    150       167    275.80\n",
      "154        60    105       128    328.00\n",
      "155        60    111       151    368.50\n",
      "156        60     97       131    270.40\n",
      "157        60    100       120    270.40\n",
      "158        60    114       150    382.80\n",
      "159        30     80       120    240.90\n",
      "160        30     85       120    250.40\n",
      "161        45     90       130    260.40\n",
      "162        45     95       130    270.00\n",
      "163        45    100       140    280.90\n",
      "164        60    105       140    290.80\n",
      "165        60    110       145    300.00\n",
      "166        60    115       145    310.20\n",
      "167        75    120       150    320.40\n",
      "168        75    125       150    330.40\n"
     ]
    }
   ],
   "source": [
    "import pandas as pd\n",
    "myfile=pd.read_csv(r\"C:\\Users\\Aqsa Kanwal\\Desktop\\datasets\\data.csv\")\n",
    "print(myfile.interpolate().to_string())"
   ]
  },
  {
   "cell_type": "code",
   "execution_count": 60,
   "id": "4419ed49",
   "metadata": {},
   "outputs": [
    {
     "name": "stdout",
     "output_type": "stream",
     "text": [
      "     Duration  Pulse  Maxpulse  Calories\n",
      "0          60    110       130    409.10\n",
      "1          60    117       145    479.00\n",
      "2          60    103       135    340.00\n",
      "3          45    109       175    282.40\n",
      "4          45    117       148    406.00\n",
      "5          60    102       127    300.00\n",
      "6          60    110       136    374.00\n",
      "7          45    104       134    253.30\n",
      "8          30    109       133    195.10\n",
      "9          60     98       124    269.00\n",
      "10         60    103       147    329.30\n",
      "11         60    100       120    250.70\n",
      "12         60    106       128    345.30\n",
      "13         60    104       132    379.30\n",
      "14         60     98       123    275.00\n",
      "15         60     98       120    215.20\n",
      "16         60    100       120    300.00\n",
      "17         45     90       112    311.50\n",
      "18         60    103       123    323.00\n",
      "19         45     97       125    243.00\n",
      "20         60    108       131    364.20\n",
      "21         45    100       119    282.00\n",
      "22         60    130       101    300.00\n",
      "23         45    105       132    246.00\n",
      "24         60    102       126    334.50\n",
      "25         60    100       120    250.00\n",
      "26         60     92       118    241.00\n",
      "27         60    103       132    260.50\n",
      "28         60    100       132    280.00\n",
      "29         60    102       129    380.30\n",
      "30         60     92       115    243.00\n",
      "31         45     90       112    180.10\n",
      "32         60    101       124    299.00\n",
      "33         60     93       113    223.00\n",
      "34         60    107       136    361.00\n",
      "35         60    114       140    415.00\n",
      "36         60    102       127    300.00\n",
      "37         60    100       120    300.00\n",
      "38         60    100       120    300.00\n",
      "39         45    104       129    266.00\n",
      "40         45     90       112    180.10\n",
      "41         60     98       126    286.00\n",
      "42         60    100       122    329.40\n",
      "43         60    111       138    400.00\n",
      "44         60    111       131    397.00\n",
      "45         60     99       119    273.00\n",
      "46         60    109       153    387.60\n",
      "47         45    111       136    300.00\n",
      "48         45    108       129    298.00\n",
      "49         60    111       139    397.60\n",
      "50         60    107       136    380.20\n",
      "51         80    123       146    643.10\n",
      "52         60    106       130    263.00\n",
      "53         60    118       151    486.00\n",
      "54         30    136       175    238.00\n",
      "55         60    121       146    450.70\n",
      "56         60    118       121    413.00\n",
      "57         45    115       144    305.00\n",
      "58         20    153       172    226.40\n",
      "59         45    123       152    321.00\n",
      "60        210    108       160   1376.00\n",
      "61        160    110       137   1034.40\n",
      "62        160    109       135    853.00\n",
      "63         45    118       141    341.00\n",
      "64         20    110       130    131.40\n",
      "65        180     90       130    800.40\n",
      "66        150    105       135    873.40\n",
      "67        150    107       130    816.00\n",
      "68         20    106       136    110.40\n",
      "69        300    108       143   1500.20\n",
      "70        150     97       129   1115.00\n",
      "71         60    109       153    387.60\n",
      "72         90    100       127    700.00\n",
      "73        150     97       127    953.20\n",
      "74         45    114       146    304.00\n",
      "75         90     98       125    563.20\n",
      "76         45    105       134    251.00\n",
      "77         45    110       141    300.00\n",
      "78        120    100       130    500.40\n",
      "79        270    100       131   1729.00\n",
      "80         30    159       182    319.20\n",
      "81         45    149       169    344.00\n",
      "82         30    103       139    151.10\n",
      "83        120    100       130    500.00\n",
      "84         45    100       120    225.30\n",
      "85         30    151       170    300.00\n",
      "86         45    102       136    234.00\n",
      "87        120    100       157   1000.10\n",
      "88         45    129       103    242.00\n",
      "89         20     83       107     50.30\n",
      "90        180    101       127    600.10\n",
      "91         45    107       137    352.70\n",
      "92         30     90       107    105.30\n",
      "93         15     80       100     50.50\n",
      "94         20    150       171    127.40\n",
      "95         20    151       168    229.40\n",
      "96         30     95       128    128.20\n",
      "97         25    152       168    244.20\n",
      "98         30    109       131    188.20\n",
      "99         90     93       124    604.10\n",
      "100        20     95       112     77.70\n",
      "101        90     90       110    500.00\n",
      "102        90     90       100    500.00\n",
      "103        90     90       100    500.40\n",
      "104        30     92       108     92.70\n",
      "105        30     93       128    124.00\n",
      "106       180     90       120    800.30\n",
      "107        30     90       120     86.20\n",
      "108        90     90       120    500.30\n",
      "109       210    137       184   1860.40\n",
      "110        60    102       124    325.20\n",
      "111        45    107       124    275.00\n",
      "112        15    124       139    124.20\n",
      "113        45    100       120    225.30\n",
      "114        60    108       131    367.60\n",
      "115        60    108       151    351.70\n",
      "116        60    116       141    443.00\n",
      "117        60     97       122    277.40\n",
      "118        60    105       125    305.05\n",
      "119        60    103       124    332.70\n",
      "120        30    112       137    193.90\n",
      "121        45    100       120    100.70\n",
      "122        60    119       169    336.70\n",
      "123        60    107       127    344.90\n",
      "124        60    111       151    368.50\n",
      "125        60     98       122    271.00\n",
      "126        60     97       124    275.30\n",
      "127        60    109       127    382.00\n",
      "128        90     99       125    466.40\n",
      "129        60    114       151    384.00\n",
      "130        60    104       134    342.50\n",
      "131        60    107       138    357.50\n",
      "132        60    103       133    335.00\n",
      "133        60    106       132    327.50\n",
      "134        60    103       136    339.00\n",
      "135        20    136       156    189.00\n",
      "136        45    117       143    317.70\n",
      "137        45    115       137    318.00\n",
      "138        45    113       138    308.00\n",
      "139        20    141       162    222.40\n",
      "140        60    108       135    390.00\n",
      "141        60     97       127    320.20\n",
      "142        45    100       120    250.40\n",
      "143        45    122       149    335.40\n",
      "144        60    136       170    470.20\n",
      "145        45    106       126    270.80\n",
      "146        60    107       136    400.00\n",
      "147        60    112       146    361.90\n",
      "148        30    103       127    185.00\n",
      "149        60    110       150    409.40\n",
      "150        60    106       134    343.00\n",
      "151        60    109       129    353.20\n",
      "152        60    109       138    374.00\n",
      "153        30    150       167    275.80\n",
      "154        60    105       128    328.00\n",
      "155        60    111       151    368.50\n",
      "156        60     97       131    270.40\n",
      "157        60    100       120    270.40\n",
      "158        60    114       150    382.80\n",
      "159        30     80       120    240.90\n",
      "160        30     85       120    250.40\n",
      "161        45     90       130    260.40\n",
      "162        45     95       130    270.00\n",
      "163        45    100       140    280.90\n",
      "164        60    105       140    290.80\n",
      "165        60    110       145    300.00\n",
      "166        60    115       145    310.20\n",
      "167        75    120       150    320.40\n",
      "168        75    125       150    330.40\n"
     ]
    }
   ],
   "source": [
    "print(myfile.interpolate(method=\"linear\").to_string())"
   ]
  },
  {
   "cell_type": "markdown",
   "id": "f0513447",
   "metadata": {},
   "source": [
    "# merge"
   ]
  },
  {
   "cell_type": "code",
   "execution_count": 71,
   "id": "ba325068",
   "metadata": {},
   "outputs": [
    {
     "data": {
      "text/html": [
       "<div>\n",
       "<style scoped>\n",
       "    .dataframe tbody tr th:only-of-type {\n",
       "        vertical-align: middle;\n",
       "    }\n",
       "\n",
       "    .dataframe tbody tr th {\n",
       "        vertical-align: top;\n",
       "    }\n",
       "\n",
       "    .dataframe thead th {\n",
       "        text-align: right;\n",
       "    }\n",
       "</style>\n",
       "<table border=\"1\" class=\"dataframe\">\n",
       "  <thead>\n",
       "    <tr style=\"text-align: right;\">\n",
       "      <th></th>\n",
       "      <th>A</th>\n",
       "      <th>B</th>\n",
       "      <th>C</th>\n",
       "    </tr>\n",
       "  </thead>\n",
       "  <tbody>\n",
       "    <tr>\n",
       "      <th>0</th>\n",
       "      <td>1</td>\n",
       "      <td>6</td>\n",
       "      <td>6</td>\n",
       "    </tr>\n",
       "    <tr>\n",
       "      <th>1</th>\n",
       "      <td>2</td>\n",
       "      <td>7</td>\n",
       "      <td>7</td>\n",
       "    </tr>\n",
       "    <tr>\n",
       "      <th>2</th>\n",
       "      <td>3</td>\n",
       "      <td>8</td>\n",
       "      <td>8</td>\n",
       "    </tr>\n",
       "    <tr>\n",
       "      <th>3</th>\n",
       "      <td>4</td>\n",
       "      <td>9</td>\n",
       "      <td>9</td>\n",
       "    </tr>\n",
       "    <tr>\n",
       "      <th>4</th>\n",
       "      <td>5</td>\n",
       "      <td>10</td>\n",
       "      <td>10</td>\n",
       "    </tr>\n",
       "  </tbody>\n",
       "</table>\n",
       "</div>"
      ],
      "text/plain": [
       "   A   B   C\n",
       "0  1   6   6\n",
       "1  2   7   7\n",
       "2  3   8   8\n",
       "3  4   9   9\n",
       "4  5  10  10"
      ]
     },
     "execution_count": 71,
     "metadata": {},
     "output_type": "execute_result"
    }
   ],
   "source": [
    "import pandas as pd\n",
    "var1=pd.DataFrame({\"A\":[1,2,3,4,5],\"B\":[6,7,8,9,10]})\n",
    "var2=pd.DataFrame({\"A\":[1,2,3,4,5],\"C\":[6,7,8,9,10]})\n",
    "pd.merge(var1,var2)"
   ]
  },
  {
   "cell_type": "code",
   "execution_count": 75,
   "id": "8f6188be",
   "metadata": {},
   "outputs": [
    {
     "data": {
      "text/html": [
       "<div>\n",
       "<style scoped>\n",
       "    .dataframe tbody tr th:only-of-type {\n",
       "        vertical-align: middle;\n",
       "    }\n",
       "\n",
       "    .dataframe tbody tr th {\n",
       "        vertical-align: top;\n",
       "    }\n",
       "\n",
       "    .dataframe thead th {\n",
       "        text-align: right;\n",
       "    }\n",
       "</style>\n",
       "<table border=\"1\" class=\"dataframe\">\n",
       "  <thead>\n",
       "    <tr style=\"text-align: right;\">\n",
       "      <th></th>\n",
       "      <th>A</th>\n",
       "      <th>B</th>\n",
       "      <th>C</th>\n",
       "    </tr>\n",
       "  </thead>\n",
       "  <tbody>\n",
       "    <tr>\n",
       "      <th>0</th>\n",
       "      <td>1</td>\n",
       "      <td>6</td>\n",
       "      <td>6</td>\n",
       "    </tr>\n",
       "    <tr>\n",
       "      <th>1</th>\n",
       "      <td>2</td>\n",
       "      <td>7</td>\n",
       "      <td>7</td>\n",
       "    </tr>\n",
       "    <tr>\n",
       "      <th>2</th>\n",
       "      <td>3</td>\n",
       "      <td>8</td>\n",
       "      <td>8</td>\n",
       "    </tr>\n",
       "    <tr>\n",
       "      <th>3</th>\n",
       "      <td>4</td>\n",
       "      <td>9</td>\n",
       "      <td>9</td>\n",
       "    </tr>\n",
       "    <tr>\n",
       "      <th>4</th>\n",
       "      <td>5</td>\n",
       "      <td>10</td>\n",
       "      <td>10</td>\n",
       "    </tr>\n",
       "  </tbody>\n",
       "</table>\n",
       "</div>"
      ],
      "text/plain": [
       "   A   B   C\n",
       "0  1   6   6\n",
       "1  2   7   7\n",
       "2  3   8   8\n",
       "3  4   9   9\n",
       "4  5  10  10"
      ]
     },
     "execution_count": 75,
     "metadata": {},
     "output_type": "execute_result"
    }
   ],
   "source": [
    "import pandas as pd\n",
    "var1=pd.DataFrame({\"A\":[1,2,3,4,5],\"B\":[6,7,8,9,10]})\n",
    "var2=pd.DataFrame({\"A\":[1,2,3,4,5],\"C\":[6,7,8,9,10]})\n",
    "pd.merge(var1,var2,on=\"A\")"
   ]
  },
  {
   "cell_type": "code",
   "execution_count": 77,
   "id": "3608301c",
   "metadata": {},
   "outputs": [
    {
     "data": {
      "text/html": [
       "<div>\n",
       "<style scoped>\n",
       "    .dataframe tbody tr th:only-of-type {\n",
       "        vertical-align: middle;\n",
       "    }\n",
       "\n",
       "    .dataframe tbody tr th {\n",
       "        vertical-align: top;\n",
       "    }\n",
       "\n",
       "    .dataframe thead th {\n",
       "        text-align: right;\n",
       "    }\n",
       "</style>\n",
       "<table border=\"1\" class=\"dataframe\">\n",
       "  <thead>\n",
       "    <tr style=\"text-align: right;\">\n",
       "      <th></th>\n",
       "      <th>A</th>\n",
       "      <th>B</th>\n",
       "      <th>C</th>\n",
       "    </tr>\n",
       "  </thead>\n",
       "  <tbody>\n",
       "    <tr>\n",
       "      <th>0</th>\n",
       "      <td>1</td>\n",
       "      <td>6</td>\n",
       "      <td>6</td>\n",
       "    </tr>\n",
       "    <tr>\n",
       "      <th>1</th>\n",
       "      <td>2</td>\n",
       "      <td>7</td>\n",
       "      <td>7</td>\n",
       "    </tr>\n",
       "    <tr>\n",
       "      <th>2</th>\n",
       "      <td>3</td>\n",
       "      <td>8</td>\n",
       "      <td>8</td>\n",
       "    </tr>\n",
       "    <tr>\n",
       "      <th>3</th>\n",
       "      <td>4</td>\n",
       "      <td>9</td>\n",
       "      <td>9</td>\n",
       "    </tr>\n",
       "    <tr>\n",
       "      <th>4</th>\n",
       "      <td>5</td>\n",
       "      <td>10</td>\n",
       "      <td>10</td>\n",
       "    </tr>\n",
       "  </tbody>\n",
       "</table>\n",
       "</div>"
      ],
      "text/plain": [
       "   A   B   C\n",
       "0  1   6   6\n",
       "1  2   7   7\n",
       "2  3   8   8\n",
       "3  4   9   9\n",
       "4  5  10  10"
      ]
     },
     "execution_count": 77,
     "metadata": {},
     "output_type": "execute_result"
    }
   ],
   "source": [
    "import pandas as pd\n",
    "var1=pd.DataFrame({\"A\":[1,2,3,4,5],\"B\":[6,7,8,9,10]})\n",
    "var2=pd.DataFrame({\"A\":[1,2,3,4,5],\"C\":[6,7,8,9,10]})\n",
    "pd.merge(var1,var2,on=\"A\",how=\"left\")   #outer,inner,right"
   ]
  },
  {
   "cell_type": "code",
   "execution_count": 78,
   "id": "5c231af1",
   "metadata": {},
   "outputs": [
    {
     "data": {
      "text/html": [
       "<div>\n",
       "<style scoped>\n",
       "    .dataframe tbody tr th:only-of-type {\n",
       "        vertical-align: middle;\n",
       "    }\n",
       "\n",
       "    .dataframe tbody tr th {\n",
       "        vertical-align: top;\n",
       "    }\n",
       "\n",
       "    .dataframe thead th {\n",
       "        text-align: right;\n",
       "    }\n",
       "</style>\n",
       "<table border=\"1\" class=\"dataframe\">\n",
       "  <thead>\n",
       "    <tr style=\"text-align: right;\">\n",
       "      <th></th>\n",
       "      <th>A</th>\n",
       "      <th>B</th>\n",
       "      <th>C</th>\n",
       "      <th>_merge</th>\n",
       "    </tr>\n",
       "  </thead>\n",
       "  <tbody>\n",
       "    <tr>\n",
       "      <th>0</th>\n",
       "      <td>1</td>\n",
       "      <td>6</td>\n",
       "      <td>6</td>\n",
       "      <td>both</td>\n",
       "    </tr>\n",
       "    <tr>\n",
       "      <th>1</th>\n",
       "      <td>2</td>\n",
       "      <td>7</td>\n",
       "      <td>7</td>\n",
       "      <td>both</td>\n",
       "    </tr>\n",
       "    <tr>\n",
       "      <th>2</th>\n",
       "      <td>3</td>\n",
       "      <td>8</td>\n",
       "      <td>8</td>\n",
       "      <td>both</td>\n",
       "    </tr>\n",
       "    <tr>\n",
       "      <th>3</th>\n",
       "      <td>4</td>\n",
       "      <td>9</td>\n",
       "      <td>9</td>\n",
       "      <td>both</td>\n",
       "    </tr>\n",
       "    <tr>\n",
       "      <th>4</th>\n",
       "      <td>5</td>\n",
       "      <td>10</td>\n",
       "      <td>10</td>\n",
       "      <td>both</td>\n",
       "    </tr>\n",
       "  </tbody>\n",
       "</table>\n",
       "</div>"
      ],
      "text/plain": [
       "   A   B   C _merge\n",
       "0  1   6   6   both\n",
       "1  2   7   7   both\n",
       "2  3   8   8   both\n",
       "3  4   9   9   both\n",
       "4  5  10  10   both"
      ]
     },
     "execution_count": 78,
     "metadata": {},
     "output_type": "execute_result"
    }
   ],
   "source": [
    "import pandas as pd\n",
    "var1=pd.DataFrame({\"A\":[1,2,3,4,5],\"B\":[6,7,8,9,10]})\n",
    "var2=pd.DataFrame({\"A\":[1,2,3,4,5],\"C\":[6,7,8,9,10]})\n",
    "pd.merge(var1,var2,on=\"A\",how=\"left\",indicator=True)"
   ]
  },
  {
   "cell_type": "code",
   "execution_count": 79,
   "id": "f08bdf2d",
   "metadata": {},
   "outputs": [
    {
     "data": {
      "text/html": [
       "<div>\n",
       "<style scoped>\n",
       "    .dataframe tbody tr th:only-of-type {\n",
       "        vertical-align: middle;\n",
       "    }\n",
       "\n",
       "    .dataframe tbody tr th {\n",
       "        vertical-align: top;\n",
       "    }\n",
       "\n",
       "    .dataframe thead th {\n",
       "        text-align: right;\n",
       "    }\n",
       "</style>\n",
       "<table border=\"1\" class=\"dataframe\">\n",
       "  <thead>\n",
       "    <tr style=\"text-align: right;\">\n",
       "      <th></th>\n",
       "      <th>A_x</th>\n",
       "      <th>B_x</th>\n",
       "      <th>A_y</th>\n",
       "      <th>B_y</th>\n",
       "    </tr>\n",
       "  </thead>\n",
       "  <tbody>\n",
       "    <tr>\n",
       "      <th>0</th>\n",
       "      <td>1</td>\n",
       "      <td>6</td>\n",
       "      <td>1</td>\n",
       "      <td>6</td>\n",
       "    </tr>\n",
       "    <tr>\n",
       "      <th>1</th>\n",
       "      <td>2</td>\n",
       "      <td>7</td>\n",
       "      <td>2</td>\n",
       "      <td>7</td>\n",
       "    </tr>\n",
       "    <tr>\n",
       "      <th>2</th>\n",
       "      <td>3</td>\n",
       "      <td>8</td>\n",
       "      <td>3</td>\n",
       "      <td>8</td>\n",
       "    </tr>\n",
       "    <tr>\n",
       "      <th>3</th>\n",
       "      <td>4</td>\n",
       "      <td>9</td>\n",
       "      <td>4</td>\n",
       "      <td>9</td>\n",
       "    </tr>\n",
       "    <tr>\n",
       "      <th>4</th>\n",
       "      <td>5</td>\n",
       "      <td>10</td>\n",
       "      <td>5</td>\n",
       "      <td>10</td>\n",
       "    </tr>\n",
       "  </tbody>\n",
       "</table>\n",
       "</div>"
      ],
      "text/plain": [
       "   A_x  B_x  A_y  B_y\n",
       "0    1    6    1    6\n",
       "1    2    7    2    7\n",
       "2    3    8    3    8\n",
       "3    4    9    4    9\n",
       "4    5   10    5   10"
      ]
     },
     "execution_count": 79,
     "metadata": {},
     "output_type": "execute_result"
    }
   ],
   "source": [
    "import pandas as pd           #for same name\n",
    "var1=pd.DataFrame({\"A\":[1,2,3,4,5],\"B\":[6,7,8,9,10]})\n",
    "var2=pd.DataFrame({\"A\":[1,2,3,4,5],\"B\":[6,7,8,9,10]})\n",
    "pd.merge(var1,var2,left_index=True,right_index=True)"
   ]
  },
  {
   "cell_type": "code",
   "execution_count": 80,
   "id": "8a859222",
   "metadata": {},
   "outputs": [
    {
     "data": {
      "text/html": [
       "<div>\n",
       "<style scoped>\n",
       "    .dataframe tbody tr th:only-of-type {\n",
       "        vertical-align: middle;\n",
       "    }\n",
       "\n",
       "    .dataframe tbody tr th {\n",
       "        vertical-align: top;\n",
       "    }\n",
       "\n",
       "    .dataframe thead th {\n",
       "        text-align: right;\n",
       "    }\n",
       "</style>\n",
       "<table border=\"1\" class=\"dataframe\">\n",
       "  <thead>\n",
       "    <tr style=\"text-align: right;\">\n",
       "      <th></th>\n",
       "      <th>Aname</th>\n",
       "      <th>Bname</th>\n",
       "      <th>Aid</th>\n",
       "      <th>Bid</th>\n",
       "    </tr>\n",
       "  </thead>\n",
       "  <tbody>\n",
       "    <tr>\n",
       "      <th>0</th>\n",
       "      <td>1</td>\n",
       "      <td>6</td>\n",
       "      <td>1</td>\n",
       "      <td>6</td>\n",
       "    </tr>\n",
       "    <tr>\n",
       "      <th>1</th>\n",
       "      <td>2</td>\n",
       "      <td>7</td>\n",
       "      <td>2</td>\n",
       "      <td>7</td>\n",
       "    </tr>\n",
       "    <tr>\n",
       "      <th>2</th>\n",
       "      <td>3</td>\n",
       "      <td>8</td>\n",
       "      <td>3</td>\n",
       "      <td>8</td>\n",
       "    </tr>\n",
       "    <tr>\n",
       "      <th>3</th>\n",
       "      <td>4</td>\n",
       "      <td>9</td>\n",
       "      <td>4</td>\n",
       "      <td>9</td>\n",
       "    </tr>\n",
       "    <tr>\n",
       "      <th>4</th>\n",
       "      <td>5</td>\n",
       "      <td>10</td>\n",
       "      <td>5</td>\n",
       "      <td>10</td>\n",
       "    </tr>\n",
       "  </tbody>\n",
       "</table>\n",
       "</div>"
      ],
      "text/plain": [
       "   Aname  Bname  Aid  Bid\n",
       "0      1      6    1    6\n",
       "1      2      7    2    7\n",
       "2      3      8    3    8\n",
       "3      4      9    4    9\n",
       "4      5     10    5   10"
      ]
     },
     "execution_count": 80,
     "metadata": {},
     "output_type": "execute_result"
    }
   ],
   "source": [
    "import pandas as pd           #for changing name\n",
    "var1=pd.DataFrame({\"A\":[1,2,3,4,5],\"B\":[6,7,8,9,10]})\n",
    "var2=pd.DataFrame({\"A\":[1,2,3,4,5],\"B\":[6,7,8,9,10]})\n",
    "pd.merge(var1,var2,left_index=True,right_index=True,suffixes=(\"name\",\"id\"))"
   ]
  },
  {
   "cell_type": "markdown",
   "id": "8be7cc3b",
   "metadata": {},
   "source": [
    "# Concat"
   ]
  },
  {
   "cell_type": "code",
   "execution_count": 81,
   "id": "bdf54d03",
   "metadata": {},
   "outputs": [
    {
     "data": {
      "text/plain": [
       "0    1\n",
       "1    2\n",
       "2    3\n",
       "3    4\n",
       "0    1\n",
       "1    4\n",
       "2    6\n",
       "3    4\n",
       "dtype: int64"
      ]
     },
     "execution_count": 81,
     "metadata": {},
     "output_type": "execute_result"
    }
   ],
   "source": [
    "s1=pd.Series([1,2,3,4])\n",
    "s2=pd.Series([1,4,6,4])\n",
    "pd.concat([s1,s2])"
   ]
  },
  {
   "cell_type": "code",
   "execution_count": 82,
   "id": "8e59aae7",
   "metadata": {},
   "outputs": [
    {
     "data": {
      "text/html": [
       "<div>\n",
       "<style scoped>\n",
       "    .dataframe tbody tr th:only-of-type {\n",
       "        vertical-align: middle;\n",
       "    }\n",
       "\n",
       "    .dataframe tbody tr th {\n",
       "        vertical-align: top;\n",
       "    }\n",
       "\n",
       "    .dataframe thead th {\n",
       "        text-align: right;\n",
       "    }\n",
       "</style>\n",
       "<table border=\"1\" class=\"dataframe\">\n",
       "  <thead>\n",
       "    <tr style=\"text-align: right;\">\n",
       "      <th></th>\n",
       "      <th>A</th>\n",
       "      <th>B</th>\n",
       "      <th>A</th>\n",
       "      <th>B</th>\n",
       "    </tr>\n",
       "  </thead>\n",
       "  <tbody>\n",
       "    <tr>\n",
       "      <th>0</th>\n",
       "      <td>1</td>\n",
       "      <td>6</td>\n",
       "      <td>1</td>\n",
       "      <td>6</td>\n",
       "    </tr>\n",
       "    <tr>\n",
       "      <th>1</th>\n",
       "      <td>2</td>\n",
       "      <td>7</td>\n",
       "      <td>2</td>\n",
       "      <td>7</td>\n",
       "    </tr>\n",
       "    <tr>\n",
       "      <th>2</th>\n",
       "      <td>3</td>\n",
       "      <td>8</td>\n",
       "      <td>3</td>\n",
       "      <td>8</td>\n",
       "    </tr>\n",
       "    <tr>\n",
       "      <th>3</th>\n",
       "      <td>4</td>\n",
       "      <td>9</td>\n",
       "      <td>4</td>\n",
       "      <td>9</td>\n",
       "    </tr>\n",
       "    <tr>\n",
       "      <th>4</th>\n",
       "      <td>5</td>\n",
       "      <td>10</td>\n",
       "      <td>5</td>\n",
       "      <td>10</td>\n",
       "    </tr>\n",
       "  </tbody>\n",
       "</table>\n",
       "</div>"
      ],
      "text/plain": [
       "   A   B  A   B\n",
       "0  1   6  1   6\n",
       "1  2   7  2   7\n",
       "2  3   8  3   8\n",
       "3  4   9  4   9\n",
       "4  5  10  5  10"
      ]
     },
     "execution_count": 82,
     "metadata": {},
     "output_type": "execute_result"
    }
   ],
   "source": [
    "import pandas as pd          \n",
    "var1=pd.DataFrame({\"A\":[1,2,3,4,5],\"B\":[6,7,8,9,10]})\n",
    "var2=pd.DataFrame({\"A\":[1,2,3,4,5],\"B\":[6,7,8,9,10]})\n",
    "pd.concat([var1,var2],axis=1)"
   ]
  },
  {
   "cell_type": "code",
   "execution_count": 83,
   "id": "6f8b5343",
   "metadata": {},
   "outputs": [
    {
     "data": {
      "text/html": [
       "<div>\n",
       "<style scoped>\n",
       "    .dataframe tbody tr th:only-of-type {\n",
       "        vertical-align: middle;\n",
       "    }\n",
       "\n",
       "    .dataframe tbody tr th {\n",
       "        vertical-align: top;\n",
       "    }\n",
       "\n",
       "    .dataframe thead th {\n",
       "        text-align: right;\n",
       "    }\n",
       "</style>\n",
       "<table border=\"1\" class=\"dataframe\">\n",
       "  <thead>\n",
       "    <tr style=\"text-align: right;\">\n",
       "      <th></th>\n",
       "      <th>A</th>\n",
       "      <th>B</th>\n",
       "      <th>A</th>\n",
       "      <th>B</th>\n",
       "    </tr>\n",
       "  </thead>\n",
       "  <tbody>\n",
       "    <tr>\n",
       "      <th>0</th>\n",
       "      <td>1</td>\n",
       "      <td>6</td>\n",
       "      <td>1.0</td>\n",
       "      <td>6.0</td>\n",
       "    </tr>\n",
       "    <tr>\n",
       "      <th>1</th>\n",
       "      <td>2</td>\n",
       "      <td>7</td>\n",
       "      <td>2.0</td>\n",
       "      <td>7.0</td>\n",
       "    </tr>\n",
       "    <tr>\n",
       "      <th>2</th>\n",
       "      <td>3</td>\n",
       "      <td>8</td>\n",
       "      <td>3.0</td>\n",
       "      <td>8.0</td>\n",
       "    </tr>\n",
       "    <tr>\n",
       "      <th>3</th>\n",
       "      <td>4</td>\n",
       "      <td>9</td>\n",
       "      <td>NaN</td>\n",
       "      <td>NaN</td>\n",
       "    </tr>\n",
       "    <tr>\n",
       "      <th>4</th>\n",
       "      <td>5</td>\n",
       "      <td>10</td>\n",
       "      <td>NaN</td>\n",
       "      <td>NaN</td>\n",
       "    </tr>\n",
       "  </tbody>\n",
       "</table>\n",
       "</div>"
      ],
      "text/plain": [
       "   A   B    A    B\n",
       "0  1   6  1.0  6.0\n",
       "1  2   7  2.0  7.0\n",
       "2  3   8  3.0  8.0\n",
       "3  4   9  NaN  NaN\n",
       "4  5  10  NaN  NaN"
      ]
     },
     "execution_count": 83,
     "metadata": {},
     "output_type": "execute_result"
    }
   ],
   "source": [
    "import pandas as pd          \n",
    "var1=pd.DataFrame({\"A\":[1,2,3,4,5],\"B\":[6,7,8,9,10]})\n",
    "var2=pd.DataFrame({\"A\":[1,2,3],\"B\":[6,7,8,]})\n",
    "pd.concat([var1,var2],axis=1,join=\"outer\")      #union"
   ]
  },
  {
   "cell_type": "code",
   "execution_count": 84,
   "id": "2c63d8af",
   "metadata": {},
   "outputs": [
    {
     "data": {
      "text/html": [
       "<div>\n",
       "<style scoped>\n",
       "    .dataframe tbody tr th:only-of-type {\n",
       "        vertical-align: middle;\n",
       "    }\n",
       "\n",
       "    .dataframe tbody tr th {\n",
       "        vertical-align: top;\n",
       "    }\n",
       "\n",
       "    .dataframe thead th {\n",
       "        text-align: right;\n",
       "    }\n",
       "</style>\n",
       "<table border=\"1\" class=\"dataframe\">\n",
       "  <thead>\n",
       "    <tr style=\"text-align: right;\">\n",
       "      <th></th>\n",
       "      <th>A</th>\n",
       "      <th>B</th>\n",
       "      <th>A</th>\n",
       "      <th>B</th>\n",
       "    </tr>\n",
       "  </thead>\n",
       "  <tbody>\n",
       "    <tr>\n",
       "      <th>0</th>\n",
       "      <td>1</td>\n",
       "      <td>6</td>\n",
       "      <td>1</td>\n",
       "      <td>6</td>\n",
       "    </tr>\n",
       "    <tr>\n",
       "      <th>1</th>\n",
       "      <td>2</td>\n",
       "      <td>7</td>\n",
       "      <td>2</td>\n",
       "      <td>7</td>\n",
       "    </tr>\n",
       "    <tr>\n",
       "      <th>2</th>\n",
       "      <td>3</td>\n",
       "      <td>8</td>\n",
       "      <td>3</td>\n",
       "      <td>8</td>\n",
       "    </tr>\n",
       "  </tbody>\n",
       "</table>\n",
       "</div>"
      ],
      "text/plain": [
       "   A  B  A  B\n",
       "0  1  6  1  6\n",
       "1  2  7  2  7\n",
       "2  3  8  3  8"
      ]
     },
     "execution_count": 84,
     "metadata": {},
     "output_type": "execute_result"
    }
   ],
   "source": [
    "import pandas as pd          \n",
    "var1=pd.DataFrame({\"A\":[1,2,3,4,5],\"B\":[6,7,8,9,10]})\n",
    "var2=pd.DataFrame({\"A\":[1,2,3],\"B\":[6,7,8,]})\n",
    "pd.concat([var1,var2],axis=1,join=\"inner\")       #intersection"
   ]
  },
  {
   "cell_type": "code",
   "execution_count": 86,
   "id": "e3a50802",
   "metadata": {},
   "outputs": [
    {
     "data": {
      "text/html": [
       "<div>\n",
       "<style scoped>\n",
       "    .dataframe tbody tr th:only-of-type {\n",
       "        vertical-align: middle;\n",
       "    }\n",
       "\n",
       "    .dataframe tbody tr th {\n",
       "        vertical-align: top;\n",
       "    }\n",
       "\n",
       "    .dataframe thead tr th {\n",
       "        text-align: left;\n",
       "    }\n",
       "</style>\n",
       "<table border=\"1\" class=\"dataframe\">\n",
       "  <thead>\n",
       "    <tr>\n",
       "      <th></th>\n",
       "      <th colspan=\"2\" halign=\"left\">d1</th>\n",
       "      <th colspan=\"2\" halign=\"left\">d2</th>\n",
       "    </tr>\n",
       "    <tr>\n",
       "      <th></th>\n",
       "      <th>A</th>\n",
       "      <th>B</th>\n",
       "      <th>A</th>\n",
       "      <th>B</th>\n",
       "    </tr>\n",
       "  </thead>\n",
       "  <tbody>\n",
       "    <tr>\n",
       "      <th>0</th>\n",
       "      <td>1</td>\n",
       "      <td>6</td>\n",
       "      <td>1</td>\n",
       "      <td>6</td>\n",
       "    </tr>\n",
       "    <tr>\n",
       "      <th>1</th>\n",
       "      <td>2</td>\n",
       "      <td>7</td>\n",
       "      <td>2</td>\n",
       "      <td>7</td>\n",
       "    </tr>\n",
       "    <tr>\n",
       "      <th>2</th>\n",
       "      <td>3</td>\n",
       "      <td>8</td>\n",
       "      <td>3</td>\n",
       "      <td>8</td>\n",
       "    </tr>\n",
       "    <tr>\n",
       "      <th>3</th>\n",
       "      <td>4</td>\n",
       "      <td>9</td>\n",
       "      <td>4</td>\n",
       "      <td>9</td>\n",
       "    </tr>\n",
       "    <tr>\n",
       "      <th>4</th>\n",
       "      <td>5</td>\n",
       "      <td>10</td>\n",
       "      <td>5</td>\n",
       "      <td>10</td>\n",
       "    </tr>\n",
       "  </tbody>\n",
       "</table>\n",
       "</div>"
      ],
      "text/plain": [
       "  d1     d2    \n",
       "   A   B  A   B\n",
       "0  1   6  1   6\n",
       "1  2   7  2   7\n",
       "2  3   8  3   8\n",
       "3  4   9  4   9\n",
       "4  5  10  5  10"
      ]
     },
     "execution_count": 86,
     "metadata": {},
     "output_type": "execute_result"
    }
   ],
   "source": [
    "import pandas as pd          \n",
    "var1=pd.DataFrame({\"A\":[1,2,3,4,5],\"B\":[6,7,8,9,10]})\n",
    "var2=pd.DataFrame({\"A\":[1,2,3,4,5],\"B\":[6,7,8,9,10]})\n",
    "pd.concat([var1,var2],axis=1,keys=[\"d1\",\"d2\"])"
   ]
  },
  {
   "cell_type": "markdown",
   "id": "0494bee4",
   "metadata": {},
   "source": [
    "# max_rows"
   ]
  },
  {
   "cell_type": "code",
   "execution_count": 74,
   "id": "1652f02a",
   "metadata": {},
   "outputs": [
    {
     "name": "stdout",
     "output_type": "stream",
     "text": [
      "60\n"
     ]
    }
   ],
   "source": [
    "import pandas as pd\n",
    "print(pd.options.display.max_rows)"
   ]
  },
  {
   "cell_type": "code",
   "execution_count": 9,
   "id": "b7dcf127",
   "metadata": {},
   "outputs": [
    {
     "name": "stdout",
     "output_type": "stream",
     "text": [
      "     Duration  Pulse  Maxpulse  Calories\n",
      "0          60    110       130     409.1\n",
      "1          60    117       145     479.0\n",
      "2          60    103       135     340.0\n",
      "3          45    109       175     282.4\n",
      "4          45    117       148     406.0\n",
      "5          60    102       127     300.0\n",
      "6          60    110       136     374.0\n",
      "7          45    104       134     253.3\n",
      "8          30    109       133     195.1\n",
      "9          60     98       124     269.0\n",
      "10         60    103       147     329.3\n",
      "11         60    100       120     250.7\n",
      "12         60    106       128     345.3\n",
      "13         60    104       132     379.3\n",
      "14         60     98       123     275.0\n",
      "15         60     98       120     215.2\n",
      "16         60    100       120     300.0\n",
      "17         45     90       112       NaN\n",
      "18         60    103       123     323.0\n",
      "19         45     97       125     243.0\n",
      "20         60    108       131     364.2\n",
      "21         45    100       119     282.0\n",
      "22         60    130       101     300.0\n",
      "23         45    105       132     246.0\n",
      "24         60    102       126     334.5\n",
      "25         60    100       120     250.0\n",
      "26         60     92       118     241.0\n",
      "27         60    103       132       NaN\n",
      "28         60    100       132     280.0\n",
      "29         60    102       129     380.3\n",
      "30         60     92       115     243.0\n",
      "31         45     90       112     180.1\n",
      "32         60    101       124     299.0\n",
      "33         60     93       113     223.0\n",
      "34         60    107       136     361.0\n",
      "35         60    114       140     415.0\n",
      "36         60    102       127     300.0\n",
      "37         60    100       120     300.0\n",
      "38         60    100       120     300.0\n",
      "39         45    104       129     266.0\n",
      "40         45     90       112     180.1\n",
      "41         60     98       126     286.0\n",
      "42         60    100       122     329.4\n",
      "43         60    111       138     400.0\n",
      "44         60    111       131     397.0\n",
      "45         60     99       119     273.0\n",
      "46         60    109       153     387.6\n",
      "47         45    111       136     300.0\n",
      "48         45    108       129     298.0\n",
      "49         60    111       139     397.6\n",
      "50         60    107       136     380.2\n",
      "51         80    123       146     643.1\n",
      "52         60    106       130     263.0\n",
      "53         60    118       151     486.0\n",
      "54         30    136       175     238.0\n",
      "55         60    121       146     450.7\n",
      "56         60    118       121     413.0\n",
      "57         45    115       144     305.0\n",
      "58         20    153       172     226.4\n",
      "59         45    123       152     321.0\n",
      "60        210    108       160    1376.0\n",
      "61        160    110       137    1034.4\n",
      "62        160    109       135     853.0\n",
      "63         45    118       141     341.0\n",
      "64         20    110       130     131.4\n",
      "65        180     90       130     800.4\n",
      "66        150    105       135     873.4\n",
      "67        150    107       130     816.0\n",
      "68         20    106       136     110.4\n",
      "69        300    108       143    1500.2\n",
      "70        150     97       129    1115.0\n",
      "71         60    109       153     387.6\n",
      "72         90    100       127     700.0\n",
      "73        150     97       127     953.2\n",
      "74         45    114       146     304.0\n",
      "75         90     98       125     563.2\n",
      "76         45    105       134     251.0\n",
      "77         45    110       141     300.0\n",
      "78        120    100       130     500.4\n",
      "79        270    100       131    1729.0\n",
      "80         30    159       182     319.2\n",
      "81         45    149       169     344.0\n",
      "82         30    103       139     151.1\n",
      "83        120    100       130     500.0\n",
      "84         45    100       120     225.3\n",
      "85         30    151       170     300.0\n",
      "86         45    102       136     234.0\n",
      "87        120    100       157    1000.1\n",
      "88         45    129       103     242.0\n",
      "89         20     83       107      50.3\n",
      "90        180    101       127     600.1\n",
      "91         45    107       137       NaN\n",
      "92         30     90       107     105.3\n",
      "93         15     80       100      50.5\n",
      "94         20    150       171     127.4\n",
      "95         20    151       168     229.4\n",
      "96         30     95       128     128.2\n",
      "97         25    152       168     244.2\n",
      "98         30    109       131     188.2\n",
      "99         90     93       124     604.1\n",
      "100        20     95       112      77.7\n",
      "101        90     90       110     500.0\n",
      "102        90     90       100     500.0\n",
      "103        90     90       100     500.4\n",
      "104        30     92       108      92.7\n",
      "105        30     93       128     124.0\n",
      "106       180     90       120     800.3\n",
      "107        30     90       120      86.2\n",
      "108        90     90       120     500.3\n",
      "109       210    137       184    1860.4\n",
      "110        60    102       124     325.2\n",
      "111        45    107       124     275.0\n",
      "112        15    124       139     124.2\n",
      "113        45    100       120     225.3\n",
      "114        60    108       131     367.6\n",
      "115        60    108       151     351.7\n",
      "116        60    116       141     443.0\n",
      "117        60     97       122     277.4\n",
      "118        60    105       125       NaN\n",
      "119        60    103       124     332.7\n",
      "120        30    112       137     193.9\n",
      "121        45    100       120     100.7\n",
      "122        60    119       169     336.7\n",
      "123        60    107       127     344.9\n",
      "124        60    111       151     368.5\n",
      "125        60     98       122     271.0\n",
      "126        60     97       124     275.3\n",
      "127        60    109       127     382.0\n",
      "128        90     99       125     466.4\n",
      "129        60    114       151     384.0\n",
      "130        60    104       134     342.5\n",
      "131        60    107       138     357.5\n",
      "132        60    103       133     335.0\n",
      "133        60    106       132     327.5\n",
      "134        60    103       136     339.0\n",
      "135        20    136       156     189.0\n",
      "136        45    117       143     317.7\n",
      "137        45    115       137     318.0\n",
      "138        45    113       138     308.0\n",
      "139        20    141       162     222.4\n",
      "140        60    108       135     390.0\n",
      "141        60     97       127       NaN\n",
      "142        45    100       120     250.4\n",
      "143        45    122       149     335.4\n",
      "144        60    136       170     470.2\n",
      "145        45    106       126     270.8\n",
      "146        60    107       136     400.0\n",
      "147        60    112       146     361.9\n",
      "148        30    103       127     185.0\n",
      "149        60    110       150     409.4\n",
      "150        60    106       134     343.0\n",
      "151        60    109       129     353.2\n",
      "152        60    109       138     374.0\n",
      "153        30    150       167     275.8\n",
      "154        60    105       128     328.0\n",
      "155        60    111       151     368.5\n",
      "156        60     97       131     270.4\n",
      "157        60    100       120     270.4\n",
      "158        60    114       150     382.8\n",
      "159        30     80       120     240.9\n",
      "160        30     85       120     250.4\n",
      "161        45     90       130     260.4\n",
      "162        45     95       130     270.0\n",
      "163        45    100       140     280.9\n",
      "164        60    105       140     290.8\n",
      "165        60    110       145     300.0\n",
      "166        60    115       145     310.2\n",
      "167        75    120       150     320.4\n",
      "168        75    125       150     330.4\n"
     ]
    }
   ],
   "source": [
    "import pandas as pd\n",
    "pd.options.display.max_rows=999\n",
    "myfile=pd.read_csv(r\"C:\\Users\\Aqsa Kanwal\\Desktop\\datasets\\data.csv\")\n",
    "print(myfile)"
   ]
  },
  {
   "cell_type": "markdown",
   "id": "c45fa9ba",
   "metadata": {},
   "source": [
    "# Pandas Read JSON"
   ]
  },
  {
   "cell_type": "markdown",
   "id": "c484b4a7",
   "metadata": {},
   "source": [
    "# Dictionary as JSON"
   ]
  },
  {
   "cell_type": "code",
   "execution_count": 10,
   "id": "5d5c0b38",
   "metadata": {},
   "outputs": [
    {
     "name": "stdout",
     "output_type": "stream",
     "text": [
      "   Duration  Pulse  Maxpulse  Calories\n",
      "0        60    110       130       409\n",
      "1        60    117       145       479\n",
      "2        60    103       135       340\n",
      "3        45    109       175       282\n",
      "4        45    117       148       406\n",
      "5        60    102       127       300\n"
     ]
    }
   ],
   "source": [
    "import pandas as pd\n",
    "data={\n",
    "  \"Duration\":{\n",
    "    \"0\":60,\n",
    "    \"1\":60,\n",
    "    \"2\":60,\n",
    "    \"3\":45,\n",
    "    \"4\":45,\n",
    "    \"5\":60\n",
    "  },\n",
    "  \"Pulse\":{\n",
    "    \"0\":110,\n",
    "    \"1\":117,\n",
    "    \"2\":103,\n",
    "    \"3\":109,\n",
    "    \"4\":117,\n",
    "    \"5\":102\n",
    "  },\n",
    "  \"Maxpulse\":{\n",
    "    \"0\":130,\n",
    "    \"1\":145,\n",
    "    \"2\":135,\n",
    "    \"3\":175,\n",
    "    \"4\":148,\n",
    "    \"5\":127\n",
    "  },\n",
    "  \"Calories\":{\n",
    "    \"0\":409,\n",
    "    \"1\":479,\n",
    "    \"2\":340,\n",
    "    \"3\":282,\n",
    "    \"4\":406,\n",
    "    \"5\":300\n",
    "  }\n",
    "}\n",
    "df = pd.DataFrame(data)\n",
    "print(df) "
   ]
  },
  {
   "cell_type": "markdown",
   "id": "eee9f511",
   "metadata": {},
   "source": [
    "# Pandas - Analyzing DataFrames"
   ]
  },
  {
   "cell_type": "markdown",
   "id": "9f2f6b18",
   "metadata": {},
   "source": [
    "# head()"
   ]
  },
  {
   "cell_type": "code",
   "execution_count": 12,
   "id": "99686bcb",
   "metadata": {},
   "outputs": [
    {
     "name": "stdout",
     "output_type": "stream",
     "text": [
      "   Duration  Pulse  Maxpulse  Calories\n",
      "0        60    110       130     409.1\n",
      "1        60    117       145     479.0\n",
      "2        60    103       135     340.0\n",
      "3        45    109       175     282.4\n",
      "4        45    117       148     406.0\n",
      "5        60    102       127     300.0\n",
      "6        60    110       136     374.0\n",
      "7        45    104       134     253.3\n",
      "8        30    109       133     195.1\n",
      "9        60     98       124     269.0\n"
     ]
    }
   ],
   "source": [
    "import pandas as pd\n",
    "myfile=pd.read_csv(r\"C:\\Users\\Aqsa Kanwal\\Desktop\\datasets\\data.csv\")\n",
    "print(myfile.head(10))"
   ]
  },
  {
   "cell_type": "code",
   "execution_count": 15,
   "id": "231abaa3",
   "metadata": {},
   "outputs": [
    {
     "name": "stdout",
     "output_type": "stream",
     "text": [
      "   Duration  Pulse  Maxpulse  Calories\n",
      "0        60    110       130     409.1\n",
      "1        60    117       145     479.0\n",
      "2        60    103       135     340.0\n",
      "3        45    109       175     282.4\n",
      "4        45    117       148     406.0\n"
     ]
    }
   ],
   "source": [
    "import pandas as pd\n",
    "myfile=pd.read_csv(r\"C:\\Users\\Aqsa Kanwal\\Desktop\\datasets\\data.csv\")\n",
    "print(myfile.head())"
   ]
  },
  {
   "cell_type": "markdown",
   "id": "2dece407",
   "metadata": {},
   "source": [
    "# tail()"
   ]
  },
  {
   "cell_type": "code",
   "execution_count": 13,
   "id": "d66b60aa",
   "metadata": {},
   "outputs": [
    {
     "name": "stdout",
     "output_type": "stream",
     "text": [
      "     Duration  Pulse  Maxpulse  Calories\n",
      "159        30     80       120     240.9\n",
      "160        30     85       120     250.4\n",
      "161        45     90       130     260.4\n",
      "162        45     95       130     270.0\n",
      "163        45    100       140     280.9\n",
      "164        60    105       140     290.8\n",
      "165        60    110       145     300.0\n",
      "166        60    115       145     310.2\n",
      "167        75    120       150     320.4\n",
      "168        75    125       150     330.4\n"
     ]
    }
   ],
   "source": [
    "import pandas as pd\n",
    "myfile=pd.read_csv(r\"C:\\Users\\Aqsa Kanwal\\Desktop\\datasets\\data.csv\")\n",
    "print(myfile.tail(10))"
   ]
  },
  {
   "cell_type": "code",
   "execution_count": 16,
   "id": "60743de6",
   "metadata": {},
   "outputs": [
    {
     "name": "stdout",
     "output_type": "stream",
     "text": [
      "     Duration  Pulse  Maxpulse  Calories\n",
      "164        60    105       140     290.8\n",
      "165        60    110       145     300.0\n",
      "166        60    115       145     310.2\n",
      "167        75    120       150     320.4\n",
      "168        75    125       150     330.4\n"
     ]
    }
   ],
   "source": [
    "import pandas as pd\n",
    "myfile=pd.read_csv(r\"C:\\Users\\Aqsa Kanwal\\Desktop\\datasets\\data.csv\")\n",
    "print(myfile.tail())"
   ]
  },
  {
   "cell_type": "markdown",
   "id": "b3b25af4",
   "metadata": {},
   "source": [
    "# Info About the Data"
   ]
  },
  {
   "cell_type": "code",
   "execution_count": 14,
   "id": "1da2ebb0",
   "metadata": {},
   "outputs": [
    {
     "name": "stdout",
     "output_type": "stream",
     "text": [
      "<class 'pandas.core.frame.DataFrame'>\n",
      "RangeIndex: 169 entries, 0 to 168\n",
      "Data columns (total 4 columns):\n",
      " #   Column    Non-Null Count  Dtype  \n",
      "---  ------    --------------  -----  \n",
      " 0   Duration  169 non-null    int64  \n",
      " 1   Pulse     169 non-null    int64  \n",
      " 2   Maxpulse  169 non-null    int64  \n",
      " 3   Calories  164 non-null    float64\n",
      "dtypes: float64(1), int64(3)\n",
      "memory usage: 5.4 KB\n",
      "None\n"
     ]
    }
   ],
   "source": [
    "print(myfile.info())"
   ]
  },
  {
   "cell_type": "markdown",
   "id": "add1cb89",
   "metadata": {},
   "source": [
    "# Pandas - Cleaning Data"
   ]
  },
  {
   "cell_type": "markdown",
   "id": "e3e73f67",
   "metadata": {},
   "source": [
    "# 1: Cleaning Empty Cells"
   ]
  },
  {
   "cell_type": "markdown",
   "id": "dd9d3be1",
   "metadata": {},
   "source": [
    "# Remove Rows"
   ]
  },
  {
   "cell_type": "code",
   "execution_count": 9,
   "id": "f9c61b9b",
   "metadata": {},
   "outputs": [
    {
     "name": "stdout",
     "output_type": "stream",
     "text": [
      "    Duration          Date  Pulse  Maxpulse  Calories\n",
      "0         60  '2020/12/01'    110       130     409.1\n",
      "1         60  '2020/12/02'    117       145     479.0\n",
      "2         60  '2020/12/03'    103       135     340.0\n",
      "3         45  '2020/12/04'    109       175     282.4\n",
      "4         45  '2020/12/05'    117       148     406.0\n",
      "5         60  '2020/12/06'    102       127     300.0\n",
      "6         60  '2020/12/07'    110       136     374.0\n",
      "7        450  '2020/12/08'    104       134     253.3\n",
      "8         30  '2020/12/09'    109       133     195.1\n",
      "9         60  '2020/12/10'     98       124     269.0\n",
      "10        60  '2020/12/11'    103       147     329.3\n",
      "11        60  '2020/12/12'    100       120     250.7\n",
      "12        60  '2020/12/12'    100       120     250.7\n",
      "13        60  '2020/12/13'    106       128     345.3\n",
      "14        60  '2020/12/14'    104       132     379.3\n",
      "15        60  '2020/12/15'     98       123     275.0\n",
      "16        60  '2020/12/16'     98       120     215.2\n",
      "17        60  '2020/12/17'    100       120     300.0\n",
      "18        45  '2020/12/18'     90       112       NaN\n",
      "19        60  '2020/12/19'    103       123     323.0\n",
      "20        45  '2020/12/20'     97       125     243.0\n",
      "21        60  '2020/12/21'    108       131     364.2\n",
      "22        45           NaN    100       119     282.0\n",
      "23        60  '2020/12/23'    130       101     300.0\n",
      "24        45  '2020/12/24'    105       132     246.0\n",
      "25        60  '2020/12/25'    102       126     334.5\n",
      "26        60      20201226    100       120     250.0\n",
      "27        60  '2020/12/27'     92       118     241.0\n",
      "28        60  '2020/12/28'    103       132       NaN\n",
      "29        60  '2020/12/29'    100       132     280.0\n",
      "30        60  '2020/12/30'    102       129     380.3\n",
      "31        60  '2020/12/31'     92       115     243.0\n"
     ]
    }
   ],
   "source": [
    "import pandas as pd\n",
    "raw_data=pd.read_csv(r\"C:\\Users\\Aqsa Kanwal\\Desktop\\rawdata\\Dataset.csv\")\n",
    "print(raw_data)"
   ]
  },
  {
   "cell_type": "code",
   "execution_count": 11,
   "id": "f93a36bc",
   "metadata": {},
   "outputs": [
    {
     "name": "stdout",
     "output_type": "stream",
     "text": [
      "    Duration          Date  Pulse  Maxpulse  Calories\n",
      "0         60  '2020/12/01'    110       130     409.1\n",
      "1         60  '2020/12/02'    117       145     479.0\n",
      "2         60  '2020/12/03'    103       135     340.0\n",
      "3         45  '2020/12/04'    109       175     282.4\n",
      "4         45  '2020/12/05'    117       148     406.0\n",
      "5         60  '2020/12/06'    102       127     300.0\n",
      "6         60  '2020/12/07'    110       136     374.0\n",
      "7        450  '2020/12/08'    104       134     253.3\n",
      "8         30  '2020/12/09'    109       133     195.1\n",
      "9         60  '2020/12/10'     98       124     269.0\n",
      "10        60  '2020/12/11'    103       147     329.3\n",
      "11        60  '2020/12/12'    100       120     250.7\n",
      "12        60  '2020/12/12'    100       120     250.7\n",
      "13        60  '2020/12/13'    106       128     345.3\n",
      "14        60  '2020/12/14'    104       132     379.3\n",
      "15        60  '2020/12/15'     98       123     275.0\n",
      "16        60  '2020/12/16'     98       120     215.2\n",
      "17        60  '2020/12/17'    100       120     300.0\n",
      "19        60  '2020/12/19'    103       123     323.0\n",
      "20        45  '2020/12/20'     97       125     243.0\n",
      "21        60  '2020/12/21'    108       131     364.2\n",
      "23        60  '2020/12/23'    130       101     300.0\n",
      "24        45  '2020/12/24'    105       132     246.0\n",
      "25        60  '2020/12/25'    102       126     334.5\n",
      "26        60      20201226    100       120     250.0\n",
      "27        60  '2020/12/27'     92       118     241.0\n",
      "29        60  '2020/12/29'    100       132     280.0\n",
      "30        60  '2020/12/30'    102       129     380.3\n",
      "31        60  '2020/12/31'     92       115     243.0\n"
     ]
    }
   ],
   "source": [
    "cleandata=raw_data.dropna()\n",
    "print(cleandata.to_string())"
   ]
  },
  {
   "cell_type": "code",
   "execution_count": 12,
   "id": "be7c663b",
   "metadata": {},
   "outputs": [
    {
     "name": "stdout",
     "output_type": "stream",
     "text": [
      "    Duration          Date  Pulse  Maxpulse  Calories\n",
      "0         60  '2020/12/01'    110       130     409.1\n",
      "1         60  '2020/12/02'    117       145     479.0\n",
      "2         60  '2020/12/03'    103       135     340.0\n",
      "3         45  '2020/12/04'    109       175     282.4\n",
      "4         45  '2020/12/05'    117       148     406.0\n",
      "5         60  '2020/12/06'    102       127     300.0\n",
      "6         60  '2020/12/07'    110       136     374.0\n",
      "7        450  '2020/12/08'    104       134     253.3\n",
      "8         30  '2020/12/09'    109       133     195.1\n",
      "9         60  '2020/12/10'     98       124     269.0\n",
      "10        60  '2020/12/11'    103       147     329.3\n",
      "11        60  '2020/12/12'    100       120     250.7\n",
      "12        60  '2020/12/12'    100       120     250.7\n",
      "13        60  '2020/12/13'    106       128     345.3\n",
      "14        60  '2020/12/14'    104       132     379.3\n",
      "15        60  '2020/12/15'     98       123     275.0\n",
      "16        60  '2020/12/16'     98       120     215.2\n",
      "17        60  '2020/12/17'    100       120     300.0\n",
      "19        60  '2020/12/19'    103       123     323.0\n",
      "20        45  '2020/12/20'     97       125     243.0\n",
      "21        60  '2020/12/21'    108       131     364.2\n",
      "23        60  '2020/12/23'    130       101     300.0\n",
      "24        45  '2020/12/24'    105       132     246.0\n",
      "25        60  '2020/12/25'    102       126     334.5\n",
      "26        60      20201226    100       120     250.0\n",
      "27        60  '2020/12/27'     92       118     241.0\n",
      "29        60  '2020/12/29'    100       132     280.0\n",
      "30        60  '2020/12/30'    102       129     380.3\n",
      "31        60  '2020/12/31'     92       115     243.0\n"
     ]
    }
   ],
   "source": [
    "raw_data.dropna(inplace=True)\n",
    "print(raw_data)"
   ]
  },
  {
   "cell_type": "markdown",
   "id": "5a022e6c",
   "metadata": {},
   "source": [
    "# Replace Empty Values"
   ]
  },
  {
   "cell_type": "code",
   "execution_count": 13,
   "id": "4f598159",
   "metadata": {},
   "outputs": [
    {
     "name": "stdout",
     "output_type": "stream",
     "text": [
      "    Duration          Date  Pulse  Maxpulse  Calories\n",
      "0         60  '2020/12/01'    110       130     409.1\n",
      "1         60  '2020/12/02'    117       145     479.0\n",
      "2         60  '2020/12/03'    103       135     340.0\n",
      "3         45  '2020/12/04'    109       175     282.4\n",
      "4         45  '2020/12/05'    117       148     406.0\n",
      "5         60  '2020/12/06'    102       127     300.0\n",
      "6         60  '2020/12/07'    110       136     374.0\n",
      "7        450  '2020/12/08'    104       134     253.3\n",
      "8         30  '2020/12/09'    109       133     195.1\n",
      "9         60  '2020/12/10'     98       124     269.0\n",
      "10        60  '2020/12/11'    103       147     329.3\n",
      "11        60  '2020/12/12'    100       120     250.7\n",
      "12        60  '2020/12/12'    100       120     250.7\n",
      "13        60  '2020/12/13'    106       128     345.3\n",
      "14        60  '2020/12/14'    104       132     379.3\n",
      "15        60  '2020/12/15'     98       123     275.0\n",
      "16        60  '2020/12/16'     98       120     215.2\n",
      "17        60  '2020/12/17'    100       120     300.0\n",
      "18        45  '2020/12/18'     90       112       NaN\n",
      "19        60  '2020/12/19'    103       123     323.0\n",
      "20        45  '2020/12/20'     97       125     243.0\n",
      "21        60  '2020/12/21'    108       131     364.2\n",
      "22        45           NaN    100       119     282.0\n",
      "23        60  '2020/12/23'    130       101     300.0\n",
      "24        45  '2020/12/24'    105       132     246.0\n",
      "25        60  '2020/12/25'    102       126     334.5\n",
      "26        60      20201226    100       120     250.0\n",
      "27        60  '2020/12/27'     92       118     241.0\n",
      "28        60  '2020/12/28'    103       132       NaN\n",
      "29        60  '2020/12/29'    100       132     280.0\n",
      "30        60  '2020/12/30'    102       129     380.3\n",
      "31        60  '2020/12/31'     92       115     243.0\n"
     ]
    }
   ],
   "source": [
    "import pandas as pd\n",
    "raw_data=pd.read_csv(r\"C:\\Users\\Aqsa Kanwal\\Desktop\\rawdata\\Dataset.csv\")\n",
    "print(raw_data)"
   ]
  },
  {
   "cell_type": "code",
   "execution_count": 15,
   "id": "a63d9146",
   "metadata": {},
   "outputs": [
    {
     "name": "stdout",
     "output_type": "stream",
     "text": [
      "    Duration          Date  Pulse  Maxpulse  Calories\n",
      "0         60  '2020/12/01'    110       130     409.1\n",
      "1         60  '2020/12/02'    117       145     479.0\n",
      "2         60  '2020/12/03'    103       135     340.0\n",
      "3         45  '2020/12/04'    109       175     282.4\n",
      "4         45  '2020/12/05'    117       148     406.0\n",
      "5         60  '2020/12/06'    102       127     300.0\n",
      "6         60  '2020/12/07'    110       136     374.0\n",
      "7        450  '2020/12/08'    104       134     253.3\n",
      "8         30  '2020/12/09'    109       133     195.1\n",
      "9         60  '2020/12/10'     98       124     269.0\n",
      "10        60  '2020/12/11'    103       147     329.3\n",
      "11        60  '2020/12/12'    100       120     250.7\n",
      "12        60  '2020/12/12'    100       120     250.7\n",
      "13        60  '2020/12/13'    106       128     345.3\n",
      "14        60  '2020/12/14'    104       132     379.3\n",
      "15        60  '2020/12/15'     98       123     275.0\n",
      "16        60  '2020/12/16'     98       120     215.2\n",
      "17        60  '2020/12/17'    100       120     300.0\n",
      "18        45  '2020/12/18'     90       112     130.0\n",
      "19        60  '2020/12/19'    103       123     323.0\n",
      "20        45  '2020/12/20'     97       125     243.0\n",
      "21        60  '2020/12/21'    108       131     364.2\n",
      "22        45           130    100       119     282.0\n",
      "23        60  '2020/12/23'    130       101     300.0\n",
      "24        45  '2020/12/24'    105       132     246.0\n",
      "25        60  '2020/12/25'    102       126     334.5\n",
      "26        60      20201226    100       120     250.0\n",
      "27        60  '2020/12/27'     92       118     241.0\n",
      "28        60  '2020/12/28'    103       132     130.0\n",
      "29        60  '2020/12/29'    100       132     280.0\n",
      "30        60  '2020/12/30'    102       129     380.3\n",
      "31        60  '2020/12/31'     92       115     243.0\n"
     ]
    }
   ],
   "source": [
    "raw_data.fillna(130, inplace=True)\n",
    "print(raw_data)"
   ]
  },
  {
   "cell_type": "markdown",
   "id": "a279e8b7",
   "metadata": {},
   "source": [
    "# Replace Only For Specified Columns"
   ]
  },
  {
   "cell_type": "code",
   "execution_count": 16,
   "id": "4c14b6ea",
   "metadata": {},
   "outputs": [
    {
     "name": "stdout",
     "output_type": "stream",
     "text": [
      "    Duration          Date  Pulse  Maxpulse  Calories\n",
      "0         60  '2020/12/01'    110       130     409.1\n",
      "1         60  '2020/12/02'    117       145     479.0\n",
      "2         60  '2020/12/03'    103       135     340.0\n",
      "3         45  '2020/12/04'    109       175     282.4\n",
      "4         45  '2020/12/05'    117       148     406.0\n",
      "5         60  '2020/12/06'    102       127     300.0\n",
      "6         60  '2020/12/07'    110       136     374.0\n",
      "7        450  '2020/12/08'    104       134     253.3\n",
      "8         30  '2020/12/09'    109       133     195.1\n",
      "9         60  '2020/12/10'     98       124     269.0\n",
      "10        60  '2020/12/11'    103       147     329.3\n",
      "11        60  '2020/12/12'    100       120     250.7\n",
      "12        60  '2020/12/12'    100       120     250.7\n",
      "13        60  '2020/12/13'    106       128     345.3\n",
      "14        60  '2020/12/14'    104       132     379.3\n",
      "15        60  '2020/12/15'     98       123     275.0\n",
      "16        60  '2020/12/16'     98       120     215.2\n",
      "17        60  '2020/12/17'    100       120     300.0\n",
      "18        45  '2020/12/18'     90       112       NaN\n",
      "19        60  '2020/12/19'    103       123     323.0\n",
      "20        45  '2020/12/20'     97       125     243.0\n",
      "21        60  '2020/12/21'    108       131     364.2\n",
      "22        45           NaN    100       119     282.0\n",
      "23        60  '2020/12/23'    130       101     300.0\n",
      "24        45  '2020/12/24'    105       132     246.0\n",
      "25        60  '2020/12/25'    102       126     334.5\n",
      "26        60      20201226    100       120     250.0\n",
      "27        60  '2020/12/27'     92       118     241.0\n",
      "28        60  '2020/12/28'    103       132       NaN\n",
      "29        60  '2020/12/29'    100       132     280.0\n",
      "30        60  '2020/12/30'    102       129     380.3\n",
      "31        60  '2020/12/31'     92       115     243.0\n"
     ]
    }
   ],
   "source": [
    "import pandas as pd\n",
    "raw_data=pd.read_csv(r\"C:\\Users\\Aqsa Kanwal\\Desktop\\rawdata\\Dataset.csv\")\n",
    "print(raw_data)"
   ]
  },
  {
   "cell_type": "code",
   "execution_count": 17,
   "id": "c1533d01",
   "metadata": {},
   "outputs": [
    {
     "name": "stdout",
     "output_type": "stream",
     "text": [
      "    Duration          Date  Pulse  Maxpulse  Calories\n",
      "0         60  '2020/12/01'    110       130     409.1\n",
      "1         60  '2020/12/02'    117       145     479.0\n",
      "2         60  '2020/12/03'    103       135     340.0\n",
      "3         45  '2020/12/04'    109       175     282.4\n",
      "4         45  '2020/12/05'    117       148     406.0\n",
      "5         60  '2020/12/06'    102       127     300.0\n",
      "6         60  '2020/12/07'    110       136     374.0\n",
      "7        450  '2020/12/08'    104       134     253.3\n",
      "8         30  '2020/12/09'    109       133     195.1\n",
      "9         60  '2020/12/10'     98       124     269.0\n",
      "10        60  '2020/12/11'    103       147     329.3\n",
      "11        60  '2020/12/12'    100       120     250.7\n",
      "12        60  '2020/12/12'    100       120     250.7\n",
      "13        60  '2020/12/13'    106       128     345.3\n",
      "14        60  '2020/12/14'    104       132     379.3\n",
      "15        60  '2020/12/15'     98       123     275.0\n",
      "16        60  '2020/12/16'     98       120     215.2\n",
      "17        60  '2020/12/17'    100       120     300.0\n",
      "18        45  '2020/12/18'     90       112     130.0\n",
      "19        60  '2020/12/19'    103       123     323.0\n",
      "20        45  '2020/12/20'     97       125     243.0\n",
      "21        60  '2020/12/21'    108       131     364.2\n",
      "22        45           NaN    100       119     282.0\n",
      "23        60  '2020/12/23'    130       101     300.0\n",
      "24        45  '2020/12/24'    105       132     246.0\n",
      "25        60  '2020/12/25'    102       126     334.5\n",
      "26        60      20201226    100       120     250.0\n",
      "27        60  '2020/12/27'     92       118     241.0\n",
      "28        60  '2020/12/28'    103       132     130.0\n",
      "29        60  '2020/12/29'    100       132     280.0\n",
      "30        60  '2020/12/30'    102       129     380.3\n",
      "31        60  '2020/12/31'     92       115     243.0\n"
     ]
    }
   ],
   "source": [
    "raw_data[\"Calories\"].fillna(130,inplace=True)\n",
    "print(raw_data)"
   ]
  },
  {
   "cell_type": "markdown",
   "id": "68e9a6c2",
   "metadata": {},
   "source": [
    "# Replace Using Mean, Median, or Mode"
   ]
  },
  {
   "cell_type": "markdown",
   "id": "93f86068",
   "metadata": {},
   "source": [
    "# Mean"
   ]
  },
  {
   "cell_type": "code",
   "execution_count": 18,
   "id": "e5c378f8",
   "metadata": {},
   "outputs": [
    {
     "name": "stdout",
     "output_type": "stream",
     "text": [
      "    Duration          Date  Pulse  Maxpulse  Calories\n",
      "0         60  '2020/12/01'    110       130     409.1\n",
      "1         60  '2020/12/02'    117       145     479.0\n",
      "2         60  '2020/12/03'    103       135     340.0\n",
      "3         45  '2020/12/04'    109       175     282.4\n",
      "4         45  '2020/12/05'    117       148     406.0\n",
      "5         60  '2020/12/06'    102       127     300.0\n",
      "6         60  '2020/12/07'    110       136     374.0\n",
      "7        450  '2020/12/08'    104       134     253.3\n",
      "8         30  '2020/12/09'    109       133     195.1\n",
      "9         60  '2020/12/10'     98       124     269.0\n",
      "10        60  '2020/12/11'    103       147     329.3\n",
      "11        60  '2020/12/12'    100       120     250.7\n",
      "12        60  '2020/12/12'    100       120     250.7\n",
      "13        60  '2020/12/13'    106       128     345.3\n",
      "14        60  '2020/12/14'    104       132     379.3\n",
      "15        60  '2020/12/15'     98       123     275.0\n",
      "16        60  '2020/12/16'     98       120     215.2\n",
      "17        60  '2020/12/17'    100       120     300.0\n",
      "18        45  '2020/12/18'     90       112       NaN\n",
      "19        60  '2020/12/19'    103       123     323.0\n",
      "20        45  '2020/12/20'     97       125     243.0\n",
      "21        60  '2020/12/21'    108       131     364.2\n",
      "22        45           NaN    100       119     282.0\n",
      "23        60  '2020/12/23'    130       101     300.0\n",
      "24        45  '2020/12/24'    105       132     246.0\n",
      "25        60  '2020/12/25'    102       126     334.5\n",
      "26        60      20201226    100       120     250.0\n",
      "27        60  '2020/12/27'     92       118     241.0\n",
      "28        60  '2020/12/28'    103       132       NaN\n",
      "29        60  '2020/12/29'    100       132     280.0\n",
      "30        60  '2020/12/30'    102       129     380.3\n",
      "31        60  '2020/12/31'     92       115     243.0\n"
     ]
    }
   ],
   "source": [
    "import pandas as pd\n",
    "raw_data=pd.read_csv(r\"C:\\Users\\Aqsa Kanwal\\Desktop\\rawdata\\Dataset.csv\")\n",
    "print(raw_data)"
   ]
  },
  {
   "cell_type": "code",
   "execution_count": 20,
   "id": "4fe3c463",
   "metadata": {},
   "outputs": [
    {
     "name": "stdout",
     "output_type": "stream",
     "text": [
      "    Duration          Date  Pulse  Maxpulse  Calories\n",
      "0         60  '2020/12/01'    110       130    409.10\n",
      "1         60  '2020/12/02'    117       145    479.00\n",
      "2         60  '2020/12/03'    103       135    340.00\n",
      "3         45  '2020/12/04'    109       175    282.40\n",
      "4         45  '2020/12/05'    117       148    406.00\n",
      "5         60  '2020/12/06'    102       127    300.00\n",
      "6         60  '2020/12/07'    110       136    374.00\n",
      "7        450  '2020/12/08'    104       134    253.30\n",
      "8         30  '2020/12/09'    109       133    195.10\n",
      "9         60  '2020/12/10'     98       124    269.00\n",
      "10        60  '2020/12/11'    103       147    329.30\n",
      "11        60  '2020/12/12'    100       120    250.70\n",
      "12        60  '2020/12/12'    100       120    250.70\n",
      "13        60  '2020/12/13'    106       128    345.30\n",
      "14        60  '2020/12/14'    104       132    379.30\n",
      "15        60  '2020/12/15'     98       123    275.00\n",
      "16        60  '2020/12/16'     98       120    215.20\n",
      "17        60  '2020/12/17'    100       120    300.00\n",
      "18        45  '2020/12/18'     90       112    304.68\n",
      "19        60  '2020/12/19'    103       123    323.00\n",
      "20        45  '2020/12/20'     97       125    243.00\n",
      "21        60  '2020/12/21'    108       131    364.20\n",
      "22        45           NaN    100       119    282.00\n",
      "23        60  '2020/12/23'    130       101    300.00\n",
      "24        45  '2020/12/24'    105       132    246.00\n",
      "25        60  '2020/12/25'    102       126    334.50\n",
      "26        60      20201226    100       120    250.00\n",
      "27        60  '2020/12/27'     92       118    241.00\n",
      "28        60  '2020/12/28'    103       132    304.68\n",
      "29        60  '2020/12/29'    100       132    280.00\n",
      "30        60  '2020/12/30'    102       129    380.30\n",
      "31        60  '2020/12/31'     92       115    243.00\n"
     ]
    }
   ],
   "source": [
    "x=raw_data[\"Calories\"].mean()\n",
    "raw_data[\"Calories\"].fillna(x,inplace=True)\n",
    "print(raw_data)"
   ]
  },
  {
   "cell_type": "markdown",
   "id": "40c3704c",
   "metadata": {},
   "source": [
    "# Median"
   ]
  },
  {
   "cell_type": "code",
   "execution_count": 21,
   "id": "8771e2a0",
   "metadata": {},
   "outputs": [
    {
     "name": "stdout",
     "output_type": "stream",
     "text": [
      "    Duration          Date  Pulse  Maxpulse  Calories\n",
      "0         60  '2020/12/01'    110       130     409.1\n",
      "1         60  '2020/12/02'    117       145     479.0\n",
      "2         60  '2020/12/03'    103       135     340.0\n",
      "3         45  '2020/12/04'    109       175     282.4\n",
      "4         45  '2020/12/05'    117       148     406.0\n",
      "5         60  '2020/12/06'    102       127     300.0\n",
      "6         60  '2020/12/07'    110       136     374.0\n",
      "7        450  '2020/12/08'    104       134     253.3\n",
      "8         30  '2020/12/09'    109       133     195.1\n",
      "9         60  '2020/12/10'     98       124     269.0\n",
      "10        60  '2020/12/11'    103       147     329.3\n",
      "11        60  '2020/12/12'    100       120     250.7\n",
      "12        60  '2020/12/12'    100       120     250.7\n",
      "13        60  '2020/12/13'    106       128     345.3\n",
      "14        60  '2020/12/14'    104       132     379.3\n",
      "15        60  '2020/12/15'     98       123     275.0\n",
      "16        60  '2020/12/16'     98       120     215.2\n",
      "17        60  '2020/12/17'    100       120     300.0\n",
      "18        45  '2020/12/18'     90       112       NaN\n",
      "19        60  '2020/12/19'    103       123     323.0\n",
      "20        45  '2020/12/20'     97       125     243.0\n",
      "21        60  '2020/12/21'    108       131     364.2\n",
      "22        45           NaN    100       119     282.0\n",
      "23        60  '2020/12/23'    130       101     300.0\n",
      "24        45  '2020/12/24'    105       132     246.0\n",
      "25        60  '2020/12/25'    102       126     334.5\n",
      "26        60      20201226    100       120     250.0\n",
      "27        60  '2020/12/27'     92       118     241.0\n",
      "28        60  '2020/12/28'    103       132       NaN\n",
      "29        60  '2020/12/29'    100       132     280.0\n",
      "30        60  '2020/12/30'    102       129     380.3\n",
      "31        60  '2020/12/31'     92       115     243.0\n"
     ]
    }
   ],
   "source": [
    "import pandas as pd\n",
    "raw_data=pd.read_csv(r\"C:\\Users\\Aqsa Kanwal\\Desktop\\rawdata\\Dataset.csv\")\n",
    "print(raw_data)"
   ]
  },
  {
   "cell_type": "code",
   "execution_count": 22,
   "id": "545b5283",
   "metadata": {},
   "outputs": [
    {
     "name": "stdout",
     "output_type": "stream",
     "text": [
      "    Duration          Date  Pulse  Maxpulse  Calories\n",
      "0         60  '2020/12/01'    110       130     409.1\n",
      "1         60  '2020/12/02'    117       145     479.0\n",
      "2         60  '2020/12/03'    103       135     340.0\n",
      "3         45  '2020/12/04'    109       175     282.4\n",
      "4         45  '2020/12/05'    117       148     406.0\n",
      "5         60  '2020/12/06'    102       127     300.0\n",
      "6         60  '2020/12/07'    110       136     374.0\n",
      "7        450  '2020/12/08'    104       134     253.3\n",
      "8         30  '2020/12/09'    109       133     195.1\n",
      "9         60  '2020/12/10'     98       124     269.0\n",
      "10        60  '2020/12/11'    103       147     329.3\n",
      "11        60  '2020/12/12'    100       120     250.7\n",
      "12        60  '2020/12/12'    100       120     250.7\n",
      "13        60  '2020/12/13'    106       128     345.3\n",
      "14        60  '2020/12/14'    104       132     379.3\n",
      "15        60  '2020/12/15'     98       123     275.0\n",
      "16        60  '2020/12/16'     98       120     215.2\n",
      "17        60  '2020/12/17'    100       120     300.0\n",
      "18        45  '2020/12/18'     90       112     291.2\n",
      "19        60  '2020/12/19'    103       123     323.0\n",
      "20        45  '2020/12/20'     97       125     243.0\n",
      "21        60  '2020/12/21'    108       131     364.2\n",
      "22        45           NaN    100       119     282.0\n",
      "23        60  '2020/12/23'    130       101     300.0\n",
      "24        45  '2020/12/24'    105       132     246.0\n",
      "25        60  '2020/12/25'    102       126     334.5\n",
      "26        60      20201226    100       120     250.0\n",
      "27        60  '2020/12/27'     92       118     241.0\n",
      "28        60  '2020/12/28'    103       132     291.2\n",
      "29        60  '2020/12/29'    100       132     280.0\n",
      "30        60  '2020/12/30'    102       129     380.3\n",
      "31        60  '2020/12/31'     92       115     243.0\n"
     ]
    }
   ],
   "source": [
    "x=raw_data[\"Calories\"].median()\n",
    "raw_data[\"Calories\"].fillna(x,inplace=True)\n",
    "print(raw_data)"
   ]
  },
  {
   "cell_type": "markdown",
   "id": "59ce8369",
   "metadata": {},
   "source": [
    "# Mode"
   ]
  },
  {
   "cell_type": "code",
   "execution_count": 23,
   "id": "13efdd2a",
   "metadata": {},
   "outputs": [
    {
     "name": "stdout",
     "output_type": "stream",
     "text": [
      "    Duration          Date  Pulse  Maxpulse  Calories\n",
      "0         60  '2020/12/01'    110       130     409.1\n",
      "1         60  '2020/12/02'    117       145     479.0\n",
      "2         60  '2020/12/03'    103       135     340.0\n",
      "3         45  '2020/12/04'    109       175     282.4\n",
      "4         45  '2020/12/05'    117       148     406.0\n",
      "5         60  '2020/12/06'    102       127     300.0\n",
      "6         60  '2020/12/07'    110       136     374.0\n",
      "7        450  '2020/12/08'    104       134     253.3\n",
      "8         30  '2020/12/09'    109       133     195.1\n",
      "9         60  '2020/12/10'     98       124     269.0\n",
      "10        60  '2020/12/11'    103       147     329.3\n",
      "11        60  '2020/12/12'    100       120     250.7\n",
      "12        60  '2020/12/12'    100       120     250.7\n",
      "13        60  '2020/12/13'    106       128     345.3\n",
      "14        60  '2020/12/14'    104       132     379.3\n",
      "15        60  '2020/12/15'     98       123     275.0\n",
      "16        60  '2020/12/16'     98       120     215.2\n",
      "17        60  '2020/12/17'    100       120     300.0\n",
      "18        45  '2020/12/18'     90       112       NaN\n",
      "19        60  '2020/12/19'    103       123     323.0\n",
      "20        45  '2020/12/20'     97       125     243.0\n",
      "21        60  '2020/12/21'    108       131     364.2\n",
      "22        45           NaN    100       119     282.0\n",
      "23        60  '2020/12/23'    130       101     300.0\n",
      "24        45  '2020/12/24'    105       132     246.0\n",
      "25        60  '2020/12/25'    102       126     334.5\n",
      "26        60      20201226    100       120     250.0\n",
      "27        60  '2020/12/27'     92       118     241.0\n",
      "28        60  '2020/12/28'    103       132       NaN\n",
      "29        60  '2020/12/29'    100       132     280.0\n",
      "30        60  '2020/12/30'    102       129     380.3\n",
      "31        60  '2020/12/31'     92       115     243.0\n"
     ]
    }
   ],
   "source": [
    "import pandas as pd\n",
    "raw_data=pd.read_csv(r\"C:\\Users\\Aqsa Kanwal\\Desktop\\rawdata\\Dataset.csv\")\n",
    "print(raw_data)"
   ]
  },
  {
   "cell_type": "code",
   "execution_count": 24,
   "id": "f3ef78e3",
   "metadata": {},
   "outputs": [
    {
     "name": "stdout",
     "output_type": "stream",
     "text": [
      "    Duration          Date  Pulse  Maxpulse  Calories\n",
      "0         60  '2020/12/01'    110       130     409.1\n",
      "1         60  '2020/12/02'    117       145     479.0\n",
      "2         60  '2020/12/03'    103       135     340.0\n",
      "3         45  '2020/12/04'    109       175     282.4\n",
      "4         45  '2020/12/05'    117       148     406.0\n",
      "5         60  '2020/12/06'    102       127     300.0\n",
      "6         60  '2020/12/07'    110       136     374.0\n",
      "7        450  '2020/12/08'    104       134     253.3\n",
      "8         30  '2020/12/09'    109       133     195.1\n",
      "9         60  '2020/12/10'     98       124     269.0\n",
      "10        60  '2020/12/11'    103       147     329.3\n",
      "11        60  '2020/12/12'    100       120     250.7\n",
      "12        60  '2020/12/12'    100       120     250.7\n",
      "13        60  '2020/12/13'    106       128     345.3\n",
      "14        60  '2020/12/14'    104       132     379.3\n",
      "15        60  '2020/12/15'     98       123     275.0\n",
      "16        60  '2020/12/16'     98       120     215.2\n",
      "17        60  '2020/12/17'    100       120     300.0\n",
      "18        45  '2020/12/18'     90       112     300.0\n",
      "19        60  '2020/12/19'    103       123     323.0\n",
      "20        45  '2020/12/20'     97       125     243.0\n",
      "21        60  '2020/12/21'    108       131     364.2\n",
      "22        45           NaN    100       119     282.0\n",
      "23        60  '2020/12/23'    130       101     300.0\n",
      "24        45  '2020/12/24'    105       132     246.0\n",
      "25        60  '2020/12/25'    102       126     334.5\n",
      "26        60      20201226    100       120     250.0\n",
      "27        60  '2020/12/27'     92       118     241.0\n",
      "28        60  '2020/12/28'    103       132     300.0\n",
      "29        60  '2020/12/29'    100       132     280.0\n",
      "30        60  '2020/12/30'    102       129     380.3\n",
      "31        60  '2020/12/31'     92       115     243.0\n"
     ]
    }
   ],
   "source": [
    "x=raw_data[\"Calories\"].mode()[0]\n",
    "raw_data[\"Calories\"].fillna(x,inplace=True)\n",
    "print(raw_data)"
   ]
  },
  {
   "cell_type": "markdown",
   "id": "3e6dfdc3",
   "metadata": {},
   "source": [
    "# 2: Cleaning Data of Wrong Format\n"
   ]
  },
  {
   "cell_type": "code",
   "execution_count": 1,
   "id": "c728634a",
   "metadata": {},
   "outputs": [
    {
     "name": "stdout",
     "output_type": "stream",
     "text": [
      "    Duration          Date  Pulse  Maxpulse  Calories\n",
      "0         60  '2020/12/01'    110       130     409.1\n",
      "1         60  '2020/12/02'    117       145     479.0\n",
      "2         60  '2020/12/03'    103       135     340.0\n",
      "3         45  '2020/12/04'    109       175     282.4\n",
      "4         45  '2020/12/05'    117       148     406.0\n",
      "5         60  '2020/12/06'    102       127     300.0\n",
      "6         60  '2020/12/07'    110       136     374.0\n",
      "7        450  '2020/12/08'    104       134     253.3\n",
      "8         30  '2020/12/09'    109       133     195.1\n",
      "9         60  '2020/12/10'     98       124     269.0\n",
      "10        60  '2020/12/11'    103       147     329.3\n",
      "11        60  '2020/12/12'    100       120     250.7\n",
      "12        60  '2020/12/12'    100       120     250.7\n",
      "13        60  '2020/12/13'    106       128     345.3\n",
      "14        60  '2020/12/14'    104       132     379.3\n",
      "15        60  '2020/12/15'     98       123     275.0\n",
      "16        60  '2020/12/16'     98       120     215.2\n",
      "17        60  '2020/12/17'    100       120     300.0\n",
      "18        45  '2020/12/18'     90       112       NaN\n",
      "19        60  '2020/12/19'    103       123     323.0\n",
      "20        45  '2020/12/20'     97       125     243.0\n",
      "21        60  '2020/12/21'    108       131     364.2\n",
      "22        45           NaN    100       119     282.0\n",
      "23        60  '2020/12/23'    130       101     300.0\n",
      "24        45  '2020/12/24'    105       132     246.0\n",
      "25        60  '2020/12/25'    102       126     334.5\n",
      "26        60      20201226    100       120     250.0\n",
      "27        60  '2020/12/27'     92       118     241.0\n",
      "28        60  '2020/12/28'    103       132       NaN\n",
      "29        60  '2020/12/29'    100       132     280.0\n",
      "30        60  '2020/12/30'    102       129     380.3\n",
      "31        60  '2020/12/31'     92       115     243.0\n"
     ]
    }
   ],
   "source": [
    "import pandas as pd\n",
    "raw_data=pd.read_csv(r\"C:\\Users\\Aqsa Kanwal\\Desktop\\rawdata\\Dataset.csv\")\n",
    "print(raw_data)"
   ]
  },
  {
   "cell_type": "markdown",
   "id": "9c12b039",
   "metadata": {},
   "source": [
    "# Convert Into a Correct Format"
   ]
  },
  {
   "cell_type": "code",
   "execution_count": 4,
   "id": "848d8bd3",
   "metadata": {},
   "outputs": [
    {
     "name": "stdout",
     "output_type": "stream",
     "text": [
      "    Duration       Date  Pulse  Maxpulse  Calories\n",
      "0         60 2020-12-01    110       130     409.1\n",
      "1         60 2020-12-02    117       145     479.0\n",
      "2         60 2020-12-03    103       135     340.0\n",
      "3         45 2020-12-04    109       175     282.4\n",
      "4         45 2020-12-05    117       148     406.0\n",
      "5         60 2020-12-06    102       127     300.0\n",
      "6         60 2020-12-07    110       136     374.0\n",
      "7        450 2020-12-08    104       134     253.3\n",
      "8         30 2020-12-09    109       133     195.1\n",
      "9         60 2020-12-10     98       124     269.0\n",
      "10        60 2020-12-11    103       147     329.3\n",
      "11        60 2020-12-12    100       120     250.7\n",
      "12        60 2020-12-12    100       120     250.7\n",
      "13        60 2020-12-13    106       128     345.3\n",
      "14        60 2020-12-14    104       132     379.3\n",
      "15        60 2020-12-15     98       123     275.0\n",
      "16        60 2020-12-16     98       120     215.2\n",
      "17        60 2020-12-17    100       120     300.0\n",
      "18        45 2020-12-18     90       112       NaN\n",
      "19        60 2020-12-19    103       123     323.0\n",
      "20        45 2020-12-20     97       125     243.0\n",
      "21        60 2020-12-21    108       131     364.2\n",
      "22        45        NaT    100       119     282.0\n",
      "23        60 2020-12-23    130       101     300.0\n",
      "24        45 2020-12-24    105       132     246.0\n",
      "25        60 2020-12-25    102       126     334.5\n",
      "26        60 2020-12-26    100       120     250.0\n",
      "27        60 2020-12-27     92       118     241.0\n",
      "28        60 2020-12-28    103       132       NaN\n",
      "29        60 2020-12-29    100       132     280.0\n",
      "30        60 2020-12-30    102       129     380.3\n",
      "31        60 2020-12-31     92       115     243.0\n"
     ]
    }
   ],
   "source": [
    "import pandas as pd\n",
    "from dateutil.parser import parse\n",
    "raw_data=pd.read_csv(r\"C:\\Users\\Aqsa Kanwal\\Desktop\\rawdata\\Dataset.csv\")\n",
    "clean_data=raw_data.copy()\n",
    "# Convert the 'Date' column to date format using dateutil parser\n",
    "clean_data[\"Date\"]=clean_data[\"Date\"].apply(lambda x: parse(x) if pd.notnull(x) else x)\n",
    "# Display the updated DataFrame\n",
    "print(clean_data)"
   ]
  },
  {
   "cell_type": "markdown",
   "id": "9865a06f",
   "metadata": {},
   "source": [
    "# Removing Rows"
   ]
  },
  {
   "cell_type": "code",
   "execution_count": 6,
   "id": "5646e350",
   "metadata": {},
   "outputs": [
    {
     "name": "stdout",
     "output_type": "stream",
     "text": [
      "    Duration       Date  Pulse  Maxpulse  Calories\n",
      "0         60 2020-12-01    110       130     409.1\n",
      "1         60 2020-12-02    117       145     479.0\n",
      "2         60 2020-12-03    103       135     340.0\n",
      "3         45 2020-12-04    109       175     282.4\n",
      "4         45 2020-12-05    117       148     406.0\n",
      "5         60 2020-12-06    102       127     300.0\n",
      "6         60 2020-12-07    110       136     374.0\n",
      "7        450 2020-12-08    104       134     253.3\n",
      "8         30 2020-12-09    109       133     195.1\n",
      "9         60 2020-12-10     98       124     269.0\n",
      "10        60 2020-12-11    103       147     329.3\n",
      "11        60 2020-12-12    100       120     250.7\n",
      "12        60 2020-12-12    100       120     250.7\n",
      "13        60 2020-12-13    106       128     345.3\n",
      "14        60 2020-12-14    104       132     379.3\n",
      "15        60 2020-12-15     98       123     275.0\n",
      "16        60 2020-12-16     98       120     215.2\n",
      "17        60 2020-12-17    100       120     300.0\n",
      "18        45 2020-12-18     90       112       NaN\n",
      "19        60 2020-12-19    103       123     323.0\n",
      "20        45 2020-12-20     97       125     243.0\n",
      "21        60 2020-12-21    108       131     364.2\n",
      "23        60 2020-12-23    130       101     300.0\n",
      "24        45 2020-12-24    105       132     246.0\n",
      "25        60 2020-12-25    102       126     334.5\n",
      "26        60 2020-12-26    100       120     250.0\n",
      "27        60 2020-12-27     92       118     241.0\n",
      "28        60 2020-12-28    103       132       NaN\n",
      "29        60 2020-12-29    100       132     280.0\n",
      "30        60 2020-12-30    102       129     380.3\n",
      "31        60 2020-12-31     92       115     243.0\n"
     ]
    }
   ],
   "source": [
    "clean_data.dropna(subset=[\"Date\"],inplace=True)\n",
    "print(clean_data)"
   ]
  },
  {
   "cell_type": "markdown",
   "id": "6fec56f4",
   "metadata": {},
   "source": [
    "# 3: Fixing Wrong Data"
   ]
  },
  {
   "cell_type": "code",
   "execution_count": 8,
   "id": "91f6f67d",
   "metadata": {},
   "outputs": [
    {
     "name": "stdout",
     "output_type": "stream",
     "text": [
      "    Duration          Date  Pulse  Maxpulse  Calories\n",
      "0         60  '2020/12/01'    110       130     409.1\n",
      "1         60  '2020/12/02'    117       145     479.0\n",
      "2         60  '2020/12/03'    103       135     340.0\n",
      "3         45  '2020/12/04'    109       175     282.4\n",
      "4         45  '2020/12/05'    117       148     406.0\n",
      "5         60  '2020/12/06'    102       127     300.0\n",
      "6         60  '2020/12/07'    110       136     374.0\n",
      "7         45  '2020/12/08'    104       134     253.3\n",
      "8         30  '2020/12/09'    109       133     195.1\n",
      "9         60  '2020/12/10'     98       124     269.0\n",
      "10        60  '2020/12/11'    103       147     329.3\n",
      "11        60  '2020/12/12'    100       120     250.7\n",
      "12        60  '2020/12/12'    100       120     250.7\n",
      "13        60  '2020/12/13'    106       128     345.3\n",
      "14        60  '2020/12/14'    104       132     379.3\n",
      "15        60  '2020/12/15'     98       123     275.0\n",
      "16        60  '2020/12/16'     98       120     215.2\n",
      "17        60  '2020/12/17'    100       120     300.0\n",
      "18        45  '2020/12/18'     90       112       NaN\n",
      "19        60  '2020/12/19'    103       123     323.0\n",
      "20        45  '2020/12/20'     97       125     243.0\n",
      "21        60  '2020/12/21'    108       131     364.2\n",
      "22        45           NaN    100       119     282.0\n",
      "23        60  '2020/12/23'    130       101     300.0\n",
      "24        45  '2020/12/24'    105       132     246.0\n",
      "25        60  '2020/12/25'    102       126     334.5\n",
      "26        60      20201226    100       120     250.0\n",
      "27        60  '2020/12/27'     92       118     241.0\n",
      "28        60  '2020/12/28'    103       132       NaN\n",
      "29        60  '2020/12/29'    100       132     280.0\n",
      "30        60  '2020/12/30'    102       129     380.3\n",
      "31        60  '2020/12/31'     92       115     243.0\n"
     ]
    }
   ],
   "source": [
    "import pandas as pd\n",
    "raw_data=pd.read_csv(r\"C:\\Users\\Aqsa Kanwal\\Desktop\\rawdata\\Dataset.csv\")\n",
    "raw_data.loc[7,'Duration']=45\n",
    "print(raw_data.to_string())"
   ]
  },
  {
   "cell_type": "markdown",
   "id": "89fae0a5",
   "metadata": {},
   "source": [
    "# Using loop"
   ]
  },
  {
   "cell_type": "code",
   "execution_count": 11,
   "id": "926a61d4",
   "metadata": {},
   "outputs": [
    {
     "name": "stdout",
     "output_type": "stream",
     "text": [
      "    Duration          Date  Pulse  Maxpulse  Calories\n",
      "0         60  '2020/12/01'    110       130     409.1\n",
      "1         60  '2020/12/02'    117       145     479.0\n",
      "2         60  '2020/12/03'    103       135     340.0\n",
      "3         45  '2020/12/04'    109       175     282.4\n",
      "4         45  '2020/12/05'    117       148     406.0\n",
      "5         60  '2020/12/06'    102       127     300.0\n",
      "6         60  '2020/12/07'    110       136     374.0\n",
      "7        120  '2020/12/08'    104       134     253.3\n",
      "8         30  '2020/12/09'    109       133     195.1\n",
      "9         60  '2020/12/10'     98       124     269.0\n",
      "10        60  '2020/12/11'    103       147     329.3\n",
      "11        60  '2020/12/12'    100       120     250.7\n",
      "12        60  '2020/12/12'    100       120     250.7\n",
      "13        60  '2020/12/13'    106       128     345.3\n",
      "14        60  '2020/12/14'    104       132     379.3\n",
      "15        60  '2020/12/15'     98       123     275.0\n",
      "16        60  '2020/12/16'     98       120     215.2\n",
      "17        60  '2020/12/17'    100       120     300.0\n",
      "18        45  '2020/12/18'     90       112       NaN\n",
      "19        60  '2020/12/19'    103       123     323.0\n",
      "20        45  '2020/12/20'     97       125     243.0\n",
      "21        60  '2020/12/21'    108       131     364.2\n",
      "22        45           NaN    100       119     282.0\n",
      "23        60  '2020/12/23'    130       101     300.0\n",
      "24        45  '2020/12/24'    105       132     246.0\n",
      "25        60  '2020/12/25'    102       126     334.5\n",
      "26        60      20201226    100       120     250.0\n",
      "27        60  '2020/12/27'     92       118     241.0\n",
      "28        60  '2020/12/28'    103       132       NaN\n",
      "29        60  '2020/12/29'    100       132     280.0\n",
      "30        60  '2020/12/30'    102       129     380.3\n",
      "31        60  '2020/12/31'     92       115     243.0\n"
     ]
    }
   ],
   "source": [
    "import pandas as pd\n",
    "raw_data=pd.read_csv(r\"C:\\Users\\Aqsa Kanwal\\Desktop\\rawdata\\Dataset.csv\")\n",
    "for x in raw_data.index:\n",
    "    if raw_data.loc[x,'Duration'] >120:\n",
    "        raw_data.loc[x,'Duration']=120   \n",
    "print(raw_data.to_string())"
   ]
  },
  {
   "cell_type": "markdown",
   "id": "3649fb22",
   "metadata": {},
   "source": [
    "# Removing Rows"
   ]
  },
  {
   "cell_type": "code",
   "execution_count": 12,
   "id": "7f959a4d",
   "metadata": {},
   "outputs": [
    {
     "name": "stdout",
     "output_type": "stream",
     "text": [
      "    Duration          Date  Pulse  Maxpulse  Calories\n",
      "0         60  '2020/12/01'    110       130     409.1\n",
      "1         60  '2020/12/02'    117       145     479.0\n",
      "2         60  '2020/12/03'    103       135     340.0\n",
      "3         45  '2020/12/04'    109       175     282.4\n",
      "4         45  '2020/12/05'    117       148     406.0\n",
      "5         60  '2020/12/06'    102       127     300.0\n",
      "6         60  '2020/12/07'    110       136     374.0\n",
      "8         30  '2020/12/09'    109       133     195.1\n",
      "9         60  '2020/12/10'     98       124     269.0\n",
      "10        60  '2020/12/11'    103       147     329.3\n",
      "11        60  '2020/12/12'    100       120     250.7\n",
      "12        60  '2020/12/12'    100       120     250.7\n",
      "13        60  '2020/12/13'    106       128     345.3\n",
      "14        60  '2020/12/14'    104       132     379.3\n",
      "15        60  '2020/12/15'     98       123     275.0\n",
      "16        60  '2020/12/16'     98       120     215.2\n",
      "17        60  '2020/12/17'    100       120     300.0\n",
      "18        45  '2020/12/18'     90       112       NaN\n",
      "19        60  '2020/12/19'    103       123     323.0\n",
      "20        45  '2020/12/20'     97       125     243.0\n",
      "21        60  '2020/12/21'    108       131     364.2\n",
      "22        45           NaN    100       119     282.0\n",
      "23        60  '2020/12/23'    130       101     300.0\n",
      "24        45  '2020/12/24'    105       132     246.0\n",
      "25        60  '2020/12/25'    102       126     334.5\n",
      "26        60      20201226    100       120     250.0\n",
      "27        60  '2020/12/27'     92       118     241.0\n",
      "28        60  '2020/12/28'    103       132       NaN\n",
      "29        60  '2020/12/29'    100       132     280.0\n",
      "30        60  '2020/12/30'    102       129     380.3\n",
      "31        60  '2020/12/31'     92       115     243.0\n"
     ]
    }
   ],
   "source": [
    "import pandas as pd\n",
    "raw_data=pd.read_csv(r\"C:\\Users\\Aqsa Kanwal\\Desktop\\rawdata\\Dataset.csv\")\n",
    "for i in raw_data.index:\n",
    "    if raw_data.loc[i,'Duration'] >120:\n",
    "        raw_data.drop(i,inplace=True)\n",
    "print(raw_data.to_string())"
   ]
  },
  {
   "cell_type": "markdown",
   "id": "86ad7133",
   "metadata": {},
   "source": [
    "# 4: Removing Duplicates"
   ]
  },
  {
   "cell_type": "markdown",
   "id": "a6d872a9",
   "metadata": {},
   "source": [
    "# Discovering Duplicates"
   ]
  },
  {
   "cell_type": "code",
   "execution_count": 13,
   "id": "66fed6d4",
   "metadata": {},
   "outputs": [
    {
     "name": "stdout",
     "output_type": "stream",
     "text": [
      "0     False\n",
      "1     False\n",
      "2     False\n",
      "3     False\n",
      "4     False\n",
      "5     False\n",
      "6     False\n",
      "7     False\n",
      "8     False\n",
      "9     False\n",
      "10    False\n",
      "11    False\n",
      "12     True\n",
      "13    False\n",
      "14    False\n",
      "15    False\n",
      "16    False\n",
      "17    False\n",
      "18    False\n",
      "19    False\n",
      "20    False\n",
      "21    False\n",
      "22    False\n",
      "23    False\n",
      "24    False\n",
      "25    False\n",
      "26    False\n",
      "27    False\n",
      "28    False\n",
      "29    False\n",
      "30    False\n",
      "31    False\n",
      "dtype: bool\n"
     ]
    }
   ],
   "source": [
    "import pandas as pd\n",
    "raw_data=pd.read_csv(r\"C:\\Users\\Aqsa Kanwal\\Desktop\\rawdata\\Dataset.csv\")\n",
    "print(raw_data.duplicated())"
   ]
  },
  {
   "cell_type": "markdown",
   "id": "8f4279fb",
   "metadata": {},
   "source": [
    "# Removing Duplicates"
   ]
  },
  {
   "cell_type": "code",
   "execution_count": 14,
   "id": "a0c2f413",
   "metadata": {},
   "outputs": [
    {
     "name": "stdout",
     "output_type": "stream",
     "text": [
      "    Duration          Date  Pulse  Maxpulse  Calories\n",
      "0         60  '2020/12/01'    110       130     409.1\n",
      "1         60  '2020/12/02'    117       145     479.0\n",
      "2         60  '2020/12/03'    103       135     340.0\n",
      "3         45  '2020/12/04'    109       175     282.4\n",
      "4         45  '2020/12/05'    117       148     406.0\n",
      "5         60  '2020/12/06'    102       127     300.0\n",
      "6         60  '2020/12/07'    110       136     374.0\n",
      "7        450  '2020/12/08'    104       134     253.3\n",
      "8         30  '2020/12/09'    109       133     195.1\n",
      "9         60  '2020/12/10'     98       124     269.0\n",
      "10        60  '2020/12/11'    103       147     329.3\n",
      "11        60  '2020/12/12'    100       120     250.7\n",
      "13        60  '2020/12/13'    106       128     345.3\n",
      "14        60  '2020/12/14'    104       132     379.3\n",
      "15        60  '2020/12/15'     98       123     275.0\n",
      "16        60  '2020/12/16'     98       120     215.2\n",
      "17        60  '2020/12/17'    100       120     300.0\n",
      "18        45  '2020/12/18'     90       112       NaN\n",
      "19        60  '2020/12/19'    103       123     323.0\n",
      "20        45  '2020/12/20'     97       125     243.0\n",
      "21        60  '2020/12/21'    108       131     364.2\n",
      "22        45           NaN    100       119     282.0\n",
      "23        60  '2020/12/23'    130       101     300.0\n",
      "24        45  '2020/12/24'    105       132     246.0\n",
      "25        60  '2020/12/25'    102       126     334.5\n",
      "26        60      20201226    100       120     250.0\n",
      "27        60  '2020/12/27'     92       118     241.0\n",
      "28        60  '2020/12/28'    103       132       NaN\n",
      "29        60  '2020/12/29'    100       132     280.0\n",
      "30        60  '2020/12/30'    102       129     380.3\n",
      "31        60  '2020/12/31'     92       115     243.0\n"
     ]
    }
   ],
   "source": [
    "raw_data.drop_duplicates(inplace=True)\n",
    "print(raw_data)"
   ]
  },
  {
   "cell_type": "markdown",
   "id": "bd44c34a",
   "metadata": {},
   "source": [
    "# Pandas - Data Correlations\n"
   ]
  },
  {
   "cell_type": "code",
   "execution_count": 5,
   "id": "78f4d157",
   "metadata": {},
   "outputs": [
    {
     "name": "stdout",
     "output_type": "stream",
     "text": [
      "    Duration       Date  Pulse  Maxpulse  Calories\n",
      "0         60 2020-12-01    110       130     409.1\n",
      "1         60 2020-12-02    117       145     479.0\n",
      "2         60 2020-12-03    103       135     340.0\n",
      "3         45 2020-12-04    109       175     282.4\n",
      "4         45 2020-12-05    117       148     406.0\n",
      "5         60 2020-12-06    102       127     300.0\n",
      "6         60 2020-12-07    110       136     374.0\n",
      "7        450 2020-12-08    104       134     253.3\n",
      "8         30 2020-12-09    109       133     195.1\n",
      "9         60 2020-12-10     98       124     269.0\n",
      "10        60 2020-12-11    103       147     329.3\n",
      "11        60 2020-12-12    100       120     250.7\n",
      "12        60 2020-12-12    100       120     250.7\n",
      "13        60 2020-12-13    106       128     345.3\n",
      "14        60 2020-12-14    104       132     379.3\n",
      "15        60 2020-12-15     98       123     275.0\n",
      "16        60 2020-12-16     98       120     215.2\n",
      "17        60 2020-12-17    100       120     300.0\n",
      "18        45 2020-12-18     90       112       NaN\n",
      "19        60 2020-12-19    103       123     323.0\n",
      "20        45 2020-12-20     97       125     243.0\n",
      "21        60 2020-12-21    108       131     364.2\n",
      "22        45        NaT    100       119     282.0\n",
      "23        60 2020-12-23    130       101     300.0\n",
      "24        45 2020-12-24    105       132     246.0\n",
      "25        60 2020-12-25    102       126     334.5\n",
      "26        60 2020-12-26    100       120     250.0\n",
      "27        60 2020-12-27     92       118     241.0\n",
      "28        60 2020-12-28    103       132       NaN\n",
      "29        60 2020-12-29    100       132     280.0\n",
      "30        60 2020-12-30    102       129     380.3\n",
      "31        60 2020-12-31     92       115     243.0\n",
      "          Duration      Date     Pulse  Maxpulse  Calories\n",
      "Duration  1.000000  0.061008  0.004410  0.049959 -0.114169\n",
      "Date      0.061008  1.000000  0.081393  0.133163  0.064762\n",
      "Pulse     0.004410  0.081393  1.000000  0.276583  0.513186\n",
      "Maxpulse  0.049959  0.133163  0.276583  1.000000  0.357460\n",
      "Calories -0.114169  0.064762  0.513186  0.357460  1.000000\n"
     ]
    }
   ],
   "source": [
    "import pandas as pd\n",
    "from dateutil.parser import parse\n",
    "raw_data=pd.read_csv(r\"C:\\Users\\Aqsa Kanwal\\Desktop\\rawdata\\Dataset.csv\")\n",
    "clean_data=raw_data.copy()\n",
    "# Convert the 'Date' column to date format using dateutil parser\n",
    "clean_data[\"Date\"]=clean_data[\"Date\"].apply(lambda x: parse(x) if pd.notnull(x) else x)\n",
    "# Display the updated DataFrame\n",
    "print(clean_data)\n",
    "print(clean_data.corr())"
   ]
  },
  {
   "cell_type": "code",
   "execution_count": null,
   "id": "4226511a",
   "metadata": {},
   "outputs": [],
   "source": []
  }
 ],
 "metadata": {
  "kernelspec": {
   "display_name": "Python 3 (ipykernel)",
   "language": "python",
   "name": "python3"
  },
  "language_info": {
   "codemirror_mode": {
    "name": "ipython",
    "version": 3
   },
   "file_extension": ".py",
   "mimetype": "text/x-python",
   "name": "python",
   "nbconvert_exporter": "python",
   "pygments_lexer": "ipython3",
   "version": "3.11.5"
  }
 },
 "nbformat": 4,
 "nbformat_minor": 5
}
